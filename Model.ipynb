{
  "nbformat": 4,
  "nbformat_minor": 0,
  "metadata": {
    "colab": {
      "name": "Model",
      "provenance": [],
      "collapsed_sections": [],
      "authorship_tag": "ABX9TyOACIBulEjnQHLaBpwgOVf6",
      "include_colab_link": true
    },
    "kernelspec": {
      "display_name": "Python 3",
      "name": "python3"
    }
  },
  "cells": [
    {
      "cell_type": "markdown",
      "metadata": {
        "id": "view-in-github",
        "colab_type": "text"
      },
      "source": [
        "<a href=\"https://colab.research.google.com/github/Manish533005/nlp_chatbot/blob/main/Model.ipynb\" target=\"_parent\"><img src=\"https://colab.research.google.com/assets/colab-badge.svg\" alt=\"Open In Colab\"/></a>"
      ]
    },
    {
      "cell_type": "code",
      "metadata": {
        "colab": {
          "base_uri": "https://localhost:8080/"
        },
        "id": "92kh7f5BnTJS",
        "outputId": "5806eb32-3d04-4dca-8f31-2b52a90e36fe"
      },
      "source": [
        "import pickle\r\n",
        "import numpy as np\r\n",
        "from keras.models import load_model\r\n",
        "import json\r\n",
        "import random\r\n",
        "from fuzzywuzzy import process\r\n",
        "import spacy\r\n",
        "model =load_model(\"chatbot_6.h5\")\r\n",
        "intents = json.loads(open('chatbot_dataset.json').read())\r\n",
        "intents_1=json.loads(open(\"food_document.json\").read())\r\n",
        "words = pickle.load(open('words.pkl','rb'))\r\n",
        "classes = pickle.load(open('classes.pkl','rb'))\r\n",
        "nlp=spacy.load(\"en_core_web_sm\")\r\n",
        "print(len(words))\r\n",
        "print(len(classes))\r\n",
        "items_append=[]\r\n",
        "price_append=[]"
      ],
      "execution_count": 229,
      "outputs": [
        {
          "output_type": "stream",
          "text": [
            "79\n",
            "14\n"
          ],
          "name": "stdout"
        }
      ]
    },
    {
      "cell_type": "code",
      "metadata": {
        "colab": {
          "base_uri": "https://localhost:8080/"
        },
        "id": "6_g9gniupgp9",
        "outputId": "3fb666ae-1e79-43c8-c612-5f74c194aab0"
      },
      "source": [
        "!pip install fuzzywuzzy"
      ],
      "execution_count": 190,
      "outputs": [
        {
          "output_type": "stream",
          "text": [
            "Requirement already satisfied: fuzzywuzzy in /usr/local/lib/python3.6/dist-packages (0.18.0)\n"
          ],
          "name": "stdout"
        }
      ]
    },
    {
      "cell_type": "code",
      "metadata": {
        "colab": {
          "base_uri": "https://localhost:8080/"
        },
        "id": "QDAmmhlWQSvU",
        "outputId": "edb88319-53a8-4137-fb1e-551293e31629"
      },
      "source": [
        "print(intents_1)"
      ],
      "execution_count": 191,
      "outputs": [
        {
          "output_type": "stream",
          "text": [
            "{'intents': [{'tag': 'Non-Veg Pizza', 'items': ['chicken pepperoni', 'Pepper Barbecue', 'Dominator', 'chicken Sausage', 'pepper barbecue and onion', 'Indi chicken tikka', 'Moroccan Spice Pasta Pizza'], 'size': ['small', 'medium', 'large'], 'price': [300, 550, 830]}, {'tag': 'Veg Pizza', 'items': ['peppy paneer', 'Mexican green wave', 'Veggie paradise', 'veg extravaganza', 'deluxe veggie', 'paneer Makhani', 'creamy tomato pasta '], 'size': ['small', 'medium', 'large'], 'price': [250, 499, 799]}, {'tag': 'Beverages', 'items': ['pepsi', 'slice', '7up', 'mirinda', 'nimbooz'], 'size': [], 'price': [50]}, {'tag': 'Slides', 'items': ['garlic breadsticks', 'taco mexicana veg', 'Butterscotch mouse cake'], 'size': [], 'price': [99]}]}\n"
          ],
          "name": "stdout"
        }
      ]
    },
    {
      "cell_type": "code",
      "metadata": {
        "colab": {
          "base_uri": "https://localhost:8080/"
        },
        "id": "Se06UOg2rFh1",
        "outputId": "050677f9-c2fc-42d3-d2ed-ed888e9ae687"
      },
      "source": [
        "print(words)"
      ],
      "execution_count": 192,
      "outputs": [
        {
          "output_type": "stream",
          "text": [
            "['-', '-PRON-', '7up', 'add', 'available', 'barbecue', 'beverage', 'breadstick', 'butterscotch', 'bye', 'cake', 'cancel', 'cancle', 'change', 'chat', 'chicken', 'combo', 'confirm', 'cool', 'creamy', 'deluxe', 'dominator', 'drink', 'edit', 'extravaganza', 'food', 'garlic', 'goodbye', 'green', 'hard', 'hello', 'hey', 'hi', 'hungry', 'indi', 'item', 'large', 'later', 'makhani', 'medium', 'menu', 'mexican', 'mexicana', 'mirinda', 'moroccan', 'mouse', 'nice', 'nimbooz', 'non', 'nonveg', 'onion', 'order', 'paneer', 'paradise', 'pasta', 'pepper', 'pepperoni', 'peppy', 'pepsi', 'pizza', 'remove', 'request', 'sausage', 'slice', 'slide', 'small', 'spice', 'taco', 'tikka', 'till', 'time', 'today', 'tomato', 'variety', 'veg', 'veggie', 'view', 'want', 'wave']\n"
          ],
          "name": "stdout"
        }
      ]
    },
    {
      "cell_type": "code",
      "metadata": {
        "id": "VrcKn8YsRwGM"
      },
      "source": [
        "all_stopwords = nlp.Defaults.stop_words\r\n",
        "sentence_2=[]\r\n",
        "sent=[]"
      ],
      "execution_count": 193,
      "outputs": []
    },
    {
      "cell_type": "code",
      "metadata": {
        "id": "LAWUX46Rnn2n"
      },
      "source": [
        "#tokenize each word\r\n",
        "def fuzzy(sentence):\r\n",
        "    str2match=sentence\r\n",
        "    strOptions=words\r\n",
        "    Ratios=process.extract(str2match,strOptions)\r\n",
        "    highest=process.extractOne(str2match,strOptions)\r\n",
        "    print(highest[0])\r\n",
        "    print(\"above is fuzzy wuzzy\")\r\n",
        "    return highest[0]\r\n",
        "def clean_up_sentence(sentence):\r\n",
        "        sentence_2=[]\r\n",
        "        sent=[]\r\n",
        "        sentence=str(sentence)\r\n",
        "        sentence_1=fuzzy(sentence)\r\n",
        "        sentence_words= nlp(sentence_1)\r\n",
        "        l=[]\r\n",
        "        for i in sentence_words:\r\n",
        "             i=str(i)\r\n",
        "             l.append(i)\r\n",
        "      \r\n",
        "        sentence_2.extend(l)\r\n",
        "        # lemmatizing the words\r\n",
        "        sent=[nlp(word.lower())[0].lemma_ for word in sentence_2]\r\n",
        "        sent=[ w  for w in sent if w not in all_stopwords]\r\n",
        "        return sent\r\n",
        "def bow(sentence ,words):\r\n",
        "\r\n",
        "    sentence_words = clean_up_sentence(sentence)\r\n",
        "    # bag of words - matrix of N words, vocabulary matrix\r\n",
        "    bag = [0]*len(words) \r\n",
        "    for s in sentence_words:\r\n",
        "        for i,w in enumerate(words):\r\n",
        "            if w == s: \r\n",
        "                # assign 1 if current word is in the vocabulary position\r\n",
        "                bag[i] = 1\r\n",
        "                \r\n",
        "    return(np.array(bag))\r\n",
        "\r\n",
        "def predict_class(sentence, model):\r\n",
        "    # filter out predictions below a threshold\r\n",
        "    p = bow(sentence, words)\r\n",
        "    res = model.predict(np.array([p]))[0]\r\n",
        "    print(res)\r\n",
        "    print(\"above is res in predict class\")\r\n",
        "    ERROR_THRESHOLD = 0.25\r\n",
        "    results = [[i,r] for i,r in enumerate(res) if r>ERROR_THRESHOLD]\r\n",
        "    # sort by strength of probability\r\n",
        "    results.sort(key=lambda x: x[1], reverse=True)\r\n",
        "    print(results)\r\n",
        "    print(\"print above  results\")\r\n",
        "    return_list = []\r\n",
        "    for r in results:\r\n",
        "        return_list.append({\"intent\": classes[r[0]], \"probability\": str(r[1])})\r\n",
        "    print(return_list)\r\n",
        "    print(\"print above return_list\")    \r\n",
        "    return return_list    "
      ],
      "execution_count": 194,
      "outputs": []
    },
    {
      "cell_type": "code",
      "metadata": {
        "id": "ir-MZyCCnvAH"
      },
      "source": [
        "def getResponse(ints, intents_json):\r\n",
        "    tag = ints[0]['intent']\r\n",
        "    list_of_intents = intents_json['intents']\r\n",
        "    for i in list_of_intents:\r\n",
        "        if(i['tag']== tag):\r\n",
        "            result = random.choice(i['responses'])\r\n",
        "            print(result)\r\n",
        "            print(\"above is result in get response\")\r\n",
        "            break\r\n",
        "    return result\r\n",
        "\r\n",
        "def chatbot_response(text):\r\n",
        "    fuzzy_1=fuzzy(text)\r\n",
        "    print(fuzzy_1,\"it is from fuzzy\")\r\n",
        "    ints = predict_class(text, model)\r\n",
        "    print(ints)\r\n",
        "    print(\"chatbot\")\r\n",
        "    res = getResponse(ints, intents)\r\n",
        "    tag = ints[0]['intent']\r\n",
        "    \r\n",
        "    if tag==\"order_food\":\r\n",
        "         k=print_menu()\r\n",
        "         res=res+\" \\n \"+ k[0] +\" \\n \"+ k[1] +\" \\n \"+ k[2] +\" \\n \"+k[3]\r\n",
        "    elif tag==\"Non-Veg Pizza\":\r\n",
        "         q=print_nonveg()\r\n",
        "         res=res+\" \\n \"+ q[0] +\" \\n \"+ q[1] +\" \\n \"+ q[2] +\" \\n \"+q[3]+\" \\n \"\r\n",
        "\r\n",
        "    elif tag==\"Veg Pizza\":\r\n",
        "         v=print_veg()\r\n",
        "         res=res+\" \\n \"+ v[0] +\" \\n \"+ v[1] +\" \\n \"+ v[2] +\" \\n \"+v[3]+\" \\n \"\r\n",
        "    elif tag==\"Beverages\":\r\n",
        "         B=print_bever()\r\n",
        "         res=res+\" \\n \"+ B[0] +\" \\n \"+ B[1] +\" \\n \"+ B[2] +\" \\n \"+B[3]+\" \\n \"\r\n",
        "    elif tag==\"Slides\":\r\n",
        "         s=print_slides()\r\n",
        "         res=res+\" \\n \"+ s[0] +\" \\n \"+ s[1] +\" \\n \"+ s[2] +\" \\n \"\r\n",
        "    elif tag==\"food_item\":\r\n",
        "         f=cart(fuzzy_1,tag) \r\n",
        "         a,b=f\r\n",
        "         items_append.extend(b)\r\n",
        "         price_append.extend(a)\r\n",
        "         print(price_append)\r\n",
        "         total_items(price_append,items_append)\r\n",
        "    elif tag==\"confirm_order\":\r\n",
        "\r\n",
        "         total_items(price_append,items_append)    \r\n",
        "\r\n",
        "\r\n",
        "\r\n",
        "         \r\n",
        "\r\n",
        "    \r\n",
        "\r\n",
        "  \r\n",
        "    \r\n",
        "         \r\n",
        "\r\n",
        "    return res"
      ],
      "execution_count": 241,
      "outputs": []
    },
    {
      "cell_type": "code",
      "metadata": {
        "id": "M070ROHPbYh4"
      },
      "source": [
        "def print_nonveg():\r\n",
        "    food=[]\r\n",
        "    for intent in intents_1['intents']:\r\n",
        "        if intent['tag']==\"Non-Veg Pizza\":\r\n",
        "          for i in intent['items']:\r\n",
        "            food.append(i)        \r\n",
        "    return food       "
      ],
      "execution_count": 196,
      "outputs": []
    },
    {
      "cell_type": "code",
      "metadata": {
        "id": "taVYNJX7Zmyc"
      },
      "source": [
        "#method to print the menu\r\n",
        "def print_menu():\r\n",
        "  l=[]\r\n",
        "  for intent in intents_1['intents']:\r\n",
        "      l.append(intent['tag'])\r\n",
        "  return l"
      ],
      "execution_count": 197,
      "outputs": []
    },
    {
      "cell_type": "code",
      "metadata": {
        "id": "kEkp4O01eicw"
      },
      "source": [
        "def print_veg():\r\n",
        "    food=[]\r\n",
        "    for intent in intents_1['intents']:\r\n",
        "        if intent['tag']==\"Veg Pizza\":\r\n",
        "            for i in intent['items']:\r\n",
        "                food.append(i)        \r\n",
        "    return food\r\n",
        "print_veg()     "
      ],
      "execution_count": null,
      "outputs": []
    },
    {
      "cell_type": "code",
      "metadata": {
        "id": "gAdoVIkPfe9e"
      },
      "source": [
        "def print_bever():\r\n",
        "    food=[]\r\n",
        "    for intent in intents_1['intents']:\r\n",
        "        if intent['tag']==\"Beverages\":\r\n",
        "            for i in intent['items']:\r\n",
        "                food.append(i)        \r\n",
        "    return food\r\n",
        "print_bever()    "
      ],
      "execution_count": null,
      "outputs": []
    },
    {
      "cell_type": "code",
      "metadata": {
        "id": "E8z0IshXfs15"
      },
      "source": [
        "def print_slides():\r\n",
        "    food=[]\r\n",
        "    for intent in intents_1['intents']:\r\n",
        "        if intent['tag']==\"Slides\":\r\n",
        "            for i in intent['items']:\r\n",
        "                food.append(i)        \r\n",
        "    return food\r\n",
        "print_slides()    "
      ],
      "execution_count": null,
      "outputs": []
    },
    {
      "cell_type": "code",
      "metadata": {
        "id": "knX2Roy7bPtg"
      },
      "source": [
        "list_items=[]\r\n",
        "for intent in intents['intents']:\r\n",
        "        if intent['tag']==\"food_item\":\r\n",
        "            for i in intent['patterns']:\r\n",
        "                list_items.append(i)\r\n",
        "                      \r\n",
        "list_items"
      ],
      "execution_count": null,
      "outputs": []
    },
    {
      "cell_type": "code",
      "metadata": {
        "id": "LTeRvK1cjxc9"
      },
      "source": [
        "\r\n",
        "def cart(res,tag):\r\n",
        "    cart_1=[]\r\n",
        "    price=[]\r\n",
        "    str2match=res\r\n",
        "    strOptions=list_items\r\n",
        "    Ratios=process.extract(str2match,strOptions)\r\n",
        "    highest=process.extractOne(str2match,strOptions)\r\n",
        "    item_name=highest[0]\r\n",
        "    cart_1.append(item_name)\r\n",
        "    print(cart_1)\r\n",
        "    print(\"the above is cart\")\r\n",
        "    for intent in intents_1['intents']:\r\n",
        "       if intent[\"tag\"]==\"Non-Veg Pizza\" and item_name in intent[\"items\"]:\r\n",
        "               for i in intent['price']:\r\n",
        "                   price.append(i)\r\n",
        "       elif intent[\"tag\"]==\"Veg Pizza\" and item_name in intent[\"items\"]:\r\n",
        "               for i in intent['price']:\r\n",
        "                   price.append(i)\r\n",
        "       elif intent[\"tag\"]==\"Beverages\" and item_name in intent[\"items\"]:\r\n",
        "               for i in intent['price']:\r\n",
        "                   price.append(i)\r\n",
        "       elif intent[\"tag\"]==\"Slides\" and item_name in intent[\"items\"]:\r\n",
        "               for i in intent['price']:\r\n",
        "                   price.append(i)          \r\n",
        "    print(price,cart_1)                                                       \r\n",
        "    return (price,cart_1)   \r\n",
        "\r\n"
      ],
      "execution_count": 202,
      "outputs": []
    },
    {
      "cell_type": "code",
      "metadata": {
        "id": "qZkx1zhdSMvs"
      },
      "source": [
        "def total_price(a):\r\n",
        "    sum=0\r\n",
        "    for i in a:\r\n",
        "        sum=sum+i\r\n",
        "    total=sum    \r\n",
        "    return total"
      ],
      "execution_count": 243,
      "outputs": []
    },
    {
      "cell_type": "code",
      "metadata": {
        "id": "IZOVMbgVbIxz"
      },
      "source": [
        "def total_items(a,b):\r\n",
        "    total_list=[]\r\n",
        "    total_list.extend(b)\r\n",
        "    total_value=total_price(a)\r\n",
        "    print(\"Total no. of items in your cart: \")\r\n",
        "    for i in total_list:\r\n",
        "        print(i)\r\n",
        "    print(\"Total price:\")\r\n",
        "    print(total_value)    "
      ],
      "execution_count": 244,
      "outputs": []
    },
    {
      "cell_type": "code",
      "metadata": {
        "colab": {
          "base_uri": "https://localhost:8080/"
        },
        "id": "mFPR7vBtqZT6",
        "outputId": "cf41fd23-3381-4ffd-a899-4176d8923045"
      },
      "source": [
        "k=chatbot_response(\"pepsi\")\r\n",
        "\r\n",
        "print(k)"
      ],
      "execution_count": 245,
      "outputs": [
        {
          "output_type": "stream",
          "text": [
            "pepsi\n",
            "above is fuzzy wuzzy\n",
            "pepsi it is from fuzzy\n",
            "pepsi\n",
            "above is fuzzy wuzzy\n",
            "[1.6425480e-06 6.6554003e-07 7.7570895e-08 2.2722730e-07 5.5264391e-06\n",
            " 1.3631727e-06 1.2067186e-06 4.0738774e-07 1.0521975e-06 9.9998343e-01\n",
            " 2.8722278e-07 1.4277565e-06 2.4535868e-06 2.7218198e-07]\n",
            "above is res in predict class\n",
            "[[9, 0.99998343]]\n",
            "print above  results\n",
            "[{'intent': 'food_item', 'probability': '0.99998343'}]\n",
            "print above return_list\n",
            "[{'intent': 'food_item', 'probability': '0.99998343'}]\n",
            "chatbot\n",
            "added to cart\n",
            "above is result in get response\n",
            "['pepsi']\n",
            "the above is cart\n",
            "[50] ['pepsi']\n",
            "cart value:\n",
            "([50], ['pepsi'])\n",
            "[50, 50, 50, 50, 50, 50, 50]\n",
            "Total no. of items in your cart: \n",
            "pepsi\n",
            "pepsi\n",
            "pepsi\n",
            "pepsi\n",
            "pepsi\n",
            "pepsi\n",
            "pepsi\n",
            "Total price:\n",
            "350\n",
            "added to cart\n"
          ],
          "name": "stdout"
        }
      ]
    },
    {
      "cell_type": "code",
      "metadata": {
        "id": "g5m7arbrMAuW"
      },
      "source": [
        ""
      ],
      "execution_count": null,
      "outputs": []
    }
  ]
}