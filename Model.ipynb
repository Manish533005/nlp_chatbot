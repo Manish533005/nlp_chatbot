{
  "nbformat": 4,
  "nbformat_minor": 0,
  "metadata": {
    "colab": {
      "name": "Model ",
      "provenance": [],
      "authorship_tag": "ABX9TyOjBrcmz8dPnavtx3zFIuPl",
      "include_colab_link": true
    },
    "kernelspec": {
      "name": "python3",
      "display_name": "Python 3"
    }
  },
  "cells": [
    {
      "cell_type": "markdown",
      "metadata": {
        "id": "view-in-github",
        "colab_type": "text"
      },
      "source": [
        "<a href=\"https://colab.research.google.com/github/Manish533005/nlp_chatbot/blob/main/Model.ipynb\" target=\"_parent\"><img src=\"https://colab.research.google.com/assets/colab-badge.svg\" alt=\"Open In Colab\"/></a>"
      ]
    },
    {
      "cell_type": "code",
      "metadata": {
        "id": "YqY8yC4e99_n"
      },
      "source": [
        "import numpy as np\r\n",
        "from tensorflow import keras\r\n",
        "import json\r\n",
        "import spacy\r\n",
        "from keras.models import Sequential\r\n",
        "from keras.layers import Dense, Activation,Dropout,Flatten\r\n",
        "from keras .optimizers import SGD\r\n",
        "import random"
      ],
      "execution_count": null,
      "outputs": []
    },
    {
      "cell_type": "code",
      "metadata": {
        "id": "MC7jk7Ww-Hhe"
      },
      "source": [
        "data_file=open(\"intents.json\").read()\r\n",
        "intents=json.loads(data_file)"
      ],
      "execution_count": null,
      "outputs": []
    },
    {
      "cell_type": "code",
      "metadata": {
        "colab": {
          "base_uri": "https://localhost:8080/"
        },
        "id": "kwjhx99M-PXa",
        "outputId": "e7b12b8a-36ab-4023-faea-e4937c9a2587"
      },
      "source": [
        "print(intents)"
      ],
      "execution_count": null,
      "outputs": [
        {
          "output_type": "stream",
          "text": [
            "{'intents': [{'tag': 'greeting', 'patterns': ['Hi there', 'How are you', 'Is anyone there?', 'Hey', 'Hola', 'Hello', 'Good day'], 'responses': ['Hello, thanks for asking', 'Good to see you again', 'Hi there, how can I help?'], 'context': ['']}, {'tag': 'goodbye', 'patterns': ['Bye', 'See you later', 'Goodbye', 'Nice chatting to you, bye', 'Till next time'], 'responses': ['See you!', 'Have a nice day', 'Bye! Come back again soon.'], 'context': ['']}, {'tag': 'thanks', 'patterns': ['Thanks', 'Thank you', \"That's helpful\", 'Awesome, thanks', 'Thanks for helping me'], 'responses': ['Happy to help!', 'Any time!', 'My pleasure'], 'context': ['']}, {'tag': 'noanswer', 'patterns': [], 'responses': [\"Sorry, can't understand you\", 'Please give me more info', 'Not sure I understand'], 'context': ['']}, {'tag': 'options', 'patterns': ['How you could help me?', 'What you can do?', 'What help you provide?', 'How you can be helpful?', 'What support is offered'], 'responses': ['I can guide you through Adverse drug reaction list, Blood pressure tracking, Hospitals and Pharmacies', 'Offering support for Adverse drug reaction, Blood pressure, Hospitals and Pharmacies'], 'context': ['']}, {'tag': 'adverse_drug', 'patterns': ['How to check Adverse drug reaction?', 'Open adverse drugs module', 'Give me a list of drugs causing adverse behavior', 'List all drugs suitable for patient with adverse reaction', 'Which drugs dont have adverse reaction?'], 'responses': ['Navigating to Adverse drug reaction module'], 'context': ['']}, {'tag': 'blood_pressure', 'patterns': ['Open blood pressure module', 'Task related to blood pressure', 'Blood pressure data entry', 'I want to log blood pressure results', 'Blood pressure data management'], 'responses': ['Navigating to Blood Pressure module'], 'context': ['']}, {'tag': 'blood_pressure_search', 'patterns': ['I want to search for blood pressure result history', 'Blood pressure for patient', 'Load patient blood pressure result', 'Show blood pressure results for patient', 'Find blood pressure results by ID'], 'responses': ['Please provide Patient ID', 'Patient ID?'], 'context': ['search_blood_pressure_by_patient_id']}, {'tag': 'search_blood_pressure_by_patient_id', 'patterns': [], 'responses': ['Loading Blood pressure result for Patient'], 'context': ['']}, {'tag': 'pharmacy_search', 'patterns': ['Find me a pharmacy', 'Find pharmacy', 'List of pharmacies nearby', 'Locate pharmacy', 'Search pharmacy'], 'responses': ['Please provide pharmacy name'], 'context': ['search_pharmacy_by_name']}, {'tag': 'search_pharmacy_by_name', 'patterns': [], 'responses': ['Loading pharmacy details'], 'context': ['']}, {'tag': 'hospital_search', 'patterns': ['Lookup for hospital', 'Searching for hospital to transfer patient', 'I want to search hospital data', 'Hospital lookup for patient', 'Looking up hospital details'], 'responses': ['Please provide hospital name or location'], 'context': ['search_hospital_by_params']}, {'tag': 'search_hospital_by_params', 'patterns': [], 'responses': ['Please provide hospital type'], 'context': ['search_hospital_by_type']}, {'tag': 'search_hospital_by_type', 'patterns': [], 'responses': ['Loading hospital details'], 'context': ['']}]}\n"
          ],
          "name": "stdout"
        }
      ]
    },
    {
      "cell_type": "code",
      "metadata": {
        "id": "AR4XQs-r-Q-0"
      },
      "source": [
        "nlp=spacy.load(\"en_core_web_sm\")\r\n",
        "words =[]\r\n",
        "classes=[]\r\n",
        "documents=[]\r\n",
        "ignore_words=['?','!']"
      ],
      "execution_count": null,
      "outputs": []
    },
    {
      "cell_type": "code",
      "metadata": {
        "id": "1PGTlAO9-Stx"
      },
      "source": [
        "words=[]\r\n",
        "documents=[]\r\n",
        "classes=[]\r\n",
        "for intent in intents['intents']:\r\n",
        "    for pattern in intent['patterns']:\r\n",
        "        #tokenize each word\r\n",
        "        tokens= nlp(pattern)\r\n",
        "        l=[]\r\n",
        "        for i in tokens:\r\n",
        "             i=str(i)\r\n",
        "             l.append(i)\r\n",
        "        words.extend(l)\r\n",
        "        #add documents in the corpus\r\n",
        "        documents.append((l, intent['tag']))\r\n",
        "\r\n",
        "        # add to our classes list\r\n",
        "        if intent['tag'] not in classes:\r\n",
        "            classes.append(intent['tag'])"
      ],
      "execution_count": null,
      "outputs": []
    },
    {
      "cell_type": "code",
      "metadata": {
        "colab": {
          "base_uri": "https://localhost:8080/"
        },
        "id": "NHigmAYG-Vt9",
        "outputId": "5f115197-a464-420e-a94a-2046074ad451"
      },
      "source": [
        "print(l)\r\n",
        "print(words)\r\n",
        "print(len(words))\r\n",
        "print(documents)\r\n",
        "print(classes)\r\n",
        "len(classes)"
      ],
      "execution_count": null,
      "outputs": [
        {
          "output_type": "stream",
          "text": [
            "['Looking', 'up', 'hospital', 'details']\n",
            "['Hi', 'there', 'How', 'are', 'you', 'Is', 'anyone', 'there', '?', 'Hey', 'Hola', 'Hello', 'Good', 'day', 'Bye', 'See', 'you', 'later', 'Goodbye', 'Nice', 'chatting', 'to', 'you', ',', 'bye', 'Till', 'next', 'time', 'Thanks', 'Thank', 'you', 'That', \"'s\", 'helpful', 'Awesome', ',', 'thanks', 'Thanks', 'for', 'helping', 'me', 'How', 'you', 'could', 'help', 'me', '?', 'What', 'you', 'can', 'do', '?', 'What', 'help', 'you', 'provide', '?', 'How', 'you', 'can', 'be', 'helpful', '?', 'What', 'support', 'is', 'offered', 'How', 'to', 'check', 'Adverse', 'drug', 'reaction', '?', 'Open', 'adverse', 'drugs', 'module', 'Give', 'me', 'a', 'list', 'of', 'drugs', 'causing', 'adverse', 'behavior', 'List', 'all', 'drugs', 'suitable', 'for', 'patient', 'with', 'adverse', 'reaction', 'Which', 'drugs', 'do', 'nt', 'have', 'adverse', 'reaction', '?', 'Open', 'blood', 'pressure', 'module', 'Task', 'related', 'to', 'blood', 'pressure', 'Blood', 'pressure', 'data', 'entry', 'I', 'want', 'to', 'log', 'blood', 'pressure', 'results', 'Blood', 'pressure', 'data', 'management', 'I', 'want', 'to', 'search', 'for', 'blood', 'pressure', 'result', 'history', 'Blood', 'pressure', 'for', 'patient', 'Load', 'patient', 'blood', 'pressure', 'result', 'Show', 'blood', 'pressure', 'results', 'for', 'patient', 'Find', 'blood', 'pressure', 'results', 'by', 'ID', 'Find', 'me', 'a', 'pharmacy', 'Find', 'pharmacy', 'List', 'of', 'pharmacies', 'nearby', 'Locate', 'pharmacy', 'Search', 'pharmacy', 'Lookup', 'for', 'hospital', 'Searching', 'for', 'hospital', 'to', 'transfer', 'patient', 'I', 'want', 'to', 'search', 'hospital', 'data', 'Hospital', 'lookup', 'for', 'patient', 'Looking', 'up', 'hospital', 'details']\n",
            "195\n",
            "[(['Hi', 'there'], 'greeting'), (['How', 'are', 'you'], 'greeting'), (['Is', 'anyone', 'there', '?'], 'greeting'), (['Hey'], 'greeting'), (['Hola'], 'greeting'), (['Hello'], 'greeting'), (['Good', 'day'], 'greeting'), (['Bye'], 'goodbye'), (['See', 'you', 'later'], 'goodbye'), (['Goodbye'], 'goodbye'), (['Nice', 'chatting', 'to', 'you', ',', 'bye'], 'goodbye'), (['Till', 'next', 'time'], 'goodbye'), (['Thanks'], 'thanks'), (['Thank', 'you'], 'thanks'), (['That', \"'s\", 'helpful'], 'thanks'), (['Awesome', ',', 'thanks'], 'thanks'), (['Thanks', 'for', 'helping', 'me'], 'thanks'), (['How', 'you', 'could', 'help', 'me', '?'], 'options'), (['What', 'you', 'can', 'do', '?'], 'options'), (['What', 'help', 'you', 'provide', '?'], 'options'), (['How', 'you', 'can', 'be', 'helpful', '?'], 'options'), (['What', 'support', 'is', 'offered'], 'options'), (['How', 'to', 'check', 'Adverse', 'drug', 'reaction', '?'], 'adverse_drug'), (['Open', 'adverse', 'drugs', 'module'], 'adverse_drug'), (['Give', 'me', 'a', 'list', 'of', 'drugs', 'causing', 'adverse', 'behavior'], 'adverse_drug'), (['List', 'all', 'drugs', 'suitable', 'for', 'patient', 'with', 'adverse', 'reaction'], 'adverse_drug'), (['Which', 'drugs', 'do', 'nt', 'have', 'adverse', 'reaction', '?'], 'adverse_drug'), (['Open', 'blood', 'pressure', 'module'], 'blood_pressure'), (['Task', 'related', 'to', 'blood', 'pressure'], 'blood_pressure'), (['Blood', 'pressure', 'data', 'entry'], 'blood_pressure'), (['I', 'want', 'to', 'log', 'blood', 'pressure', 'results'], 'blood_pressure'), (['Blood', 'pressure', 'data', 'management'], 'blood_pressure'), (['I', 'want', 'to', 'search', 'for', 'blood', 'pressure', 'result', 'history'], 'blood_pressure_search'), (['Blood', 'pressure', 'for', 'patient'], 'blood_pressure_search'), (['Load', 'patient', 'blood', 'pressure', 'result'], 'blood_pressure_search'), (['Show', 'blood', 'pressure', 'results', 'for', 'patient'], 'blood_pressure_search'), (['Find', 'blood', 'pressure', 'results', 'by', 'ID'], 'blood_pressure_search'), (['Find', 'me', 'a', 'pharmacy'], 'pharmacy_search'), (['Find', 'pharmacy'], 'pharmacy_search'), (['List', 'of', 'pharmacies', 'nearby'], 'pharmacy_search'), (['Locate', 'pharmacy'], 'pharmacy_search'), (['Search', 'pharmacy'], 'pharmacy_search'), (['Lookup', 'for', 'hospital'], 'hospital_search'), (['Searching', 'for', 'hospital', 'to', 'transfer', 'patient'], 'hospital_search'), (['I', 'want', 'to', 'search', 'hospital', 'data'], 'hospital_search'), (['Hospital', 'lookup', 'for', 'patient'], 'hospital_search'), (['Looking', 'up', 'hospital', 'details'], 'hospital_search')]\n",
            "['greeting', 'goodbye', 'thanks', 'options', 'adverse_drug', 'blood_pressure', 'blood_pressure_search', 'pharmacy_search', 'hospital_search']\n"
          ],
          "name": "stdout"
        },
        {
          "output_type": "execute_result",
          "data": {
            "text/plain": [
              "9"
            ]
          },
          "metadata": {
            "tags": []
          },
          "execution_count": 13
        }
      ]
    },
    {
      "cell_type": "code",
      "metadata": {
        "colab": {
          "base_uri": "https://localhost:8080/"
        },
        "id": "pY3FnQ7X-XoK",
        "outputId": "6d837a35-755a-46de-c43f-74264ee11d8d"
      },
      "source": [
        "new_words=[]\r\n",
        "for i in words:\r\n",
        "    new_words.append(i.lower())\r\n",
        "print(words)\r\n",
        "print(new_words)\r\n",
        "\r\n",
        "unique_words = set(new_words)\r\n",
        "unique_words\r\n",
        "word2int = {}\r\n",
        "int2word = {}\r\n",
        "vocab_size = len(unique_words)\r\n",
        "print(vocab_size)\r\n",
        "for i,word in enumerate(unique_words):\r\n",
        "  word2int[word] = i\r\n",
        "  int2word[i] = word \r\n",
        "print(word2int)\r\n",
        "print(int2word)\r\n",
        "sentences=list()\r\n",
        "\r\n",
        "\r\n",
        "\r\n",
        "for i in documents:\r\n",
        "    sentences.append(i[0])\r\n",
        "print(sentences)    \r\n",
        "sentences2=[]\r\n",
        "for i in sentences:\r\n",
        "   sentences1=[]\r\n",
        "   for j in i:\r\n",
        "      j=j.lower()\r\n",
        "      sentences1.append(j)   \r\n",
        "   sentences2.append(sentences1)\r\n",
        "print(sentences2)      "
      ],
      "execution_count": null,
      "outputs": [
        {
          "output_type": "stream",
          "text": [
            "['Hi', 'there', 'How', 'are', 'you', 'Is', 'anyone', 'there', '?', 'Hey', 'Hola', 'Hello', 'Good', 'day', 'Bye', 'See', 'you', 'later', 'Goodbye', 'Nice', 'chatting', 'to', 'you', ',', 'bye', 'Till', 'next', 'time', 'Thanks', 'Thank', 'you', 'That', \"'s\", 'helpful', 'Awesome', ',', 'thanks', 'Thanks', 'for', 'helping', 'me', 'How', 'you', 'could', 'help', 'me', '?', 'What', 'you', 'can', 'do', '?', 'What', 'help', 'you', 'provide', '?', 'How', 'you', 'can', 'be', 'helpful', '?', 'What', 'support', 'is', 'offered', 'How', 'to', 'check', 'Adverse', 'drug', 'reaction', '?', 'Open', 'adverse', 'drugs', 'module', 'Give', 'me', 'a', 'list', 'of', 'drugs', 'causing', 'adverse', 'behavior', 'List', 'all', 'drugs', 'suitable', 'for', 'patient', 'with', 'adverse', 'reaction', 'Which', 'drugs', 'do', 'nt', 'have', 'adverse', 'reaction', '?', 'Open', 'blood', 'pressure', 'module', 'Task', 'related', 'to', 'blood', 'pressure', 'Blood', 'pressure', 'data', 'entry', 'I', 'want', 'to', 'log', 'blood', 'pressure', 'results', 'Blood', 'pressure', 'data', 'management', 'I', 'want', 'to', 'search', 'for', 'blood', 'pressure', 'result', 'history', 'Blood', 'pressure', 'for', 'patient', 'Load', 'patient', 'blood', 'pressure', 'result', 'Show', 'blood', 'pressure', 'results', 'for', 'patient', 'Find', 'blood', 'pressure', 'results', 'by', 'ID', 'Find', 'me', 'a', 'pharmacy', 'Find', 'pharmacy', 'List', 'of', 'pharmacies', 'nearby', 'Locate', 'pharmacy', 'Search', 'pharmacy', 'Lookup', 'for', 'hospital', 'Searching', 'for', 'hospital', 'to', 'transfer', 'patient', 'I', 'want', 'to', 'search', 'hospital', 'data', 'Hospital', 'lookup', 'for', 'patient', 'Looking', 'up', 'hospital', 'details']\n",
            "['hi', 'there', 'how', 'are', 'you', 'is', 'anyone', 'there', '?', 'hey', 'hola', 'hello', 'good', 'day', 'bye', 'see', 'you', 'later', 'goodbye', 'nice', 'chatting', 'to', 'you', ',', 'bye', 'till', 'next', 'time', 'thanks', 'thank', 'you', 'that', \"'s\", 'helpful', 'awesome', ',', 'thanks', 'thanks', 'for', 'helping', 'me', 'how', 'you', 'could', 'help', 'me', '?', 'what', 'you', 'can', 'do', '?', 'what', 'help', 'you', 'provide', '?', 'how', 'you', 'can', 'be', 'helpful', '?', 'what', 'support', 'is', 'offered', 'how', 'to', 'check', 'adverse', 'drug', 'reaction', '?', 'open', 'adverse', 'drugs', 'module', 'give', 'me', 'a', 'list', 'of', 'drugs', 'causing', 'adverse', 'behavior', 'list', 'all', 'drugs', 'suitable', 'for', 'patient', 'with', 'adverse', 'reaction', 'which', 'drugs', 'do', 'nt', 'have', 'adverse', 'reaction', '?', 'open', 'blood', 'pressure', 'module', 'task', 'related', 'to', 'blood', 'pressure', 'blood', 'pressure', 'data', 'entry', 'i', 'want', 'to', 'log', 'blood', 'pressure', 'results', 'blood', 'pressure', 'data', 'management', 'i', 'want', 'to', 'search', 'for', 'blood', 'pressure', 'result', 'history', 'blood', 'pressure', 'for', 'patient', 'load', 'patient', 'blood', 'pressure', 'result', 'show', 'blood', 'pressure', 'results', 'for', 'patient', 'find', 'blood', 'pressure', 'results', 'by', 'id', 'find', 'me', 'a', 'pharmacy', 'find', 'pharmacy', 'list', 'of', 'pharmacies', 'nearby', 'locate', 'pharmacy', 'search', 'pharmacy', 'lookup', 'for', 'hospital', 'searching', 'for', 'hospital', 'to', 'transfer', 'patient', 'i', 'want', 'to', 'search', 'hospital', 'data', 'hospital', 'lookup', 'for', 'patient', 'looking', 'up', 'hospital', 'details']\n",
            "92\n",
            "{'provide': 0, 'behavior': 1, 'helping': 2, 'bye': 3, 'offered': 4, 'i': 5, 'show': 6, 'data': 7, 'are': 8, 'to': 9, 'hello': 10, 'which': 11, 'task': 12, 'open': 13, 'looking': 14, 'transfer': 15, 'anyone': 16, 'nice': 17, 'thanks': 18, 'hi': 19, 'with': 20, 'drug': 21, '?': 22, 'want': 23, 'pharmacy': 24, \"'s\": 25, 'blood': 26, 'log': 27, 'reaction': 28, 'you': 29, 'hospital': 30, 'goodbye': 31, 'nearby': 32, ',': 33, 'is': 34, 'do': 35, 'day': 36, 'suitable': 37, 'patient': 38, 'thank': 39, 'good': 40, 'what': 41, 'a': 42, 'me': 43, 'that': 44, 'how': 45, 'next': 46, 'module': 47, 'of': 48, 'time': 49, 'history': 50, 'can': 51, 'lookup': 52, 'results': 53, 'search': 54, 'list': 55, 'later': 56, 'load': 57, 'causing': 58, 'details': 59, 'result': 60, 'awesome': 61, 'for': 62, 'be': 63, 'support': 64, 'see': 65, 'id': 66, 'all': 67, 'entry': 68, 'could': 69, 'locate': 70, 'management': 71, 'nt': 72, 'adverse': 73, 'chatting': 74, 'related': 75, 'there': 76, 'help': 77, 'give': 78, 'drugs': 79, 'searching': 80, 'till': 81, 'pharmacies': 82, 'up': 83, 'hey': 84, 'pressure': 85, 'helpful': 86, 'by': 87, 'find': 88, 'have': 89, 'hola': 90, 'check': 91}\n",
            "{0: 'provide', 1: 'behavior', 2: 'helping', 3: 'bye', 4: 'offered', 5: 'i', 6: 'show', 7: 'data', 8: 'are', 9: 'to', 10: 'hello', 11: 'which', 12: 'task', 13: 'open', 14: 'looking', 15: 'transfer', 16: 'anyone', 17: 'nice', 18: 'thanks', 19: 'hi', 20: 'with', 21: 'drug', 22: '?', 23: 'want', 24: 'pharmacy', 25: \"'s\", 26: 'blood', 27: 'log', 28: 'reaction', 29: 'you', 30: 'hospital', 31: 'goodbye', 32: 'nearby', 33: ',', 34: 'is', 35: 'do', 36: 'day', 37: 'suitable', 38: 'patient', 39: 'thank', 40: 'good', 41: 'what', 42: 'a', 43: 'me', 44: 'that', 45: 'how', 46: 'next', 47: 'module', 48: 'of', 49: 'time', 50: 'history', 51: 'can', 52: 'lookup', 53: 'results', 54: 'search', 55: 'list', 56: 'later', 57: 'load', 58: 'causing', 59: 'details', 60: 'result', 61: 'awesome', 62: 'for', 63: 'be', 64: 'support', 65: 'see', 66: 'id', 67: 'all', 68: 'entry', 69: 'could', 70: 'locate', 71: 'management', 72: 'nt', 73: 'adverse', 74: 'chatting', 75: 'related', 76: 'there', 77: 'help', 78: 'give', 79: 'drugs', 80: 'searching', 81: 'till', 82: 'pharmacies', 83: 'up', 84: 'hey', 85: 'pressure', 86: 'helpful', 87: 'by', 88: 'find', 89: 'have', 90: 'hola', 91: 'check'}\n",
            "[['Hi', 'there'], ['How', 'are', 'you'], ['Is', 'anyone', 'there', '?'], ['Hey'], ['Hola'], ['Hello'], ['Good', 'day'], ['Bye'], ['See', 'you', 'later'], ['Goodbye'], ['Nice', 'chatting', 'to', 'you', ',', 'bye'], ['Till', 'next', 'time'], ['Thanks'], ['Thank', 'you'], ['That', \"'s\", 'helpful'], ['Awesome', ',', 'thanks'], ['Thanks', 'for', 'helping', 'me'], ['How', 'you', 'could', 'help', 'me', '?'], ['What', 'you', 'can', 'do', '?'], ['What', 'help', 'you', 'provide', '?'], ['How', 'you', 'can', 'be', 'helpful', '?'], ['What', 'support', 'is', 'offered'], ['How', 'to', 'check', 'Adverse', 'drug', 'reaction', '?'], ['Open', 'adverse', 'drugs', 'module'], ['Give', 'me', 'a', 'list', 'of', 'drugs', 'causing', 'adverse', 'behavior'], ['List', 'all', 'drugs', 'suitable', 'for', 'patient', 'with', 'adverse', 'reaction'], ['Which', 'drugs', 'do', 'nt', 'have', 'adverse', 'reaction', '?'], ['Open', 'blood', 'pressure', 'module'], ['Task', 'related', 'to', 'blood', 'pressure'], ['Blood', 'pressure', 'data', 'entry'], ['I', 'want', 'to', 'log', 'blood', 'pressure', 'results'], ['Blood', 'pressure', 'data', 'management'], ['I', 'want', 'to', 'search', 'for', 'blood', 'pressure', 'result', 'history'], ['Blood', 'pressure', 'for', 'patient'], ['Load', 'patient', 'blood', 'pressure', 'result'], ['Show', 'blood', 'pressure', 'results', 'for', 'patient'], ['Find', 'blood', 'pressure', 'results', 'by', 'ID'], ['Find', 'me', 'a', 'pharmacy'], ['Find', 'pharmacy'], ['List', 'of', 'pharmacies', 'nearby'], ['Locate', 'pharmacy'], ['Search', 'pharmacy'], ['Lookup', 'for', 'hospital'], ['Searching', 'for', 'hospital', 'to', 'transfer', 'patient'], ['I', 'want', 'to', 'search', 'hospital', 'data'], ['Hospital', 'lookup', 'for', 'patient'], ['Looking', 'up', 'hospital', 'details']]\n",
            "[['hi', 'there'], ['how', 'are', 'you'], ['is', 'anyone', 'there', '?'], ['hey'], ['hola'], ['hello'], ['good', 'day'], ['bye'], ['see', 'you', 'later'], ['goodbye'], ['nice', 'chatting', 'to', 'you', ',', 'bye'], ['till', 'next', 'time'], ['thanks'], ['thank', 'you'], ['that', \"'s\", 'helpful'], ['awesome', ',', 'thanks'], ['thanks', 'for', 'helping', 'me'], ['how', 'you', 'could', 'help', 'me', '?'], ['what', 'you', 'can', 'do', '?'], ['what', 'help', 'you', 'provide', '?'], ['how', 'you', 'can', 'be', 'helpful', '?'], ['what', 'support', 'is', 'offered'], ['how', 'to', 'check', 'adverse', 'drug', 'reaction', '?'], ['open', 'adverse', 'drugs', 'module'], ['give', 'me', 'a', 'list', 'of', 'drugs', 'causing', 'adverse', 'behavior'], ['list', 'all', 'drugs', 'suitable', 'for', 'patient', 'with', 'adverse', 'reaction'], ['which', 'drugs', 'do', 'nt', 'have', 'adverse', 'reaction', '?'], ['open', 'blood', 'pressure', 'module'], ['task', 'related', 'to', 'blood', 'pressure'], ['blood', 'pressure', 'data', 'entry'], ['i', 'want', 'to', 'log', 'blood', 'pressure', 'results'], ['blood', 'pressure', 'data', 'management'], ['i', 'want', 'to', 'search', 'for', 'blood', 'pressure', 'result', 'history'], ['blood', 'pressure', 'for', 'patient'], ['load', 'patient', 'blood', 'pressure', 'result'], ['show', 'blood', 'pressure', 'results', 'for', 'patient'], ['find', 'blood', 'pressure', 'results', 'by', 'id'], ['find', 'me', 'a', 'pharmacy'], ['find', 'pharmacy'], ['list', 'of', 'pharmacies', 'nearby'], ['locate', 'pharmacy'], ['search', 'pharmacy'], ['lookup', 'for', 'hospital'], ['searching', 'for', 'hospital', 'to', 'transfer', 'patient'], ['i', 'want', 'to', 'search', 'hospital', 'data'], ['hospital', 'lookup', 'for', 'patient'], ['looking', 'up', 'hospital', 'details']]\n"
          ],
          "name": "stdout"
        }
      ]
    },
    {
      "cell_type": "code",
      "metadata": {
        "id": "5zYK_htX-b5k"
      },
      "source": [
        "window_size = 2\r\n",
        "data = []\r\n",
        "for sentence in sentences2 :\r\n",
        "  for wordId,word in enumerate(sentence):\r\n",
        "    for nxword in sentence[max(wordId - window_size,0):min(wordId + window_size, len(sentence))+1]:\r\n",
        "        if nxword != word:\r\n",
        "           data.append([word,nxword])\r\n",
        "\r\n",
        "data"
      ],
      "execution_count": null,
      "outputs": []
    },
    {
      "cell_type": "code",
      "metadata": {
        "id": "GJCDNRoo-fbp"
      },
      "source": [
        "def Encoder(datapointindex, vocab_size):\r\n",
        "  temp = np.zeros(vocab_size)\r\n",
        "  temp[datapointindex] = 1\r\n",
        "  return temp"
      ],
      "execution_count": null,
      "outputs": []
    },
    {
      "cell_type": "code",
      "metadata": {
        "id": "gHgzA8Gi-hKZ"
      },
      "source": [
        "train_x = []\r\n",
        "train_y = []\r\n",
        "\r\n",
        "for worddata in data:\r\n",
        "  try:\r\n",
        "    train_x.append(Encoder(word2int[worddata[0]], vocab_size))\r\n",
        "    train_y.append(Encoder(word2int[worddata[1]], vocab_size))\r\n",
        "  except:\r\n",
        "\r\n",
        "    continue"
      ],
      "execution_count": null,
      "outputs": []
    },
    {
      "cell_type": "code",
      "metadata": {
        "colab": {
          "base_uri": "https://localhost:8080/"
        },
        "id": "eHluGn2r4mPR",
        "outputId": "8a2d273d-b20e-4a5c-b884-b52835aac5de"
      },
      "source": [
        "len(train_x[0])\r\n"
      ],
      "execution_count": null,
      "outputs": [
        {
          "output_type": "execute_result",
          "data": {
            "text/plain": [
              "92"
            ]
          },
          "metadata": {
            "tags": []
          },
          "execution_count": 57
        }
      ]
    },
    {
      "cell_type": "code",
      "metadata": {
        "id": "QPDdbkyDwkLR"
      },
      "source": [
        "model = Sequential()\r\n",
        "model.add(Dense(128,input_shape=(len(train_x[0]),) activation='relu'))\r\n",
        "model.add(Dropout(0.5))\r\n",
        "model.add(Dense(64, activation='relu'))\r\n",
        "model.add(Dropout(0.5))\r\n",
        "model.add(Dense(len(train_y[0]), activation='softmax'))\r\n",
        "\r\n",
        "# Compile model. Stochastic gradient descent with Nesterov accelerated gradient gives good results for this model\r\n",
        "sgd = SGD(lr=0.01, decay=1e-6, momentum=0.9, nesterov=True)\r\n",
        "model.compile(loss='categorical_crossentropy', optimizer=sgd, metrics=['accuracy'])\r\n",
        "\r\n",
        "#fitting and saving the model \r\n",
        "hist = model.fit(train_x,train_y, epochs=200, batch_size=5, verbose=1)\r\n",
        "model.save('chatbot.h5', hist)\r\n",
        "\r\n",
        "\r\n",
        "print(\"model created\")"
      ],
      "execution_count": null,
      "outputs": []
    },
    {
      "cell_type": "code",
      "metadata": {
        "id": "31qJrBU9wskf"
      },
      "source": [
        "|"
      ],
      "execution_count": null,
      "outputs": []
    }
  ]
}