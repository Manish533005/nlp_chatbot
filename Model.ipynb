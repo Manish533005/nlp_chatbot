{
  "nbformat": 4,
  "nbformat_minor": 0,
  "metadata": {
    "colab": {
      "name": "Model",
      "provenance": [],
      "authorship_tag": "ABX9TyP0bO4BQiE2DDH43mcZ18qG",
      "include_colab_link": true
    },
    "kernelspec": {
      "name": "python3",
      "display_name": "Python 3"
    }
  },
  "cells": [
    {
      "cell_type": "markdown",
      "metadata": {
        "id": "view-in-github",
        "colab_type": "text"
      },
      "source": [
        "<a href=\"https://colab.research.google.com/github/Manish533005/nlp_chatbot/blob/main/Model.ipynb\" target=\"_parent\"><img src=\"https://colab.research.google.com/assets/colab-badge.svg\" alt=\"Open In Colab\"/></a>"
      ]
    },
    {
      "cell_type": "code",
      "metadata": {
        "colab": {
          "base_uri": "https://localhost:8080/"
        },
        "id": "92kh7f5BnTJS",
        "outputId": "4ca3dbf9-25a2-4355-cfa9-0b2d6676e2b9"
      },
      "source": [
        "import pickle\r\n",
        "import numpy as np\r\n",
        "from keras.models import load_model\r\n",
        "import json\r\n",
        "import random\r\n",
        "from fuzzywuzzy import process\r\n",
        "import spacy\r\n",
        "model =load_model(\"chatbot_3.h5\")\r\n",
        "intents = json.loads(open('chatbot_dataset.json').read())\r\n",
        "intents_1=json.loads(open(\"food_document.json\").read())\r\n",
        "words = pickle.load(open('words.pkl','rb'))\r\n",
        "classes = pickle.load(open('classes.pkl','rb'))\r\n",
        "nlp=spacy.load(\"en_core_web_sm\")\r\n",
        "print(len(words))\r\n",
        "print(len(classes))"
      ],
      "execution_count": 55,
      "outputs": [
        {
          "output_type": "stream",
          "text": [
            "42\n",
            "14\n"
          ],
          "name": "stdout"
        }
      ]
    },
    {
      "cell_type": "code",
      "metadata": {
        "colab": {
          "base_uri": "https://localhost:8080/"
        },
        "id": "6_g9gniupgp9",
        "outputId": "1f50110a-8806-4743-8126-501bc42dbc11"
      },
      "source": [
        "!pip install fuzzywuzzy"
      ],
      "execution_count": 3,
      "outputs": [
        {
          "output_type": "stream",
          "text": [
            "Collecting fuzzywuzzy\n",
            "  Downloading https://files.pythonhosted.org/packages/43/ff/74f23998ad2f93b945c0309f825be92e04e0348e062026998b5eefef4c33/fuzzywuzzy-0.18.0-py2.py3-none-any.whl\n",
            "Installing collected packages: fuzzywuzzy\n",
            "Successfully installed fuzzywuzzy-0.18.0\n"
          ],
          "name": "stdout"
        }
      ]
    },
    {
      "cell_type": "code",
      "metadata": {
        "colab": {
          "base_uri": "https://localhost:8080/"
        },
        "id": "QDAmmhlWQSvU",
        "outputId": "0622d18b-66ab-4066-8336-427cd4bcbb8a"
      },
      "source": [
        "print(intents_1)"
      ],
      "execution_count": 11,
      "outputs": [
        {
          "output_type": "stream",
          "text": [
            "{'intents': [{'tag': 'Non-Veg Pizza', 'items': ['chicken pepperoni', 'Pepper Barbecue', 'Dominator', 'chicken Sausage', 'pepper barbecue and onion', 'Indi chicken tikka', 'Moroccan Spice Pasta Pizza'], 'size': ['small', 'medium', 'large'], 'price': [300, 550, 830]}, {'tag': 'Veg Pizza', 'items': ['peppy paneer', 'Mexican green wave', 'Veggie paradise', 'veg extravaganza', 'deluxe veggie', 'paneer Makhani', 'creamy tomato pasta '], 'size': ['small', 'medium', 'large'], 'price': [250, 499, 799]}, {'tag': 'Beverages', 'items': ['pepsi', 'slice', '7up', 'mirinda', 'nimbooz'], 'size': [], 'price': [50]}, {'tag': 'Slides', 'items': ['garlic breadsticks', 'taco mexicana veg', 'Butterscotch mouse cake'], 'size': [], 'price': [99]}]}\n"
          ],
          "name": "stdout"
        }
      ]
    },
    {
      "cell_type": "code",
      "metadata": {
        "colab": {
          "base_uri": "https://localhost:8080/"
        },
        "id": "Se06UOg2rFh1",
        "outputId": "adeda2ea-5668-4333-f527-b0002c90e859"
      },
      "source": [
        "print(words)"
      ],
      "execution_count": 12,
      "outputs": [
        {
          "output_type": "stream",
          "text": [
            "['-', '-PRON-', 'add', 'available', 'beverage', 'bye', 'cancel', 'cancle', 'change', 'chat', 'chicken', 'combo', 'confirm', 'dominator', 'edit', 'food', 'goodbye', 'hello', 'hey', 'hi', 'hungry', 'item', 'large', 'later', 'medium', 'menu', 'nice', 'non', 'nonveg', 'order', 'pizza', 'remove', 'request', 'slide', 'small', 'till', 'time', 'today', 'variety', 'veg', 'view', 'want']\n"
          ],
          "name": "stdout"
        }
      ]
    },
    {
      "cell_type": "code",
      "metadata": {
        "id": "VrcKn8YsRwGM"
      },
      "source": [
        "all_stopwords = nlp.Defaults.stop_words\r\n",
        "sentence_2=[]\r\n",
        "sent=[]"
      ],
      "execution_count": 124,
      "outputs": []
    },
    {
      "cell_type": "code",
      "metadata": {
        "id": "LAWUX46Rnn2n"
      },
      "source": [
        "#tokenize each word\r\n",
        "def fuzzy(sentence):\r\n",
        "    str2match=sentence\r\n",
        "    strOptions=words\r\n",
        "    Ratios=process.extract(str2match,strOptions)\r\n",
        "    highest=process.extractOne(str2match,strOptions)\r\n",
        "    return highest[0]\r\n",
        "def clean_up_sentence(sentence):\r\n",
        "        sentence_2=[]\r\n",
        "        sent=[]\r\n",
        "        sentence=str(sentence)\r\n",
        "        sentence_1=fuzzy(sentence)\r\n",
        "        sentence_words= nlp(sentence_1)\r\n",
        "        l=[]\r\n",
        "        for i in sentence_words:\r\n",
        "             i=str(i)\r\n",
        "             l.append(i)\r\n",
        "      \r\n",
        "        sentence_2.extend(l)\r\n",
        "        # lemmatizing the words\r\n",
        "        sent=[nlp(word.lower())[0].lemma_ for word in sentence_2]\r\n",
        "        sent=[ w  for w in sent if w not in all_stopwords]\r\n",
        "        return sent\r\n",
        "def bow(sentence ,words,show_details=True):\r\n",
        "\r\n",
        "    sentence_words = clean_up_sentence(sentence)\r\n",
        "    # bag of words - matrix of N words, vocabulary matrix\r\n",
        "    bag = [0]*len(words) \r\n",
        "    for s in sentence_words:\r\n",
        "        for i,w in enumerate(words):\r\n",
        "            if w == s: \r\n",
        "                # assign 1 if current word is in the vocabulary position\r\n",
        "                bag[i] = 1\r\n",
        "                if show_details:\r\n",
        "                    print (\"found in bag: %s\" % w)\r\n",
        "    return(np.array(bag))\r\n",
        "\r\n",
        "def predict_class(sentence, model):\r\n",
        "    # filter out predictions below a threshold\r\n",
        "    p = bow(sentence, words,show_details=False)\r\n",
        "    res = model.predict(np.array([p]))[0]\r\n",
        "    ERROR_THRESHOLD = 0.25\r\n",
        "    results = [[i,r] for i,r in enumerate(res) if r>ERROR_THRESHOLD]\r\n",
        "    # sort by strength of probability\r\n",
        "    results.sort(key=lambda x: x[1], reverse=True)\r\n",
        "    return_list = []\r\n",
        "    for r in results:\r\n",
        "        return_list.append({\"intent\": classes[r[0]], \"probability\": str(r[1])})\r\n",
        "    return return_list    "
      ],
      "execution_count": 125,
      "outputs": []
    },
    {
      "cell_type": "code",
      "metadata": {
        "id": "ir-MZyCCnvAH"
      },
      "source": [
        "def getResponse(ints, intents_json):\r\n",
        "    tag = ints[0]['intent']\r\n",
        "    list_of_intents = intents_json['intents']\r\n",
        "    for i in list_of_intents:\r\n",
        "        if(i['tag']== tag):\r\n",
        "            result = random.choice(i['responses'])\r\n",
        "            break\r\n",
        "    return result\r\n",
        "\r\n",
        "\r\n",
        "def chatbot_response(text):\r\n",
        "    ints = predict_class(text, model)\r\n",
        "    res = getResponse(ints, intents)\r\n",
        "    tag = ints[0]['intent']\r\n",
        "    if tag==\"order_food\":\r\n",
        "       k=print_menu()\r\n",
        "       res=res+\" \\n \"+ k[0] +\" \\n \"+ k[1] +\" \\n \"+ k[2] +\" \\n \"+k[3]\r\n",
        "    elif tag==\"Non-Veg Pizza\":\r\n",
        "       q=print_nonveg()\r\n",
        "       res=res+\" \\n \"+ q[0] +\" \\n \"+ q[1] +\" \\n \"+ q[2] +\" \\n \"+q[3]+\" \\n \"\r\n",
        "\r\n",
        "    elif tag==\"Veg Pizza\":\r\n",
        "        v=print_veg()\r\n",
        "        res=res+\" \\n \"+ v[0] +\" \\n \"+ v[1] +\" \\n \"+ v[2] +\" \\n \"+v[3]+\" \\n \"\r\n",
        "    elif tag==\"Beverages\":\r\n",
        "         B=print_bever()\r\n",
        "         res=res+\" \\n \"+ B[0] +\" \\n \"+ B[1] +\" \\n \"+ B[2] +\" \\n \"+B[3]+\" \\n \"\r\n",
        "    elif tag==\"Slides\":\r\n",
        "         s=print_slides()\r\n",
        "         res=res+\" \\n \"+ s[0] +\" \\n \"+ s[1] +\" \\n \"+ s[2] +\" \\n \"\r\n",
        "\r\n",
        "    return res"
      ],
      "execution_count": 126,
      "outputs": []
    },
    {
      "cell_type": "code",
      "metadata": {
        "colab": {
          "base_uri": "https://localhost:8080/"
        },
        "id": "nsNYWPhQQkRF",
        "outputId": "94d9670c-f735-4312-9dc8-fe01a1b6daf9"
      },
      "source": [
        "k=chatbot_response(\"edit order\")\r\n",
        "print(k)\r\n",
        " "
      ],
      "execution_count": 131,
      "outputs": [
        {
          "output_type": "stream",
          "text": [
            "Do you want to add/Remove/Cancel\n"
          ],
          "name": "stdout"
        }
      ]
    },
    {
      "cell_type": "code",
      "metadata": {
        "id": "M070ROHPbYh4"
      },
      "source": [
        "def print_nonveg():\r\n",
        "    food=[]\r\n",
        "    for intent in intents_1['intents']:\r\n",
        "        if intent['tag']==\"Non-Veg Pizza\":\r\n",
        "          for i in intent['items']:\r\n",
        "            food.append(i)        \r\n",
        "    return food\r\n",
        "print_nonveg()        "
      ],
      "execution_count": null,
      "outputs": []
    },
    {
      "cell_type": "code",
      "metadata": {
        "id": "taVYNJX7Zmyc"
      },
      "source": [
        "#method to print the menu\r\n",
        "def print_menu():\r\n",
        "  l=[]\r\n",
        "  for intent in intents_1['intents']:\r\n",
        "      l.append(intent['tag'])\r\n",
        "  return l"
      ],
      "execution_count": 21,
      "outputs": []
    },
    {
      "cell_type": "code",
      "metadata": {
        "id": "kEkp4O01eicw"
      },
      "source": [
        "def print_veg():\r\n",
        "    food=[]\r\n",
        "    for intent in intents_1['intents']:\r\n",
        "        if intent['tag']==\"Veg Pizza\":\r\n",
        "            for i in intent['items']:\r\n",
        "                food.append(i)        \r\n",
        "    return food\r\n",
        "print_veg()     "
      ],
      "execution_count": null,
      "outputs": []
    },
    {
      "cell_type": "code",
      "metadata": {
        "id": "gAdoVIkPfe9e"
      },
      "source": [
        "def print_bever():\r\n",
        "    food=[]\r\n",
        "    for intent in intents_1['intents']:\r\n",
        "        if intent['tag']==\"Beverages\":\r\n",
        "            for i in intent['items']:\r\n",
        "                food.append(i)        \r\n",
        "    return food\r\n",
        "print_bever()    "
      ],
      "execution_count": null,
      "outputs": []
    },
    {
      "cell_type": "code",
      "metadata": {
        "id": "E8z0IshXfs15"
      },
      "source": [
        "def print_slides():\r\n",
        "    food=[]\r\n",
        "    for intent in intents_1['intents']:\r\n",
        "        if intent['tag']==\"Slides\":\r\n",
        "            for i in intent['items']:\r\n",
        "                food.append(i)        \r\n",
        "    return food\r\n",
        "print_slides()    "
      ],
      "execution_count": null,
      "outputs": []
    },
    {
      "cell_type": "code",
      "metadata": {
        "id": "knX2Roy7bPtg"
      },
      "source": [
        "#method to print the non veg menu\r\n",
        "def non_veg():\r\n",
        "    for intent in intents_1['intents']:\r\n",
        "      k=intent['tag']\r\n",
        "      print(k)\r\n"
      ],
      "execution_count": null,
      "outputs": []
    },
    {
      "cell_type": "code",
      "metadata": {
        "id": "1Qu_RHp-nzLg"
      },
      "source": [
        "#Creating GUI with tkinter\r\n",
        "import tkinter\r\n",
        "from tkinter import *\r\n",
        "import matplotlib\r\n",
        "\r\n",
        "\r\n",
        "def send():\r\n",
        "    msg = EntryBox.get(\"1.0\",'end-1c').strip() \r\n",
        "    EntryBox.delete(\"0.0\",END)\r\n",
        "\r\n",
        "    if msg != '':\r\n",
        "        ChatLog.config(state=NORMAL)\r\n",
        "        ChatLog.insert(END, \"You: \" + msg + '\\n\\n')\r\n",
        "        ChatLog.config(foreground=\"#442265\", font=(\"Verdana\", 12 ))\r\n",
        "\r\n",
        "        res = chatbot_response(msg)\r\n",
        "        ChatLog.insert(END, \"Bot: \" + res + '\\n\\n')\r\n",
        "\r\n",
        "        ChatLog.config(state=DISABLED)\r\n",
        "        ChatLog.yview(END)\r\n",
        "\r\n",
        "base = Tk()\r\n",
        "base.title(\"Domios Pizza chatbot\")\r\n",
        "base.geometry(\"400x500\")\r\n",
        "base.resizable(width=FALSE, height=FALSE)\r\n",
        "\r\n",
        "#Create Chat window\r\n",
        "ChatLog = Text(base, bd=0, bg=\"white\", height=\"8\", width=\"50\", font=\"Arial\",)\r\n",
        "\r\n",
        "ChatLog.config(state=DISABLED)\r\n",
        "\r\n",
        "#Bind scrollbar to Chat window\r\n",
        "scrollbar = Scrollbar(base, command=ChatLog.yview, cursor=\"heart\")\r\n",
        "ChatLog['yscrollcommand'] = scrollbar.set\r\n",
        "\r\n",
        "#Create Button to send message\r\n",
        "SendButton = Button(base, font=(\"Verdana\",12,'bold'), text=\"Send\", width=\"12\", height=5,\r\n",
        "                    bd=0, bg=\"#32de97\", activebackground=\"#3c9d9b\",fg='#ffffff',\r\n",
        "                    command= send )\r\n",
        "\r\n",
        "#Create the box to enter message\r\n",
        "EntryBox = Text(base, bd=0, bg=\"white\",width=\"29\", height=\"5\", font=\"Arial\")\r\n",
        "#EntryBox.bind(\"<Return>\", send)\r\n",
        "\r\n",
        "\r\n",
        "#Place all components on the screen\r\n",
        "scrollbar.place(x=376,y=6, height=386)\r\n",
        "ChatLog.place(x=6,y=6, height=386, width=370)\r\n",
        "EntryBox.place(x=128, y=401, height=90, width=265)\r\n",
        "SendButton.place(x=6, y=401, height=90)"
      ],
      "execution_count": null,
      "outputs": []
    },
    {
      "cell_type": "code",
      "metadata": {
        "id": "mFPR7vBtqZT6"
      },
      "source": [
        ""
      ],
      "execution_count": null,
      "outputs": []
    }
  ]
}