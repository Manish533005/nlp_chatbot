{
  "nbformat": 4,
  "nbformat_minor": 0,
  "metadata": {
    "colab": {
      "name": "Model",
      "provenance": [],
      "collapsed_sections": [],
      "authorship_tag": "ABX9TyMuCrsB4AfWScHzf82+Bm4p",
      "include_colab_link": true
    },
    "kernelspec": {
      "name": "python3",
      "display_name": "Python 3"
    }
  },
  "cells": [
    {
      "cell_type": "markdown",
      "metadata": {
        "id": "view-in-github",
        "colab_type": "text"
      },
      "source": [
        "<a href=\"https://colab.research.google.com/github/Manish533005/nlp_chatbot/blob/main/Model.ipynb\" target=\"_parent\"><img src=\"https://colab.research.google.com/assets/colab-badge.svg\" alt=\"Open In Colab\"/></a>"
      ]
    },
    {
      "cell_type": "code",
      "metadata": {
        "colab": {
          "base_uri": "https://localhost:8080/"
        },
        "id": "92kh7f5BnTJS",
        "outputId": "09b98d27-7417-4bb0-a8bd-9ecff8b13ba8"
      },
      "source": [
        "import pickle\r\n",
        "import numpy as np\r\n",
        "from keras.models import load_model\r\n",
        "import json\r\n",
        "import random\r\n",
        "from fuzzywuzzy import process\r\n",
        "import spacy\r\n",
        "model =load_model(\"chatbot_6.h5\")\r\n",
        "intents = json.loads(open('chatbot_dataset.json').read())\r\n",
        "intents_1=json.loads(open(\"food_document.json\").read())\r\n",
        "words = pickle.load(open('words.pkl','rb'))\r\n",
        "classes = pickle.load(open('classes.pkl','rb'))\r\n",
        "nlp=spacy.load(\"en_core_web_sm\")\r\n",
        "print(len(words))\r\n",
        "print(len(classes))"
      ],
      "execution_count": 90,
      "outputs": [
        {
          "output_type": "stream",
          "text": [
            "45\n",
            "14\n"
          ],
          "name": "stdout"
        }
      ]
    },
    {
      "cell_type": "code",
      "metadata": {
        "colab": {
          "base_uri": "https://localhost:8080/"
        },
        "id": "6_g9gniupgp9",
        "outputId": "01451ef2-46f9-46f7-a63e-980f7bff6544"
      },
      "source": [
        "!pip install fuzzywuzzy"
      ],
      "execution_count": 91,
      "outputs": [
        {
          "output_type": "stream",
          "text": [
            "Requirement already satisfied: fuzzywuzzy in /usr/local/lib/python3.6/dist-packages (0.18.0)\n"
          ],
          "name": "stdout"
        }
      ]
    },
    {
      "cell_type": "code",
      "metadata": {
        "colab": {
          "base_uri": "https://localhost:8080/"
        },
        "id": "QDAmmhlWQSvU",
        "outputId": "277abe1b-29de-4462-f248-aee5684d9ff8"
      },
      "source": [
        "print(intents_1)"
      ],
      "execution_count": 92,
      "outputs": [
        {
          "output_type": "stream",
          "text": [
            "{'intents': [{'tag': 'Non-Veg Pizza', 'items': ['chicken pepperoni', 'Pepper Barbecue', 'Dominator', 'chicken Sausage', 'pepper barbecue and onion', 'Indi chicken tikka', 'Moroccan Spice Pasta Pizza'], 'size': ['small', 'medium', 'large'], 'price': [300, 550, 830]}, {'tag': 'Veg Pizza', 'items': ['peppy paneer', 'Mexican green wave', 'Veggie paradise', 'veg extravaganza', 'deluxe veggie', 'paneer Makhani', 'creamy tomato pasta '], 'size': ['small', 'medium', 'large'], 'price': [250, 499, 799]}, {'tag': 'Beverages', 'items': ['pepsi', 'slice', '7up', 'mirinda', 'nimbooz'], 'size': [], 'price': [50]}, {'tag': 'Slides', 'items': ['garlic breadsticks', 'taco mexicana veg', 'Butterscotch mouse cake'], 'size': [], 'price': [99]}]}\n"
          ],
          "name": "stdout"
        }
      ]
    },
    {
      "cell_type": "code",
      "metadata": {
        "colab": {
          "base_uri": "https://localhost:8080/"
        },
        "id": "Se06UOg2rFh1",
        "outputId": "29e966ad-d2fc-43b8-dcd1-ec50cd8c2526"
      },
      "source": [
        "print(words)"
      ],
      "execution_count": 93,
      "outputs": [
        {
          "output_type": "stream",
          "text": [
            "['-', '-PRON-', 'add', 'available', 'beverage', 'bye', 'cancel', 'cancle', 'change', 'chat', 'chicken', 'combo', 'confirm', 'cool', 'dominator', 'drink', 'edit', 'food', 'goodbye', 'hard', 'hello', 'hey', 'hi', 'hungry', 'item', 'large', 'later', 'medium', 'menu', 'nice', 'non', 'nonveg', 'order', 'pizza', 'remove', 'request', 'slide', 'small', 'till', 'time', 'today', 'variety', 'veg', 'view', 'want']\n"
          ],
          "name": "stdout"
        }
      ]
    },
    {
      "cell_type": "code",
      "metadata": {
        "id": "VrcKn8YsRwGM"
      },
      "source": [
        "all_stopwords = nlp.Defaults.stop_words\r\n",
        "sentence_2=[]\r\n",
        "sent=[]"
      ],
      "execution_count": 94,
      "outputs": []
    },
    {
      "cell_type": "code",
      "metadata": {
        "id": "LAWUX46Rnn2n"
      },
      "source": [
        "#tokenize each word\r\n",
        "def fuzzy(sentence):\r\n",
        "    str2match=sentence\r\n",
        "    strOptions=words\r\n",
        "    Ratios=process.extract(str2match,strOptions)\r\n",
        "    highest=process.extractOne(str2match,strOptions)\r\n",
        "    return highest[0]\r\n",
        "def clean_up_sentence(sentence):\r\n",
        "        sentence_2=[]\r\n",
        "        sent=[]\r\n",
        "        sentence=str(sentence)\r\n",
        "        sentence_1=fuzzy(sentence)\r\n",
        "        sentence_words= nlp(sentence_1)\r\n",
        "        l=[]\r\n",
        "        for i in sentence_words:\r\n",
        "             i=str(i)\r\n",
        "             l.append(i)\r\n",
        "      \r\n",
        "        sentence_2.extend(l)\r\n",
        "        # lemmatizing the words\r\n",
        "        sent=[nlp(word.lower())[0].lemma_ for word in sentence_2]\r\n",
        "        sent=[ w  for w in sent if w not in all_stopwords]\r\n",
        "        return sent\r\n",
        "def bow(sentence ,words):\r\n",
        "\r\n",
        "    sentence_words = clean_up_sentence(sentence)\r\n",
        "    # bag of words - matrix of N words, vocabulary matrix\r\n",
        "    bag = [0]*len(words) \r\n",
        "    for s in sentence_words:\r\n",
        "        for i,w in enumerate(words):\r\n",
        "            if w == s: \r\n",
        "                # assign 1 if current word is in the vocabulary position\r\n",
        "                bag[i] = 1\r\n",
        "                \r\n",
        "    return(np.array(bag))\r\n",
        "\r\n",
        "def predict_class(sentence, model):\r\n",
        "    # filter out predictions below a threshold\r\n",
        "    p = bow(sentence, words)\r\n",
        "    res = model.predict(np.array([p]))[0]\r\n",
        "    ERROR_THRESHOLD = 0.25\r\n",
        "    results = [[i,r] for i,r in enumerate(res) if r>ERROR_THRESHOLD]\r\n",
        "    # sort by strength of probability\r\n",
        "    results.sort(key=lambda x: x[1], reverse=True)\r\n",
        "    return_list = []\r\n",
        "    for r in results:\r\n",
        "        return_list.append({\"intent\": classes[r[0]], \"probability\": str(r[1])})\r\n",
        "    return return_list    "
      ],
      "execution_count": 95,
      "outputs": []
    },
    {
      "cell_type": "code",
      "metadata": {
        "id": "ir-MZyCCnvAH"
      },
      "source": [
        "def getResponse(ints, intents_json):\r\n",
        "    tag = ints[0]['intent']\r\n",
        "    list_of_intents = intents_json['intents']\r\n",
        "    for i in list_of_intents:\r\n",
        "        if(i['tag']== tag):\r\n",
        "            result = random.choice(i['responses'])\r\n",
        "            break\r\n",
        "    return result\r\n",
        "\r\n",
        "\r\n",
        "def chatbot_response(text):\r\n",
        "    ints = predict_class(text, model)\r\n",
        "    res = getResponse(ints, intents)\r\n",
        "    tag = ints[0]['intent']\r\n",
        "    if tag==\"order_food\":\r\n",
        "       k=print_menu()\r\n",
        "       res=res+\" \\n \"+ k[0] +\" \\n \"+ k[1] +\" \\n \"+ k[2] +\" \\n \"+k[3]\r\n",
        "    elif tag==\"Non-Veg Pizza\":\r\n",
        "       q=print_nonveg()\r\n",
        "       res=res+\" \\n \"+ q[0] +\" \\n \"+ q[1] +\" \\n \"+ q[2] +\" \\n \"+q[3]+\" \\n \"\r\n",
        "\r\n",
        "    elif tag==\"Veg Pizza\":\r\n",
        "        v=print_veg()\r\n",
        "        res=res+\" \\n \"+ v[0] +\" \\n \"+ v[1] +\" \\n \"+ v[2] +\" \\n \"+v[3]+\" \\n \"\r\n",
        "    elif tag==\"Beverages\":\r\n",
        "         B=print_bever()\r\n",
        "         res=res+\" \\n \"+ B[0] +\" \\n \"+ B[1] +\" \\n \"+ B[2] +\" \\n \"+B[3]+\" \\n \"\r\n",
        "    elif tag==\"Slides\":\r\n",
        "         s=print_slides()\r\n",
        "         res=res+\" \\n \"+ s[0] +\" \\n \"+ s[1] +\" \\n \"+ s[2] +\" \\n \"\r\n",
        "\r\n",
        "    return res"
      ],
      "execution_count": 96,
      "outputs": []
    },
    {
      "cell_type": "code",
      "metadata": {
        "id": "M070ROHPbYh4"
      },
      "source": [
        "def print_nonveg():\r\n",
        "    food=[]\r\n",
        "    for intent in intents_1['intents']:\r\n",
        "        if intent['tag']==\"Non-Veg Pizza\":\r\n",
        "          for i in intent['items']:\r\n",
        "            food.append(i)        \r\n",
        "    return food       "
      ],
      "execution_count": 97,
      "outputs": []
    },
    {
      "cell_type": "code",
      "metadata": {
        "id": "taVYNJX7Zmyc"
      },
      "source": [
        "#method to print the menu\r\n",
        "def print_menu():\r\n",
        "  l=[]\r\n",
        "  for intent in intents_1['intents']:\r\n",
        "      l.append(intent['tag'])\r\n",
        "  return l"
      ],
      "execution_count": 98,
      "outputs": []
    },
    {
      "cell_type": "code",
      "metadata": {
        "id": "kEkp4O01eicw",
        "colab": {
          "base_uri": "https://localhost:8080/"
        },
        "outputId": "ff974194-0cd5-43b2-d5fb-a9e5572c2cee"
      },
      "source": [
        "def print_veg():\r\n",
        "    food=[]\r\n",
        "    for intent in intents_1['intents']:\r\n",
        "        if intent['tag']==\"Veg Pizza\":\r\n",
        "            for i in intent['items']:\r\n",
        "                food.append(i)        \r\n",
        "    return food\r\n",
        "print_veg()     "
      ],
      "execution_count": 99,
      "outputs": [
        {
          "output_type": "execute_result",
          "data": {
            "text/plain": [
              "['peppy paneer',\n",
              " 'Mexican green wave',\n",
              " 'Veggie paradise',\n",
              " 'veg extravaganza',\n",
              " 'deluxe veggie',\n",
              " 'paneer Makhani',\n",
              " 'creamy tomato pasta ']"
            ]
          },
          "metadata": {
            "tags": []
          },
          "execution_count": 99
        }
      ]
    },
    {
      "cell_type": "code",
      "metadata": {
        "id": "gAdoVIkPfe9e",
        "colab": {
          "base_uri": "https://localhost:8080/"
        },
        "outputId": "7a5c2502-4bfb-4558-b6ab-bacc3a2daa12"
      },
      "source": [
        "def print_bever():\r\n",
        "    food=[]\r\n",
        "    for intent in intents_1['intents']:\r\n",
        "        if intent['tag']==\"Beverages\":\r\n",
        "            for i in intent['items']:\r\n",
        "                food.append(i)        \r\n",
        "    return food\r\n",
        "print_bever()    "
      ],
      "execution_count": 100,
      "outputs": [
        {
          "output_type": "execute_result",
          "data": {
            "text/plain": [
              "['pepsi', 'slice', '7up', 'mirinda', 'nimbooz']"
            ]
          },
          "metadata": {
            "tags": []
          },
          "execution_count": 100
        }
      ]
    },
    {
      "cell_type": "code",
      "metadata": {
        "id": "E8z0IshXfs15",
        "colab": {
          "base_uri": "https://localhost:8080/"
        },
        "outputId": "e0564071-2adb-40f8-8a8a-8696770ec8e2"
      },
      "source": [
        "def print_slides():\r\n",
        "    food=[]\r\n",
        "    for intent in intents_1['intents']:\r\n",
        "        if intent['tag']==\"Slides\":\r\n",
        "            for i in intent['items']:\r\n",
        "                food.append(i)        \r\n",
        "    return food\r\n",
        "print_slides()    "
      ],
      "execution_count": 101,
      "outputs": [
        {
          "output_type": "execute_result",
          "data": {
            "text/plain": [
              "['garlic breadsticks', 'taco mexicana veg', 'Butterscotch mouse cake']"
            ]
          },
          "metadata": {
            "tags": []
          },
          "execution_count": 101
        }
      ]
    },
    {
      "cell_type": "code",
      "metadata": {
        "id": "knX2Roy7bPtg"
      },
      "source": [
        "#method to print the non veg menu\r\n",
        "def non_veg():\r\n",
        "    for intent in intents_1['intents']:\r\n",
        "      k=intent['tag']\r\n",
        "      print(k)\r\n"
      ],
      "execution_count": 102,
      "outputs": []
    },
    {
      "cell_type": "code",
      "metadata": {
        "id": "mFPR7vBtqZT6",
        "colab": {
          "base_uri": "https://localhost:8080/"
        },
        "outputId": "94c74a01-d4e1-403e-bde2-ee091d82cdc4"
      },
      "source": [
        "k=chatbot_response(\"cancel order\")\r\n",
        "print(k)"
      ],
      "execution_count": 117,
      "outputs": [
        {
          "output_type": "stream",
          "text": [
            "your order cancelled successfully\n"
          ],
          "name": "stdout"
        }
      ]
    },
    {
      "cell_type": "code",
      "metadata": {
        "id": "g5m7arbrMAuW"
      },
      "source": [
        ""
      ],
      "execution_count": 103,
      "outputs": []
    }
  ]
}