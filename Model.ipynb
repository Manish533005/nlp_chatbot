{
  "nbformat": 4,
  "nbformat_minor": 0,
  "metadata": {
    "colab": {
      "name": "Model",
      "provenance": [],
      "authorship_tag": "ABX9TyMCcNUKB33718Z/QjFpXxJm",
      "include_colab_link": true
    },
    "kernelspec": {
      "name": "python3",
      "display_name": "Python 3"
    }
  },
  "cells": [
    {
      "cell_type": "markdown",
      "metadata": {
        "id": "view-in-github",
        "colab_type": "text"
      },
      "source": [
        "<a href=\"https://colab.research.google.com/github/Manish533005/nlp_chatbot/blob/main/Model.ipynb\" target=\"_parent\"><img src=\"https://colab.research.google.com/assets/colab-badge.svg\" alt=\"Open In Colab\"/></a>"
      ]
    },
    {
      "cell_type": "code",
      "metadata": {
        "colab": {
          "base_uri": "https://localhost:8080/"
        },
        "id": "92kh7f5BnTJS",
        "outputId": "a2e9e37a-2e71-4de2-8a91-5639a465e747"
      },
      "source": [
        "import pickle\r\n",
        "import numpy as np\r\n",
        "from keras.models import load_model\r\n",
        "import json\r\n",
        "import random\r\n",
        "from fuzzywuzzy import process\r\n",
        "import spacy\r\n",
        "model =load_model(\"chatbot_3.h5\")\r\n",
        "intents = json.loads(open('chatbot_dataset.json').read())\r\n",
        "intents_1=json.loads(open(\"food_document.json\").read())\r\n",
        "words = pickle.load(open('words.pkl','rb'))\r\n",
        "classes = pickle.load(open('classes.pkl','rb'))\r\n",
        "nlp=spacy.load(\"en_core_web_sm\")\r\n",
        "print(len(words))\r\n",
        "print(len(classes))"
      ],
      "execution_count": null,
      "outputs": [
        {
          "output_type": "stream",
          "text": [
            "44\n",
            "14\n"
          ],
          "name": "stdout"
        }
      ]
    },
    {
      "cell_type": "code",
      "metadata": {
        "colab": {
          "base_uri": "https://localhost:8080/"
        },
        "id": "6_g9gniupgp9",
        "outputId": "1c7728cf-d630-40a2-d8e1-b9a14e603767"
      },
      "source": [
        "!pip install fuzzywuzzy"
      ],
      "execution_count": null,
      "outputs": [
        {
          "output_type": "stream",
          "text": [
            "Requirement already satisfied: fuzzywuzzy in /usr/local/lib/python3.6/dist-packages (0.18.0)\n"
          ],
          "name": "stdout"
        }
      ]
    },
    {
      "cell_type": "code",
      "metadata": {
        "colab": {
          "base_uri": "https://localhost:8080/"
        },
        "id": "QDAmmhlWQSvU",
        "outputId": "edee289b-d203-4398-cf25-30bd962dd131"
      },
      "source": [
        "print(intents_1)"
      ],
      "execution_count": null,
      "outputs": [
        {
          "output_type": "stream",
          "text": [
            "{'intents': [{'tag': 'Non-Veg Pizza', 'items': [], 'size': [], 'price': []}, {'tag': 'Veg Pizza', 'items': [], 'size': [], 'price': []}, {'tag': 'Beverages', 'items': [], 'size': [], 'price': []}, {'tag': 'Slides', 'items': [], 'size': [], 'price': []}]}\n"
          ],
          "name": "stdout"
        }
      ]
    },
    {
      "cell_type": "code",
      "metadata": {
        "colab": {
          "base_uri": "https://localhost:8080/"
        },
        "id": "Se06UOg2rFh1",
        "outputId": "ee0ea11d-766f-42a1-ac5c-4be8c74a2fc8"
      },
      "source": [
        "print(words)"
      ],
      "execution_count": null,
      "outputs": [
        {
          "output_type": "stream",
          "text": [
            "['-', '-PRON-', 'add', 'available', 'beverage', 'bye', 'cancel', 'cancle', 'change', 'chat', 'chicken', 'city', 'combo', 'confirm', 'dominator', 'edit', 'food', 'good', 'goodbye', 'hello', 'hey', 'hi', 'hungry', 'item', 'large', 'later', 'medium', 'menu', 'nice', 'non', 'order', 'pizza', 'remove', 'request', 'slide', 'small', 'till', 'time', 'today', 'town', 'variety', 'veg', 'view', 'want']\n"
          ],
          "name": "stdout"
        }
      ]
    },
    {
      "cell_type": "code",
      "metadata": {
        "id": "VrcKn8YsRwGM"
      },
      "source": [
        "all_stopwords = nlp.Defaults.stop_words\r\n",
        "sentence_2=[]\r\n",
        "sent=[]"
      ],
      "execution_count": null,
      "outputs": []
    },
    {
      "cell_type": "code",
      "metadata": {
        "id": "LAWUX46Rnn2n"
      },
      "source": [
        "#tokenize each word\r\n",
        "def fuzzy(sentence):\r\n",
        "    str2match=sentence\r\n",
        "    strOptions=words\r\n",
        "    Ratios=process.extract(str2match,strOptions)\r\n",
        "    highest=process.extractOne(str2match,strOptions)\r\n",
        "    return highest[0]\r\n",
        "def clean_up_sentence(sentence):\r\n",
        "        sentence=str(sentence)\r\n",
        "        sentence_1=fuzzy(sentence)\r\n",
        "        sentence_words= nlp(sentence_1)\r\n",
        "        l=[]\r\n",
        "        for i in sentence_words:\r\n",
        "             i=str(i)\r\n",
        "             l.append(i)\r\n",
        "        sentence_2.extend(l)\r\n",
        "        # lemmatizing the words\r\n",
        "        sent=[nlp(word.lower())[0].lemma_ for word in sentence_2]\r\n",
        "        sent=[ w  for w in sent if w not in all_stopwords]\r\n",
        "        return sent\r\n",
        "def bow(sentence ,words,show_details=True):\r\n",
        "\r\n",
        "    sentence_words = clean_up_sentence(sentence)\r\n",
        "    # bag of words - matrix of N words, vocabulary matrix\r\n",
        "    bag = [0]*len(words) \r\n",
        "    for s in sentence_words:\r\n",
        "        for i,w in enumerate(words):\r\n",
        "            if w == s: \r\n",
        "                # assign 1 if current word is in the vocabulary position\r\n",
        "                bag[i] = 1\r\n",
        "                if show_details:\r\n",
        "                    print (\"found in bag: %s\" % w)\r\n",
        "    return(np.array(bag))\r\n",
        "\r\n",
        "def predict_class(sentence, model):\r\n",
        "    # filter out predictions below a threshold\r\n",
        "    p = bow(sentence, words,show_details=False)\r\n",
        "    res = model.predict(np.array([p]))[0]\r\n",
        "    ERROR_THRESHOLD = 0.25\r\n",
        "    results = [[i,r] for i,r in enumerate(res) if r>ERROR_THRESHOLD]\r\n",
        "    # sort by strength of probability\r\n",
        "    results.sort(key=lambda x: x[1], reverse=True)\r\n",
        "    return_list = []\r\n",
        "    for r in results:\r\n",
        "        return_list.append({\"intent\": classes[r[0]], \"probability\": str(r[1])})\r\n",
        "     \r\n",
        "    return return_list    "
      ],
      "execution_count": null,
      "outputs": []
    },
    {
      "cell_type": "code",
      "metadata": {
        "id": "ir-MZyCCnvAH"
      },
      "source": [
        "def getResponse(ints, intents_json):\r\n",
        "    tag = ints[0]['intent']\r\n",
        "    print(tag)\r\n",
        "\r\n",
        "    list_of_intents = intents_json['intents']\r\n",
        "    for i in list_of_intents:\r\n",
        "        if(i['tag']== tag):\r\n",
        "            result = random.choice(i['responses'])\r\n",
        "            break\r\n",
        "    return result\r\n",
        "\r\n",
        "def chatbot_response(text):\r\n",
        "    ints = predict_class(text, model)\r\n",
        "    res = getResponse(ints, intents)\r\n",
        "    tag = ints[0]['intent']\r\n",
        "    if tag==\"order_food\":\r\n",
        "       k=print_menu()\r\n",
        "       res=res+\" \\n \"+ k[0] +\" \\n \"+ k[1] +\" \\n \"+ k[2] +\" \\n \"+k[3]\r\n",
        "    elif tag==\"Non-Veg Pizza\":\r\n",
        "       k=print_nonveg()\r\n",
        "       res=res+\" \\n \"+ k[0] +\" \\n \"+ k[1] +\" \\n \"+ k[2] +\" \\n \"+k[3]+\" \\n \"\r\n",
        "\r\n",
        "       \r\n",
        "    return res"
      ],
      "execution_count": null,
      "outputs": []
    },
    {
      "cell_type": "code",
      "metadata": {
        "colab": {
          "base_uri": "https://localhost:8080/"
        },
        "id": "nsNYWPhQQkRF",
        "outputId": "0479cc0a-ccfb-4d10-e74a-22ad5c39c86e"
      },
      "source": [
        "k=chatbot_response(\"non veg\")\r\n",
        "print(k)\r\n"
      ],
      "execution_count": null,
      "outputs": [
        {
          "output_type": "stream",
          "text": [
            "order_food\n",
            "Explore our menu \n",
            " Non-Veg Pizza \n",
            " Veg Pizza \n",
            " Beverages \n",
            " Slides\n"
          ],
          "name": "stdout"
        }
      ]
    },
    {
      "cell_type": "code",
      "metadata": {
        "colab": {
          "base_uri": "https://localhost:8080/"
        },
        "id": "M070ROHPbYh4",
        "outputId": "8e29eaba-933c-4770-fefb-655ac2479bde"
      },
      "source": [
        "def print_nonveg():\r\n",
        "    food=[]\r\n",
        "    for intent in intents_1['intents']:\r\n",
        "        for i in intent['items']:\r\n",
        "            food.append(i)        \r\n",
        "    return food\r\n",
        "print_nonveg()         "
      ],
      "execution_count": null,
      "outputs": [
        {
          "output_type": "execute_result",
          "data": {
            "text/plain": [
              "['chicken dominator', 'chicken extravaganza']"
            ]
          },
          "metadata": {
            "tags": []
          },
          "execution_count": 76
        }
      ]
    },
    {
      "cell_type": "code",
      "metadata": {
        "id": "taVYNJX7Zmyc"
      },
      "source": [
        "#method to print the menu\r\n",
        "def print_menu():\r\n",
        "  l=[]\r\n",
        "  for intent in intents_1['intents']:\r\n",
        "      l.append(intent['tag'])\r\n",
        "  return l"
      ],
      "execution_count": null,
      "outputs": []
    },
    {
      "cell_type": "code",
      "metadata": {
        "id": "knX2Roy7bPtg"
      },
      "source": [
        "#method to print the non veg menu\r\n",
        "def non_veg():\r\n",
        "    for intent in intents_1['intents']:\r\n",
        "      k=intent['tag']\r\n",
        "      print(k)\r\n"
      ],
      "execution_count": null,
      "outputs": []
    },
    {
      "cell_type": "code",
      "metadata": {
        "id": "1Qu_RHp-nzLg"
      },
      "source": [
        "#Creating GUI with tkinter\r\n",
        "import tkinter\r\n",
        "from tkinter import *\r\n",
        "import matplotlib\r\n",
        "\r\n",
        "\r\n",
        "def send():\r\n",
        "    msg = EntryBox.get(\"1.0\",'end-1c').strip() \r\n",
        "    EntryBox.delete(\"0.0\",END)\r\n",
        "\r\n",
        "    if msg != '':\r\n",
        "        ChatLog.config(state=NORMAL)\r\n",
        "        ChatLog.insert(END, \"You: \" + msg + '\\n\\n')\r\n",
        "        ChatLog.config(foreground=\"#442265\", font=(\"Verdana\", 12 ))\r\n",
        "\r\n",
        "        res = chatbot_response(msg)\r\n",
        "        ChatLog.insert(END, \"Bot: \" + res + '\\n\\n')\r\n",
        "\r\n",
        "        ChatLog.config(state=DISABLED)\r\n",
        "        ChatLog.yview(END)\r\n",
        "\r\n",
        "base = Tk()\r\n",
        "base.title(\"Domios Pizza chatbot\")\r\n",
        "base.geometry(\"400x500\")\r\n",
        "base.resizable(width=FALSE, height=FALSE)\r\n",
        "\r\n",
        "#Create Chat window\r\n",
        "ChatLog = Text(base, bd=0, bg=\"white\", height=\"8\", width=\"50\", font=\"Arial\",)\r\n",
        "\r\n",
        "ChatLog.config(state=DISABLED)\r\n",
        "\r\n",
        "#Bind scrollbar to Chat window\r\n",
        "scrollbar = Scrollbar(base, command=ChatLog.yview, cursor=\"heart\")\r\n",
        "ChatLog['yscrollcommand'] = scrollbar.set\r\n",
        "\r\n",
        "#Create Button to send message\r\n",
        "SendButton = Button(base, font=(\"Verdana\",12,'bold'), text=\"Send\", width=\"12\", height=5,\r\n",
        "                    bd=0, bg=\"#32de97\", activebackground=\"#3c9d9b\",fg='#ffffff',\r\n",
        "                    command= send )\r\n",
        "\r\n",
        "#Create the box to enter message\r\n",
        "EntryBox = Text(base, bd=0, bg=\"white\",width=\"29\", height=\"5\", font=\"Arial\")\r\n",
        "#EntryBox.bind(\"<Return>\", send)\r\n",
        "\r\n",
        "\r\n",
        "#Place all components on the screen\r\n",
        "scrollbar.place(x=376,y=6, height=386)\r\n",
        "ChatLog.place(x=6,y=6, height=386, width=370)\r\n",
        "EntryBox.place(x=128, y=401, height=90, width=265)\r\n",
        "SendButton.place(x=6, y=401, height=90)"
      ],
      "execution_count": null,
      "outputs": []
    },
    {
      "cell_type": "code",
      "metadata": {
        "id": "mFPR7vBtqZT6"
      },
      "source": [
        ""
      ],
      "execution_count": null,
      "outputs": []
    }
  ]
}