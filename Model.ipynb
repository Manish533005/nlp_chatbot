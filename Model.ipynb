{
  "nbformat": 4,
  "nbformat_minor": 0,
  "metadata": {
    "colab": {
      "name": "Model",
      "provenance": [],
      "collapsed_sections": [],
      "authorship_tag": "ABX9TyOUGwmPBCXZ8Jbzc9VNOMjx",
      "include_colab_link": true
    },
    "kernelspec": {
      "display_name": "Python 3",
      "name": "python3"
    }
  },
  "cells": [
    {
      "cell_type": "markdown",
      "metadata": {
        "id": "view-in-github",
        "colab_type": "text"
      },
      "source": [
        "<a href=\"https://colab.research.google.com/github/Manish533005/nlp_chatbot/blob/main/Model.ipynb\" target=\"_parent\"><img src=\"https://colab.research.google.com/assets/colab-badge.svg\" alt=\"Open In Colab\"/></a>"
      ]
    },
    {
      "cell_type": "code",
      "metadata": {
        "colab": {
          "base_uri": "https://localhost:8080/"
        },
        "id": "92kh7f5BnTJS",
        "outputId": "54f771a0-39ce-4b80-c35a-bdb2d7713c6d"
      },
      "source": [
        "import pickle\r\n",
        "import numpy as np\r\n",
        "from keras.models import load_model\r\n",
        "import json\r\n",
        "import random\r\n",
        "from fuzzywuzzy import process\r\n",
        "import spacy\r\n",
        "model =load_model(\"chatbot_6.h5\")\r\n",
        "intents = json.loads(open('chatbot_dataset.json').read())\r\n",
        "intents_1=json.loads(open(\"food_document.json\").read())\r\n",
        "words = pickle.load(open('words.pkl','rb'))\r\n",
        "classes = pickle.load(open('classes.pkl','rb'))\r\n",
        "nlp=spacy.load(\"en_core_web_sm\")\r\n",
        "print(len(words))\r\n",
        "print(len(classes))\r\n",
        "items_append=[]\r\n",
        "price_append=[]\r\n",
        "rem_value=0"
      ],
      "execution_count": 379,
      "outputs": [
        {
          "output_type": "stream",
          "text": [
            "79\n",
            "14\n"
          ],
          "name": "stdout"
        }
      ]
    },
    {
      "cell_type": "code",
      "metadata": {
        "colab": {
          "base_uri": "https://localhost:8080/"
        },
        "id": "6_g9gniupgp9",
        "outputId": "6bd08623-2834-46b6-ff56-1cb573a06764"
      },
      "source": [
        "!pip install fuzzywuzzy"
      ],
      "execution_count": 355,
      "outputs": [
        {
          "output_type": "stream",
          "text": [
            "Requirement already satisfied: fuzzywuzzy in /usr/local/lib/python3.6/dist-packages (0.18.0)\n"
          ],
          "name": "stdout"
        }
      ]
    },
    {
      "cell_type": "code",
      "metadata": {
        "colab": {
          "base_uri": "https://localhost:8080/"
        },
        "id": "QDAmmhlWQSvU",
        "outputId": "463d7414-7919-4446-d07d-0965916e46ec"
      },
      "source": [
        "print(intents_1)"
      ],
      "execution_count": 356,
      "outputs": [
        {
          "output_type": "stream",
          "text": [
            "{'intents': [{'tag': 'Non-Veg Pizza', 'items': ['chicken pepperoni', 'Pepper Barbecue', 'Dominator', 'chicken Sausage', 'pepper barbecue and onion', 'Indi chicken tikka', 'Moroccan Spice Pasta Pizza'], 'size': ['small', 'medium', 'large'], 'price': [350]}, {'tag': 'Veg Pizza', 'items': ['peppy paneer', 'Mexican green wave', 'Veggie paradise', 'veg extravaganza', 'deluxe veggie', 'paneer Makhani', 'creamy tomato pasta '], 'size': ['small', 'medium', 'large'], 'price': [300]}, {'tag': 'Beverages', 'items': ['pepsi', 'slice', '7up', 'mirinda', 'nimbooz'], 'size': [], 'price': [50]}, {'tag': 'Slides', 'items': ['garlic breadsticks', 'taco mexicana veg', 'Butterscotch mouse cake'], 'size': [], 'price': [99]}]}\n"
          ],
          "name": "stdout"
        }
      ]
    },
    {
      "cell_type": "code",
      "metadata": {
        "colab": {
          "base_uri": "https://localhost:8080/"
        },
        "id": "Se06UOg2rFh1",
        "outputId": "4bcfbaaf-a383-4e2f-fe56-19b3ba880d60"
      },
      "source": [
        "print(words)"
      ],
      "execution_count": 357,
      "outputs": [
        {
          "output_type": "stream",
          "text": [
            "['-', '-PRON-', '7up', 'add', 'available', 'barbecue', 'beverage', 'breadstick', 'butterscotch', 'bye', 'cake', 'cancel', 'cancle', 'change', 'chat', 'chicken', 'combo', 'confirm', 'cool', 'creamy', 'deluxe', 'dominator', 'drink', 'edit', 'extravaganza', 'food', 'garlic', 'goodbye', 'green', 'hard', 'hello', 'hey', 'hi', 'hungry', 'indi', 'item', 'large', 'later', 'makhani', 'medium', 'menu', 'mexican', 'mexicana', 'mirinda', 'moroccan', 'mouse', 'nice', 'nimbooz', 'non', 'nonveg', 'onion', 'order', 'paneer', 'paradise', 'pasta', 'pepper', 'pepperoni', 'peppy', 'pepsi', 'pizza', 'remove', 'request', 'sausage', 'slice', 'slide', 'small', 'spice', 'taco', 'tikka', 'till', 'time', 'today', 'tomato', 'variety', 'veg', 'veggie', 'view', 'want', 'wave']\n"
          ],
          "name": "stdout"
        }
      ]
    },
    {
      "cell_type": "code",
      "metadata": {
        "id": "VrcKn8YsRwGM"
      },
      "source": [
        "all_stopwords = nlp.Defaults.stop_words\r\n",
        "sentence_2=[]\r\n",
        "sent=[]"
      ],
      "execution_count": 358,
      "outputs": []
    },
    {
      "cell_type": "code",
      "metadata": {
        "id": "LAWUX46Rnn2n"
      },
      "source": [
        "#tokenize each word\r\n",
        "def fuzzy(sentence):\r\n",
        "    str2match=sentence\r\n",
        "    strOptions=words\r\n",
        "    Ratios=process.extract(str2match,strOptions)\r\n",
        "    highest=process.extractOne(str2match,strOptions)\r\n",
        "    print(highest[0])\r\n",
        "    print(\"above is fuzzy wuzzy\")\r\n",
        "    return highest[0]\r\n",
        "def clean_up_sentence(sentence):\r\n",
        "        sentence_2=[]\r\n",
        "        sent=[]\r\n",
        "        sentence=str(sentence)\r\n",
        "        sentence_1=fuzzy(sentence)\r\n",
        "        sentence_words= nlp(sentence_1)\r\n",
        "        l=[]\r\n",
        "        for i in sentence_words:\r\n",
        "             i=str(i)\r\n",
        "             l.append(i)\r\n",
        "      \r\n",
        "        sentence_2.extend(l)\r\n",
        "        # lemmatizing the words\r\n",
        "        sent=[nlp(word.lower())[0].lemma_ for word in sentence_2]\r\n",
        "        sent=[ w  for w in sent if w not in all_stopwords]\r\n",
        "        return sent\r\n",
        "def bow(sentence ,words):\r\n",
        "\r\n",
        "    sentence_words = clean_up_sentence(sentence)\r\n",
        "    # bag of words - matrix of N words, vocabulary matrix\r\n",
        "    bag = [0]*len(words) \r\n",
        "    for s in sentence_words:\r\n",
        "        for i,w in enumerate(words):\r\n",
        "            if w == s: \r\n",
        "                # assign 1 if current word is in the vocabulary position\r\n",
        "                bag[i] = 1\r\n",
        "                \r\n",
        "    return(np.array(bag))\r\n",
        "\r\n",
        "def predict_class(sentence, model):\r\n",
        "    # filter out predictions below a threshold\r\n",
        "    p = bow(sentence, words)\r\n",
        "    res = model.predict(np.array([p]))[0]\r\n",
        "    print(res)\r\n",
        "    print(\"above is res in predict class\")\r\n",
        "    ERROR_THRESHOLD = 0.25\r\n",
        "    results = [[i,r] for i,r in enumerate(res) if r>ERROR_THRESHOLD]\r\n",
        "    # sort by strength of probability\r\n",
        "    results.sort(key=lambda x: x[1], reverse=True)\r\n",
        "    print(results)\r\n",
        "    print(\"print above  results\")\r\n",
        "    return_list = []\r\n",
        "    for r in results:\r\n",
        "        return_list.append({\"intent\": classes[r[0]], \"probability\": str(r[1])})\r\n",
        "    print(return_list)\r\n",
        "    print(\"print above return_list\")    \r\n",
        "    return return_list    "
      ],
      "execution_count": 359,
      "outputs": []
    },
    {
      "cell_type": "code",
      "metadata": {
        "id": "ir-MZyCCnvAH"
      },
      "source": [
        "def getResponse(ints, intents_json):\r\n",
        "    tag = ints[0]['intent']\r\n",
        "    list_of_intents = intents_json['intents']\r\n",
        "    for i in list_of_intents:\r\n",
        "        if(i['tag']== tag):\r\n",
        "            result = random.choice(i['responses'])\r\n",
        "            print(result)\r\n",
        "            print(\"above is result in get response\")\r\n",
        "            break\r\n",
        "    return result\r\n",
        "\r\n",
        "def chatbot_response(text):\r\n",
        "\r\n",
        "    fuzzy_1=fuzzy(text)\r\n",
        "    print(fuzzy_1,\"it is from fuzzy\")\r\n",
        "    \r\n",
        "    ints = predict_class(text, model)\r\n",
        "    print(ints)\r\n",
        "    print(\"chatbot\")\r\n",
        "    res = getResponse(ints, intents)\r\n",
        "    tag = ints[0]['intent']\r\n",
        "    \r\n",
        "    if tag==\"order_food\":\r\n",
        "         k=print_menu()\r\n",
        "         n=len(k)\r\n",
        "         for i in range(n):\r\n",
        "             res=res+\" \\n \"+ k[i]   \r\n",
        "    elif tag==\"Non-Veg Pizza\":\r\n",
        "         q=print_nonveg()\r\n",
        "         n=len(q)\r\n",
        "         for i in range(n):\r\n",
        "             res=res+\" \\n \"+ q[i]  \r\n",
        "\r\n",
        "    elif tag==\"Veg Pizza\":\r\n",
        "         v=print_veg()\r\n",
        "         n=len(v)\r\n",
        "         for i in range(n):\r\n",
        "             res=res+\" \\n \"+ v[i]  \r\n",
        "    elif tag==\"Beverages\":\r\n",
        "         B=print_bever()\r\n",
        "         n=len(B)\r\n",
        "         for i in range(n):\r\n",
        "             res=res+\" \\n \"+ B[i]  \r\n",
        "    elif tag==\"Slides\":\r\n",
        "         s=print_slides()\r\n",
        "         n=len(s)\r\n",
        "         for i in range(n):\r\n",
        "             res=res+\" \\n \"+ s[i]  \r\n",
        "    elif tag==\"food_item\":\r\n",
        "         f=cart(fuzzy_1,tag) \r\n",
        "         a,b=f\r\n",
        "         items_append.extend(b)\r\n",
        "         price_append.extend(a)\r\n",
        "         print(price_append)\r\n",
        "         total_items(price_append,items_append)\r\n",
        "         if (rem_value>0):\r\n",
        "             items_append.remove(fuzzy_1)\r\n",
        "             res=res+\"\\n\"+\"item is removed from the cart\"\r\n",
        "    elif tag==\"confirm_order\":\r\n",
        "         con= total_items(price_append,items_append)\r\n",
        "         n=len(con)\r\n",
        "         for i in range(n):\r\n",
        "             res=res+\" \\n \"+ con[i]   \r\n",
        "    elif tag==\"add_menu\":\r\n",
        "         add=print_menu()\r\n",
        "         n=len(add)\r\n",
        "         for i in range(n):\r\n",
        "             res=res+\" \\n \"+ add[i]  \r\n",
        "    elif tag==\"remove_menu\":\r\n",
        "         rem_value=0\r\n",
        "         rem_value=rem_value+1\r\n",
        "         rem= total_items(price_append,items_append)\r\n",
        "         n=len(rem)\r\n",
        "         for i in range(n):\r\n",
        "             res=res+\" \\n \"+ rem[i]  \r\n",
        "\r\n",
        "    \r\n",
        "    return res"
      ],
      "execution_count": 383,
      "outputs": []
    },
    {
      "cell_type": "code",
      "metadata": {
        "id": "M070ROHPbYh4"
      },
      "source": [
        "def print_nonveg():\r\n",
        "    food=[]\r\n",
        "    for intent in intents_1['intents']:\r\n",
        "        if intent['tag']==\"Non-Veg Pizza\":\r\n",
        "          for i in intent['items']:\r\n",
        "            food.append(i)        \r\n",
        "    return food       "
      ],
      "execution_count": 361,
      "outputs": []
    },
    {
      "cell_type": "code",
      "metadata": {
        "id": "taVYNJX7Zmyc"
      },
      "source": [
        "#method to print the menu\r\n",
        "def print_menu():\r\n",
        "  l=[]\r\n",
        "  for intent in intents_1['intents']:\r\n",
        "      l.append(intent['tag'])\r\n",
        "  return l"
      ],
      "execution_count": 362,
      "outputs": []
    },
    {
      "cell_type": "code",
      "metadata": {
        "id": "kEkp4O01eicw",
        "colab": {
          "base_uri": "https://localhost:8080/"
        },
        "outputId": "95db698a-a662-45dc-9158-a7814b72780a"
      },
      "source": [
        "def print_veg():\r\n",
        "    food=[]\r\n",
        "    for intent in intents_1['intents']:\r\n",
        "        if intent['tag']==\"Veg Pizza\":\r\n",
        "            for i in intent['items']:\r\n",
        "                food.append(i)        \r\n",
        "    return food\r\n",
        "print_veg()     "
      ],
      "execution_count": 363,
      "outputs": [
        {
          "output_type": "execute_result",
          "data": {
            "text/plain": [
              "['peppy paneer',\n",
              " 'Mexican green wave',\n",
              " 'Veggie paradise',\n",
              " 'veg extravaganza',\n",
              " 'deluxe veggie',\n",
              " 'paneer Makhani',\n",
              " 'creamy tomato pasta ']"
            ]
          },
          "metadata": {
            "tags": []
          },
          "execution_count": 363
        }
      ]
    },
    {
      "cell_type": "code",
      "metadata": {
        "colab": {
          "base_uri": "https://localhost:8080/"
        },
        "id": "gAdoVIkPfe9e",
        "outputId": "df771963-bb66-4aee-fc04-8f6d6851f412"
      },
      "source": [
        "def print_bever():\r\n",
        "    food=[]\r\n",
        "    for intent in intents_1['intents']:\r\n",
        "        if intent['tag']==\"Beverages\":\r\n",
        "            for i in intent['items']:\r\n",
        "                food.append(i)        \r\n",
        "    return food\r\n",
        "print_bever()    "
      ],
      "execution_count": 364,
      "outputs": [
        {
          "output_type": "execute_result",
          "data": {
            "text/plain": [
              "['pepsi', 'slice', '7up', 'mirinda', 'nimbooz']"
            ]
          },
          "metadata": {
            "tags": []
          },
          "execution_count": 364
        }
      ]
    },
    {
      "cell_type": "code",
      "metadata": {
        "colab": {
          "base_uri": "https://localhost:8080/"
        },
        "id": "E8z0IshXfs15",
        "outputId": "f63aae70-0167-4f8b-a7f2-aee3d6ea8d8d"
      },
      "source": [
        "def print_slides():\r\n",
        "    food=[]\r\n",
        "    for intent in intents_1['intents']:\r\n",
        "        if intent['tag']==\"Slides\":\r\n",
        "            for i in intent['items']:\r\n",
        "                food.append(i)        \r\n",
        "    return food\r\n",
        "print_slides()    "
      ],
      "execution_count": 365,
      "outputs": [
        {
          "output_type": "execute_result",
          "data": {
            "text/plain": [
              "['garlic breadsticks', 'taco mexicana veg', 'Butterscotch mouse cake']"
            ]
          },
          "metadata": {
            "tags": []
          },
          "execution_count": 365
        }
      ]
    },
    {
      "cell_type": "code",
      "metadata": {
        "id": "knX2Roy7bPtg"
      },
      "source": [
        "list_items=[]\r\n",
        "for intent in intents['intents']:\r\n",
        "        if intent['tag']==\"food_item\":\r\n",
        "            for i in intent['patterns']:\r\n",
        "                list_items.append(i)\r\n",
        "                      \r\n",
        "list_items"
      ],
      "execution_count": null,
      "outputs": []
    },
    {
      "cell_type": "code",
      "metadata": {
        "id": "LTeRvK1cjxc9"
      },
      "source": [
        "\r\n",
        "def cart(res,tag):\r\n",
        "    cart_1=[]\r\n",
        "    price=[]\r\n",
        "    str2match=res\r\n",
        "    strOptions=list_items\r\n",
        "    Ratios=process.extract(str2match,strOptions)\r\n",
        "    highest=process.extractOne(str2match,strOptions)\r\n",
        "    item_name=highest[0]\r\n",
        "    cart_1.append(item_name)\r\n",
        "    print(cart_1)\r\n",
        "    print(\"the above is cart\")\r\n",
        "    for intent in intents_1['intents']:\r\n",
        "       if intent[\"tag\"]==\"Non-Veg Pizza\" and item_name in intent[\"items\"]:\r\n",
        "               for i in intent['price']:\r\n",
        "                   price.append(i)\r\n",
        "       elif intent[\"tag\"]==\"Veg Pizza\" and item_name in intent[\"items\"]:\r\n",
        "               for i in intent['price']:\r\n",
        "                   price.append(i)\r\n",
        "       elif intent[\"tag\"]==\"Beverages\" and item_name in intent[\"items\"]:\r\n",
        "               for i in intent['price']:\r\n",
        "                   price.append(i)\r\n",
        "       elif intent[\"tag\"]==\"Slides\" and item_name in intent[\"items\"]:\r\n",
        "               for i in intent['price']:\r\n",
        "                   price.append(i)          \r\n",
        "    print(price,cart_1)                                                       \r\n",
        "    return (price,cart_1)   \r\n",
        "\r\n"
      ],
      "execution_count": 367,
      "outputs": []
    },
    {
      "cell_type": "code",
      "metadata": {
        "id": "qZkx1zhdSMvs"
      },
      "source": [
        "def total_price(a):\r\n",
        "    sum=0\r\n",
        "    for i in a:\r\n",
        "        sum=sum+i\r\n",
        "    total=sum    \r\n",
        "    return total"
      ],
      "execution_count": 368,
      "outputs": []
    },
    {
      "cell_type": "code",
      "metadata": {
        "id": "IZOVMbgVbIxz"
      },
      "source": [
        "def total_items(a,b):\r\n",
        "    total_list=[]\r\n",
        "    total_list.extend(b)\r\n",
        "    total_value=total_price(a)\r\n",
        "    print(\"Total no. of items in your cart: \")\r\n",
        "    for i in total_list:\r\n",
        "        print(i)\r\n",
        "    print(\"Total price:\")\r\n",
        "    print(total_value) \r\n",
        "    return total_list   "
      ],
      "execution_count": 372,
      "outputs": []
    },
    {
      "cell_type": "code",
      "metadata": {
        "id": "JtGTbWBnBoNN"
      },
      "source": [
        "\r\n",
        "    "
      ],
      "execution_count": 369,
      "outputs": []
    },
    {
      "cell_type": "code",
      "metadata": {
        "colab": {
          "base_uri": "https://localhost:8080/",
          "height": 750
        },
        "id": "mFPR7vBtqZT6",
        "outputId": "6143c33b-7f9e-4dbf-b859-76dc1ac6d00c"
      },
      "source": [
        "k=chatbot_response(\"pepsi\")\r\n",
        "print(\"the belove is k\")\r\n",
        "print(k)"
      ],
      "execution_count": 384,
      "outputs": [
        {
          "output_type": "stream",
          "text": [
            "pepsi\n",
            "above is fuzzy wuzzy\n",
            "pepsi it is from fuzzy\n",
            "pepsi\n",
            "above is fuzzy wuzzy\n",
            "[1.6425480e-06 6.6554003e-07 7.7570895e-08 2.2722730e-07 5.5264391e-06\n",
            " 1.3631727e-06 1.2067186e-06 4.0738774e-07 1.0521975e-06 9.9998343e-01\n",
            " 2.8722278e-07 1.4277565e-06 2.4535868e-06 2.7218198e-07]\n",
            "above is res in predict class\n",
            "[[9, 0.99998343]]\n",
            "print above  results\n",
            "[{'intent': 'food_item', 'probability': '0.99998343'}]\n",
            "print above return_list\n",
            "[{'intent': 'food_item', 'probability': '0.99998343'}]\n",
            "chatbot\n",
            "added to cart\n",
            "above is result in get response\n",
            "['pepsi']\n",
            "the above is cart\n",
            "[50] ['pepsi']\n",
            "[50, 50]\n",
            "Total no. of items in your cart: \n",
            "pepsi\n",
            "pepsi\n",
            "Total price:\n",
            "100\n"
          ],
          "name": "stdout"
        },
        {
          "output_type": "error",
          "ename": "UnboundLocalError",
          "evalue": "ignored",
          "traceback": [
            "\u001b[0;31m---------------------------------------------------------------------------\u001b[0m",
            "\u001b[0;31mUnboundLocalError\u001b[0m                         Traceback (most recent call last)",
            "\u001b[0;32m<ipython-input-384-dc601e460f96>\u001b[0m in \u001b[0;36m<module>\u001b[0;34m()\u001b[0m\n\u001b[0;32m----> 1\u001b[0;31m \u001b[0mk\u001b[0m\u001b[0;34m=\u001b[0m\u001b[0mchatbot_response\u001b[0m\u001b[0;34m(\u001b[0m\u001b[0;34m\"pepsi\"\u001b[0m\u001b[0;34m)\u001b[0m\u001b[0;34m\u001b[0m\u001b[0;34m\u001b[0m\u001b[0m\n\u001b[0m\u001b[1;32m      2\u001b[0m \u001b[0mprint\u001b[0m\u001b[0;34m(\u001b[0m\u001b[0;34m\"the belove is k\"\u001b[0m\u001b[0;34m)\u001b[0m\u001b[0;34m\u001b[0m\u001b[0;34m\u001b[0m\u001b[0m\n\u001b[1;32m      3\u001b[0m \u001b[0mprint\u001b[0m\u001b[0;34m(\u001b[0m\u001b[0mk\u001b[0m\u001b[0;34m)\u001b[0m\u001b[0;34m\u001b[0m\u001b[0;34m\u001b[0m\u001b[0m\n",
            "\u001b[0;32m<ipython-input-383-ac02f06d8e65>\u001b[0m in \u001b[0;36mchatbot_response\u001b[0;34m(text)\u001b[0m\n\u001b[1;32m     54\u001b[0m          \u001b[0mprint\u001b[0m\u001b[0;34m(\u001b[0m\u001b[0mprice_append\u001b[0m\u001b[0;34m)\u001b[0m\u001b[0;34m\u001b[0m\u001b[0;34m\u001b[0m\u001b[0m\n\u001b[1;32m     55\u001b[0m          \u001b[0mtotal_items\u001b[0m\u001b[0;34m(\u001b[0m\u001b[0mprice_append\u001b[0m\u001b[0;34m,\u001b[0m\u001b[0mitems_append\u001b[0m\u001b[0;34m)\u001b[0m\u001b[0;34m\u001b[0m\u001b[0;34m\u001b[0m\u001b[0m\n\u001b[0;32m---> 56\u001b[0;31m          \u001b[0;32mif\u001b[0m \u001b[0;34m(\u001b[0m\u001b[0mrem_value\u001b[0m\u001b[0;34m>\u001b[0m\u001b[0;36m0\u001b[0m\u001b[0;34m)\u001b[0m\u001b[0;34m:\u001b[0m\u001b[0;34m\u001b[0m\u001b[0;34m\u001b[0m\u001b[0m\n\u001b[0m\u001b[1;32m     57\u001b[0m              \u001b[0mitems_append\u001b[0m\u001b[0;34m.\u001b[0m\u001b[0mremove\u001b[0m\u001b[0;34m(\u001b[0m\u001b[0mfuzzy_1\u001b[0m\u001b[0;34m)\u001b[0m\u001b[0;34m\u001b[0m\u001b[0;34m\u001b[0m\u001b[0m\n\u001b[1;32m     58\u001b[0m              \u001b[0mres\u001b[0m\u001b[0;34m=\u001b[0m\u001b[0mres\u001b[0m\u001b[0;34m+\u001b[0m\u001b[0;34m\"\\n\"\u001b[0m\u001b[0;34m+\u001b[0m\u001b[0;34m\"item is removed from the cart\"\u001b[0m\u001b[0;34m\u001b[0m\u001b[0;34m\u001b[0m\u001b[0m\n",
            "\u001b[0;31mUnboundLocalError\u001b[0m: local variable 'rem_value' referenced before assignment"
          ]
        }
      ]
    },
    {
      "cell_type": "code",
      "metadata": {
        "id": "g5m7arbrMAuW"
      },
      "source": [
        "\r\n"
      ],
      "execution_count": 371,
      "outputs": []
    },
    {
      "cell_type": "code",
      "metadata": {
        "id": "zu5z7KHDWhwv"
      },
      "source": [
        ""
      ],
      "execution_count": 371,
      "outputs": []
    }
  ]
}