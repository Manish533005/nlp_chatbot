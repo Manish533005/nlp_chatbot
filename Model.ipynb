{
  "nbformat": 4,
  "nbformat_minor": 0,
  "metadata": {
    "colab": {
      "name": "Model",
      "provenance": [],
      "collapsed_sections": [],
      "authorship_tag": "ABX9TyNvQmOaC95lNHpLW6udah4f",
      "include_colab_link": true
    },
    "kernelspec": {
      "display_name": "Python 3",
      "name": "python3"
    }
  },
  "cells": [
    {
      "cell_type": "markdown",
      "metadata": {
        "id": "view-in-github",
        "colab_type": "text"
      },
      "source": [
        "<a href=\"https://colab.research.google.com/github/Manish533005/nlp_chatbot/blob/main/Model.ipynb\" target=\"_parent\"><img src=\"https://colab.research.google.com/assets/colab-badge.svg\" alt=\"Open In Colab\"/></a>"
      ]
    },
    {
      "cell_type": "code",
      "metadata": {
        "id": "92kh7f5BnTJS"
      },
      "source": [
        "import pickle\r\n",
        "import numpy as np\r\n",
        "from keras.models import load_model\r\n",
        "import json\r\n",
        "import random\r\n",
        "from fuzzywuzzy import process\r\n",
        "import spacy\r\n",
        "model =load_model(\"chatbot_6.h5\")\r\n",
        "intents = json.loads(open('chatbot_dataset.json').read())\r\n",
        "intents_1=json.loads(open(\"food_document.json\").read())\r\n",
        "words = pickle.load(open('words.pkl','rb'))\r\n",
        "classes = pickle.load(open('classes.pkl','rb'))\r\n",
        "nlp=spacy.load(\"en_core_web_sm\")\r\n",
        "items_append=[]\r\n",
        "price_append=[]"
      ],
      "execution_count": null,
      "outputs": []
    },
    {
      "cell_type": "code",
      "metadata": {
        "colab": {
          "base_uri": "https://localhost:8080/"
        },
        "id": "6_g9gniupgp9",
        "outputId": "6463b140-bea2-4570-c8c6-6440528203da"
      },
      "source": [
        "!pip install fuzzywuzzy\r\n"
      ],
      "execution_count": null,
      "outputs": [
        {
          "output_type": "stream",
          "text": [
            "Requirement already satisfied: fuzzywuzzy in /usr/local/lib/python3.6/dist-packages (0.18.0)\n"
          ],
          "name": "stdout"
        }
      ]
    },
    {
      "cell_type": "code",
      "metadata": {
        "colab": {
          "base_uri": "https://localhost:8080/"
        },
        "id": "QDAmmhlWQSvU",
        "outputId": "3e283ce9-8d64-4689-faf9-68ffd1fba296"
      },
      "source": [
        "print(intents_1)"
      ],
      "execution_count": null,
      "outputs": [
        {
          "output_type": "stream",
          "text": [
            "{'intents': [{'tag': 'Non-Veg Pizza', 'items': ['chicken pepperoni', 'Pepper Barbecue', 'chicken Sausage', 'Moroccan Spice Pasta Pizza'], 'size': ['small', 'medium', 'large'], 'price': [300]}, {'tag': 'Veg Pizza', 'items': ['peppy paneer', 'Mexican green wave', 'Veggie paradise', 'veg extravaganza', 'deluxe veggie', 'paneer Makhani'], 'size': ['small', 'medium', 'large'], 'price': [250]}, {'tag': 'Beverages', 'items': ['pepsi', 'slice', '7up', 'mirinda', 'nimbooz'], 'size': [], 'price': [50]}, {'tag': 'Slides', 'items': ['garlic breadsticks', 'taco mexicana veg', 'veg Parcel', 'lava cake'], 'size': [], 'price': [99]}]}\n"
          ],
          "name": "stdout"
        }
      ]
    },
    {
      "cell_type": "code",
      "metadata": {
        "colab": {
          "base_uri": "https://localhost:8080/"
        },
        "id": "Se06UOg2rFh1",
        "outputId": "08f78a4b-7f96-4c88-9720-434e265e7345"
      },
      "source": [
        "print(words)"
      ],
      "execution_count": null,
      "outputs": [
        {
          "output_type": "stream",
          "text": [
            "['-', '-PRON-', '7up', 'add', 'available', 'barbecue', 'beverage', 'breadstick', 'bye', 'cake', 'cancel', 'cancle', 'change', 'chat', 'chicken', 'combo', 'confirm', 'cool', 'creamy', 'deluxe', 'dominator', 'drink', 'edit', 'extravaganza', 'food', 'garlic', 'goodbye', 'green', 'hard', 'hello', 'hey', 'hi', 'hungry', 'item', 'large', 'later', 'lava', 'makhani', 'medium', 'menu', 'mexican', 'mexicana', 'mirinda', 'moroccan', 'nice', 'nimbooz', 'non', 'nonveg', 'order', 'paneer', 'paradise', 'parcel', 'pasta', 'pepper', 'pepperoni', 'peppy', 'pepsi', 'pizza', 'remove', 'request', 'sausage', 'slice', 'slide', 'small', 'spice', 'taco', 'till', 'time', 'today', 'tomato', 'variety', 'veg', 'veggie', 'view', 'want', 'wave']\n"
          ],
          "name": "stdout"
        }
      ]
    },
    {
      "cell_type": "code",
      "metadata": {
        "id": "VrcKn8YsRwGM"
      },
      "source": [
        "all_stopwords = nlp.Defaults.stop_words\r\n",
        "sentence_2=[]\r\n",
        "sent=[]"
      ],
      "execution_count": null,
      "outputs": []
    },
    {
      "cell_type": "code",
      "metadata": {
        "id": "LAWUX46Rnn2n"
      },
      "source": [
        "#tokenize each word\r\n",
        "def fuzzy(sentence):\r\n",
        "    str2match=sentence\r\n",
        "    strOptions=words\r\n",
        "    Ratios=process.extract(str2match,strOptions)\r\n",
        "    highest=process.extractOne(str2match,strOptions)\r\n",
        "    return highest[0]\r\n",
        "def clean_up_sentence(sentence):\r\n",
        "        sentence_2=[]\r\n",
        "        sent=[]\r\n",
        "        sentence=str(sentence)\r\n",
        "        sentence_1=fuzzy(sentence)\r\n",
        "        sentence_words= nlp(sentence_1)\r\n",
        "        l=[]\r\n",
        "        for i in sentence_words:\r\n",
        "             i=str(i)\r\n",
        "             l.append(i)\r\n",
        "      \r\n",
        "        sentence_2.extend(l)\r\n",
        "        # lemmatizing the words\r\n",
        "        sent=[nlp(word.lower())[0].lemma_ for word in sentence_2]\r\n",
        "        sent=[ w  for w in sent if w not in all_stopwords]\r\n",
        "        return sent\r\n",
        "def bow(sentence ,words):\r\n",
        "\r\n",
        "    sentence_words = clean_up_sentence(sentence)\r\n",
        "    # bag of words - matrix of N words, vocabulary matrix\r\n",
        "    bag = [0]*len(words) \r\n",
        "    for s in sentence_words:\r\n",
        "        for i,w in enumerate(words):\r\n",
        "            if w == s: \r\n",
        "                # assign 1 if current word is in the vocabulary position\r\n",
        "                bag[i] = 1\r\n",
        "                \r\n",
        "    return(np.array(bag))\r\n",
        "\r\n",
        "def predict_class(sentence, model):\r\n",
        "    # filter out predictions below a threshold\r\n",
        "    p = bow(sentence, words)\r\n",
        "    res = model.predict(np.array([p]))[0]\r\n",
        "    ERROR_THRESHOLD = 0.25\r\n",
        "    results = [[i,r] for i,r in enumerate(res) if r>ERROR_THRESHOLD]\r\n",
        "    # sort by strength of probability\r\n",
        "    results.sort(key=lambda x: x[1], reverse=True)\r\n",
        "    return_list = []\r\n",
        "    for r in results:\r\n",
        "        return_list.append({\"intent\": classes[r[0]], \"probability\": str(r[1])})       \r\n",
        "    return return_list    "
      ],
      "execution_count": 83,
      "outputs": []
    },
    {
      "cell_type": "code",
      "metadata": {
        "id": "ir-MZyCCnvAH"
      },
      "source": [
        "def getResponse(ints, intents_json):\r\n",
        "    tag = ints[0]['intent']\r\n",
        "    list_of_intents = intents_json['intents']\r\n",
        "    for i in list_of_intents:\r\n",
        "        if(i['tag']== tag):\r\n",
        "            result = random.choice(i['responses'])\r\n",
        "            break\r\n",
        "    return result\r\n",
        "\r\n",
        "def chatbot_response(text):\r\n",
        "\r\n",
        "    fuzzy_1=fuzzy(text)\r\n",
        "    ints = predict_class(fuzzy_1, model)\r\n",
        "    res = getResponse(ints, intents)\r\n",
        "    tag = ints[0]['intent']\r\n",
        "    \r\n",
        "    if tag==\"order_food\":\r\n",
        "         k=print_menu()\r\n",
        "         n=len(k)\r\n",
        "         for i in range(n):\r\n",
        "             res=res+\" \\n \"+ k[i]   \r\n",
        "    elif tag==\"Non-Veg Pizza\":\r\n",
        "         q=print_nonveg()\r\n",
        "         n=len(q)\r\n",
        "         for i in range(n):\r\n",
        "             res=res+\" \\n \"+ q[i]+\",\"\r\n",
        "\r\n",
        "    elif tag==\"Veg Pizza\":\r\n",
        "         v=print_veg()\r\n",
        "         n=len(v)\r\n",
        "         for i in range(n):\r\n",
        "             res=res+\" \\n \"+ v[i] +\",\" \r\n",
        "    elif tag==\"Beverages\":\r\n",
        "         B=print_bever()\r\n",
        "         n=len(B)\r\n",
        "         for i in range(n):\r\n",
        "             res=res+\" \\n \"+ B[i] +\",\"\r\n",
        "    elif tag==\"Slides\":\r\n",
        "         s=print_slides()\r\n",
        "         n=len(s)\r\n",
        "         for i in range(n):\r\n",
        "             res=res+\" \\n \"+ s[i]  +\",\"\r\n",
        "    elif tag==\"food_item\":\r\n",
        "         if (len(list_rem)==0):\r\n",
        "            f=cart(fuzzy_1,tag) \r\n",
        "            a,b=f\r\n",
        "            items_append.extend(b)\r\n",
        "            price_append.extend(a)\r\n",
        "            total_items(price_append,items_append)\r\n",
        "            res=res + \" \\n \"+total()\r\n",
        "         elif (len(list_rem)!=0):\r\n",
        "              if (list_rem[-1]):\r\n",
        "                  res =remove(fuzzy_1)\r\n",
        "              list_rem.clear()      \r\n",
        "            \r\n",
        "    elif tag==\"confirm_order\":\r\n",
        "         con,price_c= total_items(price_append,items_append)\r\n",
        "         n=len(con)\r\n",
        "         for i in range(n):\r\n",
        "             res=res+\" \\n \"+ con[i]+\",\"\r\n",
        "         res=res+\"\\n\"+\"Total amount to be paid:\"+str(price_c)  \r\n",
        "    elif tag==\"add_menu\":\r\n",
        "         rem_val=0\r\n",
        "         add=print_menu()\r\n",
        "         n=len(add)\r\n",
        "         for i in range(n):\r\n",
        "             res=res+\" \\n \"+ add[i]  \r\n",
        "    elif tag==\"remove_menu\":\r\n",
        "         rem_val=0\r\n",
        "         rem_val=rem_val+1\r\n",
        "         rem,k= total_items(price_append,items_append)\r\n",
        "         n=len(rem)\r\n",
        "         for i in range(n):\r\n",
        "             res=res+\" \\n \"+ rem[i]\r\n",
        "         remove2(rem_val)\r\n",
        "    elif tag==\"cancel_food\": \r\n",
        "         items_append.clear()\r\n",
        "         price_append.clear()  \r\n",
        "\r\n",
        "    \r\n",
        "    return res"
      ],
      "execution_count": 88,
      "outputs": []
    },
    {
      "cell_type": "code",
      "metadata": {
        "id": "M070ROHPbYh4"
      },
      "source": [
        " def print_nonveg():\r\n",
        "    food=[]\r\n",
        "    for intent in intents_1['intents']:\r\n",
        "        if intent['tag']==\"Non-Veg Pizza\":\r\n",
        "          for i in intent['items']:\r\n",
        "            food.append(i)        \r\n",
        "    return food       "
      ],
      "execution_count": null,
      "outputs": []
    },
    {
      "cell_type": "code",
      "metadata": {
        "id": "taVYNJX7Zmyc"
      },
      "source": [
        "#method to print the menu\r\n",
        "def print_menu():\r\n",
        "  l=[]\r\n",
        "  for intent in intents_1['intents']:\r\n",
        "      l.append(intent['tag'])\r\n",
        "  return l"
      ],
      "execution_count": null,
      "outputs": []
    },
    {
      "cell_type": "code",
      "metadata": {
        "id": "kEkp4O01eicw"
      },
      "source": [
        "def print_veg():\r\n",
        "    food=[]\r\n",
        "    for intent in intents_1['intents']:\r\n",
        "        if intent['tag']==\"Veg Pizza\":\r\n",
        "            for i in intent['items']:\r\n",
        "                food.append(i)        \r\n",
        "    return food     "
      ],
      "execution_count": null,
      "outputs": []
    },
    {
      "cell_type": "code",
      "metadata": {
        "id": "gAdoVIkPfe9e"
      },
      "source": [
        "def print_bever():\r\n",
        "    food=[]\r\n",
        "    for intent in intents_1['intents']:\r\n",
        "        if intent['tag']==\"Beverages\":\r\n",
        "            for i in intent['items']:\r\n",
        "                food.append(i)        \r\n",
        "    return food    "
      ],
      "execution_count": null,
      "outputs": []
    },
    {
      "cell_type": "code",
      "metadata": {
        "id": "E8z0IshXfs15"
      },
      "source": [
        "def print_slides():\r\n",
        "    food=[]\r\n",
        "    for intent in intents_1['intents']:\r\n",
        "        if intent['tag']==\"Slides\":\r\n",
        "            for i in intent['items']:\r\n",
        "                food.append(i)        \r\n",
        "    return food   "
      ],
      "execution_count": null,
      "outputs": []
    },
    {
      "cell_type": "code",
      "metadata": {
        "id": "knX2Roy7bPtg"
      },
      "source": [
        "list_items=[]\r\n",
        "for intent in intents['intents']:\r\n",
        "        if intent['tag']==\"food_item\":\r\n",
        "            for i in intent['patterns']:\r\n",
        "                list_items.append(i)\r\n",
        "                      "
      ],
      "execution_count": null,
      "outputs": []
    },
    {
      "cell_type": "code",
      "metadata": {
        "id": "LTeRvK1cjxc9"
      },
      "source": [
        "\r\n",
        "def cart(res,tag):\r\n",
        "    cart_1=[]\r\n",
        "    price=[]\r\n",
        "    str2match=res\r\n",
        "    strOptions=list_items\r\n",
        "    Ratios=process.extract(str2match,strOptions)\r\n",
        "    highest=process.extractOne(str2match,strOptions)\r\n",
        "    item_name=highest[0]\r\n",
        "    cart_1.append(item_name)\r\n",
        "    for intent in intents_1['intents']:\r\n",
        "       if intent[\"tag\"]==\"Non-Veg Pizza\" and item_name in intent[\"items\"]:\r\n",
        "               for i in intent['price']:\r\n",
        "                   price.append(i)\r\n",
        "       elif intent[\"tag\"]==\"Veg Pizza\" and item_name in intent[\"items\"]:\r\n",
        "               for i in intent['price']:\r\n",
        "                   price.append(i)\r\n",
        "       elif intent[\"tag\"]==\"Beverages\" and item_name in intent[\"items\"]:\r\n",
        "               for i in intent['price']:\r\n",
        "                   price.append(i)\r\n",
        "       elif intent[\"tag\"]==\"Slides\" and item_name in intent[\"items\"]:\r\n",
        "               for i in intent['price']:\r\n",
        "                   price.append(i)                                                                \r\n",
        "    return (price,cart_1)   \r\n",
        "\r\n"
      ],
      "execution_count": null,
      "outputs": []
    },
    {
      "cell_type": "code",
      "metadata": {
        "id": "qZkx1zhdSMvs"
      },
      "source": [
        "def total_price(a):\r\n",
        "    sum=0\r\n",
        "    for i in a:\r\n",
        "        sum=sum+i\r\n",
        "    total=sum    \r\n",
        "    return total"
      ],
      "execution_count": null,
      "outputs": []
    },
    {
      "cell_type": "code",
      "metadata": {
        "id": "hLNdUj4GRDtv"
      },
      "source": [
        "def total():\r\n",
        "    total_value=total_price(price_append)\r\n",
        "    print(\"Total no. of items in your cart: \")\r\n",
        "    for i in items_append:\r\n",
        "        print(i)\r\n",
        "    return \"price:\"+ str(total_value) "
      ],
      "execution_count": 69,
      "outputs": []
    },
    {
      "cell_type": "code",
      "metadata": {
        "id": "IZOVMbgVbIxz"
      },
      "source": [
        "def total_items(a,b):\r\n",
        "    total_list=[]\r\n",
        "    total_list.extend(b)\r\n",
        "    total_value=total_price(a)\r\n",
        "    print(\"Total no. of items in your cart: \")\r\n",
        "    for i in total_list:\r\n",
        "        print(i)\r\n",
        "    print(\"Total price:\")    \r\n",
        "    print(total_value) \r\n",
        "    return total_list,total_value   "
      ],
      "execution_count": 65,
      "outputs": []
    },
    {
      "cell_type": "code",
      "metadata": {
        "id": "JtGTbWBnBoNN"
      },
      "source": [
        "def remove(text):\r\n",
        "   str2match=text\r\n",
        "   strOptions=list_items\r\n",
        "   Ratios=process.extract(str2match,strOptions)\r\n",
        "   highest=process.extractOne(str2match,strOptions)\r\n",
        "   item_name_1=highest[0]\r\n",
        "   for intent in intents_1['intents']:\r\n",
        "       if  item_name_1 in items_append and item_name_1 in intent[\"items\"]:\r\n",
        "               for i in intent['price']:\r\n",
        "                  price_append.remove(i)\r\n",
        "               items_append.remove(item_name_1) \r\n",
        "               k=\"item is removed from the cart\"\r\n",
        "               return k  \r\n",
        "   \r\n",
        "       \r\n",
        "    "
      ],
      "execution_count": null,
      "outputs": []
    },
    {
      "cell_type": "code",
      "metadata": {
        "id": "2RuVUbFtpxzG"
      },
      "source": [
        "list_rem=[]"
      ],
      "execution_count": null,
      "outputs": []
    },
    {
      "cell_type": "code",
      "metadata": {
        "id": "4inMgGG9nuK_"
      },
      "source": [
        "def remove2(val):\r\n",
        "    if (val==1):\r\n",
        "       list_rem.append(True)\r\n",
        "       return  list_rem\r\n",
        "    else :\r\n",
        "       list_rem.append(False)\r\n",
        "       return  list_rem   \r\n",
        "    "
      ],
      "execution_count": null,
      "outputs": []
    },
    {
      "cell_type": "code",
      "metadata": {
        "colab": {
          "base_uri": "https://localhost:8080/"
        },
        "id": "mFPR7vBtqZT6",
        "outputId": "e6a902b2-c1a6-4ce9-d595-ba16c076e5e6"
      },
      "source": [
        "k=chatbot_response(\"Veg\")\r\n",
        "\r\n",
        "print(k)"
      ],
      "execution_count": 86,
      "outputs": [
        {
          "output_type": "stream",
          "text": [
            "veg\n",
            "veg\n",
            "veg\n",
            "[{'intent': 'Veg Pizza', 'probability': '0.9988385'}]\n",
            "Our Range of Veg pizzas are \n",
            " peppy paneer \n",
            " Mexican green wave \n",
            " Veggie paradise \n",
            " veg extravaganza \n",
            " deluxe veggie \n",
            " paneer Makhani\n"
          ],
          "name": "stdout"
        }
      ]
    },
    {
      "cell_type": "code",
      "metadata": {
        "id": "g5m7arbrMAuW"
      },
      "source": [
        " \r\n"
      ],
      "execution_count": null,
      "outputs": []
    }
  ]
}