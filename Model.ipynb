{
  "nbformat": 4,
  "nbformat_minor": 0,
  "metadata": {
    "colab": {
      "name": "Model",
      "provenance": [],
      "collapsed_sections": [],
      "authorship_tag": "ABX9TyNfS9unwKJcFQpBf3W+NtuY",
      "include_colab_link": true
    },
    "kernelspec": {
      "display_name": "Python 3",
      "name": "python3"
    }
  },
  "cells": [
    {
      "cell_type": "markdown",
      "metadata": {
        "id": "view-in-github",
        "colab_type": "text"
      },
      "source": [
        "<a href=\"https://colab.research.google.com/github/Manish533005/nlp_chatbot/blob/main/Model.ipynb\" target=\"_parent\"><img src=\"https://colab.research.google.com/assets/colab-badge.svg\" alt=\"Open In Colab\"/></a>"
      ]
    },
    {
      "cell_type": "code",
      "metadata": {
        "colab": {
          "base_uri": "https://localhost:8080/"
        },
        "id": "92kh7f5BnTJS",
        "outputId": "ab0c99f4-4948-43a1-a303-38f9cbe59b83"
      },
      "source": [
        "import pickle\r\n",
        "import numpy as np\r\n",
        "from keras.models import load_model\r\n",
        "import json\r\n",
        "import random\r\n",
        "from fuzzywuzzy import process\r\n",
        "import spacy\r\n",
        "model =load_model(\"chatbot_6.h5\")\r\n",
        "intents = json.loads(open('chatbot_dataset.json').read())\r\n",
        "intents_1=json.loads(open(\"food_document.json\").read())\r\n",
        "words = pickle.load(open('words.pkl','rb'))\r\n",
        "classes = pickle.load(open('classes.pkl','rb'))\r\n",
        "nlp=spacy.load(\"en_core_web_sm\")\r\n",
        "print(len(words))\r\n",
        "print(len(classes))\r\n",
        "items_append=[]\r\n",
        "price_append=[]"
      ],
      "execution_count": 150,
      "outputs": [
        {
          "output_type": "stream",
          "text": [
            "79\n",
            "14\n"
          ],
          "name": "stdout"
        }
      ]
    },
    {
      "cell_type": "code",
      "metadata": {
        "colab": {
          "base_uri": "https://localhost:8080/"
        },
        "id": "6_g9gniupgp9",
        "outputId": "50534194-4d82-4144-a3c5-c42584043857"
      },
      "source": [
        "!pip install fuzzywuzzy\r\n"
      ],
      "execution_count": 151,
      "outputs": [
        {
          "output_type": "stream",
          "text": [
            "Requirement already satisfied: fuzzywuzzy in /usr/local/lib/python3.6/dist-packages (0.18.0)\n"
          ],
          "name": "stdout"
        }
      ]
    },
    {
      "cell_type": "code",
      "metadata": {
        "colab": {
          "base_uri": "https://localhost:8080/"
        },
        "id": "QDAmmhlWQSvU",
        "outputId": "24d344e0-2bce-43d2-ae85-4d04dc8b4335"
      },
      "source": [
        "print(intents_1)"
      ],
      "execution_count": 152,
      "outputs": [
        {
          "output_type": "stream",
          "text": [
            "{'intents': [{'tag': 'Non-Veg Pizza', 'items': ['chicken pepperoni', 'Pepper Barbecue', ' chicken dominator', 'chicken Sausage', 'pepper barbecue and onion', 'Indi chicken tikka', 'Moroccan Spice Pasta Pizza'], 'size': ['small', 'medium', 'large'], 'price': [300]}, {'tag': 'Veg Pizza', 'items': ['peppy paneer', 'Mexican green wave', 'Veggie paradise', 'veg extravaganza', 'deluxe veggie', 'paneer Makhani', 'creamy tomato pasta '], 'size': ['small', 'medium', 'large'], 'price': [250]}, {'tag': 'Beverages', 'items': ['pepsi', 'slice', '7up', 'mirinda', 'nimbooz'], 'size': [], 'price': [50]}, {'tag': 'Slides', 'items': ['garlic breadsticks', 'taco mexicana veg', 'Butterscotch mouse cake'], 'size': [], 'price': [99]}]}\n"
          ],
          "name": "stdout"
        }
      ]
    },
    {
      "cell_type": "code",
      "metadata": {
        "colab": {
          "base_uri": "https://localhost:8080/"
        },
        "id": "Se06UOg2rFh1",
        "outputId": "024be584-cb6a-43f4-eab2-2721dabcb5ed"
      },
      "source": [
        "print(words)"
      ],
      "execution_count": 153,
      "outputs": [
        {
          "output_type": "stream",
          "text": [
            "['-', '-PRON-', '7up', 'add', 'available', 'barbecue', 'beverage', 'breadstick', 'butterscotch', 'bye', 'cake', 'cancel', 'cancle', 'change', 'chat', 'chicken', 'combo', 'confirm', 'cool', 'creamy', 'deluxe', 'dominator', 'drink', 'edit', 'extravaganza', 'food', 'garlic', 'goodbye', 'green', 'hard', 'hello', 'hey', 'hi', 'hungry', 'indi', 'item', 'large', 'later', 'makhani', 'medium', 'menu', 'mexican', 'mexicana', 'mirinda', 'moroccan', 'mouse', 'nice', 'nimbooz', 'non', 'nonveg', 'onion', 'order', 'paneer', 'paradise', 'pasta', 'pepper', 'pepperoni', 'peppy', 'pepsi', 'pizza', 'remove', 'request', 'sausage', 'slice', 'slide', 'small', 'spice', 'taco', 'tikka', 'till', 'time', 'today', 'tomato', 'variety', 'veg', 'veggie', 'view', 'want', 'wave']\n"
          ],
          "name": "stdout"
        }
      ]
    },
    {
      "cell_type": "code",
      "metadata": {
        "id": "VrcKn8YsRwGM"
      },
      "source": [
        "all_stopwords = nlp.Defaults.stop_words\r\n",
        "sentence_2=[]\r\n",
        "sent=[]"
      ],
      "execution_count": 154,
      "outputs": []
    },
    {
      "cell_type": "code",
      "metadata": {
        "id": "LAWUX46Rnn2n"
      },
      "source": [
        "#tokenize each word\r\n",
        "def fuzzy(sentence):\r\n",
        "    str2match=sentence\r\n",
        "    strOptions=words\r\n",
        "    Ratios=process.extract(str2match,strOptions)\r\n",
        "    highest=process.extractOne(str2match,strOptions)\r\n",
        "    print(highest[0])\r\n",
        "    print(\"above is fuzzy wuzzy\")\r\n",
        "    return highest[0]\r\n",
        "def clean_up_sentence(sentence):\r\n",
        "        sentence_2=[]\r\n",
        "        sent=[]\r\n",
        "        sentence=str(sentence)\r\n",
        "        sentence_1=fuzzy(sentence)\r\n",
        "        sentence_words= nlp(sentence_1)\r\n",
        "        l=[]\r\n",
        "        for i in sentence_words:\r\n",
        "             i=str(i)\r\n",
        "             l.append(i)\r\n",
        "      \r\n",
        "        sentence_2.extend(l)\r\n",
        "        # lemmatizing the words\r\n",
        "        sent=[nlp(word.lower())[0].lemma_ for word in sentence_2]\r\n",
        "        sent=[ w  for w in sent if w not in all_stopwords]\r\n",
        "        return sent\r\n",
        "def bow(sentence ,words):\r\n",
        "\r\n",
        "    sentence_words = clean_up_sentence(sentence)\r\n",
        "    # bag of words - matrix of N words, vocabulary matrix\r\n",
        "    bag = [0]*len(words) \r\n",
        "    for s in sentence_words:\r\n",
        "        for i,w in enumerate(words):\r\n",
        "            if w == s: \r\n",
        "                # assign 1 if current word is in the vocabulary position\r\n",
        "                bag[i] = 1\r\n",
        "                \r\n",
        "    return(np.array(bag))\r\n",
        "\r\n",
        "def predict_class(sentence, model):\r\n",
        "    # filter out predictions below a threshold\r\n",
        "    p = bow(sentence, words)\r\n",
        "    res = model.predict(np.array([p]))[0]\r\n",
        "    print(res)\r\n",
        "    print(\"above is res in predict class\")\r\n",
        "    ERROR_THRESHOLD = 0.25\r\n",
        "    results = [[i,r] for i,r in enumerate(res) if r>ERROR_THRESHOLD]\r\n",
        "    # sort by strength of probability\r\n",
        "    results.sort(key=lambda x: x[1], reverse=True)\r\n",
        "    print(results)\r\n",
        "    print(\"print above  results\")\r\n",
        "    return_list = []\r\n",
        "    for r in results:\r\n",
        "        return_list.append({\"intent\": classes[r[0]], \"probability\": str(r[1])})\r\n",
        "    print(return_list)\r\n",
        "    print(\"print above return_list\")    \r\n",
        "    return return_list    "
      ],
      "execution_count": 155,
      "outputs": []
    },
    {
      "cell_type": "code",
      "metadata": {
        "id": "ir-MZyCCnvAH"
      },
      "source": [
        "def getResponse(ints, intents_json):\r\n",
        "    tag = ints[0]['intent']\r\n",
        "    list_of_intents = intents_json['intents']\r\n",
        "    for i in list_of_intents:\r\n",
        "        if(i['tag']== tag):\r\n",
        "            result = random.choice(i['responses'])\r\n",
        "            print(result)\r\n",
        "            print(\"above is result in get response\")\r\n",
        "            break\r\n",
        "    return result\r\n",
        "\r\n",
        "def chatbot_response(text):\r\n",
        "\r\n",
        "    fuzzy_1=fuzzy(text)\r\n",
        "    print(fuzzy_1,\"it is from fuzzy\")\r\n",
        "    \r\n",
        "    ints = predict_class(text, model)\r\n",
        "    print(ints)\r\n",
        "    print(\"chatbot\")\r\n",
        "    res = getResponse(ints, intents)\r\n",
        "    tag = ints[0]['intent']\r\n",
        "    \r\n",
        "    if tag==\"order_food\":\r\n",
        "         k=print_menu()\r\n",
        "         n=len(k)\r\n",
        "         for i in range(n):\r\n",
        "             res=res+\" \\n \"+ k[i]   \r\n",
        "    elif tag==\"Non-Veg Pizza\":\r\n",
        "         q=print_nonveg()\r\n",
        "         n=len(q)\r\n",
        "         for i in range(n):\r\n",
        "             res=res+\" \\n \"+ q[i]  \r\n",
        "\r\n",
        "    elif tag==\"Veg Pizza\":\r\n",
        "         v=print_veg()\r\n",
        "         n=len(v)\r\n",
        "         for i in range(n):\r\n",
        "             res=res+\" \\n \"+ v[i]  \r\n",
        "    elif tag==\"Beverages\":\r\n",
        "         B=print_bever()\r\n",
        "         n=len(B)\r\n",
        "         for i in range(n):\r\n",
        "             res=res+\" \\n \"+ B[i]  \r\n",
        "    elif tag==\"Slides\":\r\n",
        "         s=print_slides()\r\n",
        "         n=len(s)\r\n",
        "         for i in range(n):\r\n",
        "             res=res+\" \\n \"+ s[i]  \r\n",
        "    elif tag==\"food_item\":\r\n",
        "         if (len(list_rem)==0):\r\n",
        "            f=cart(fuzzy_1,tag) \r\n",
        "            a,b=f\r\n",
        "            items_append.extend(b)\r\n",
        "            price_append.extend(a)\r\n",
        "            print(price_append)\r\n",
        "            total_items(price_append,items_append)\r\n",
        "            print(list_rem)\r\n",
        "            res=res\r\n",
        "         elif (len(list_rem)!=0):\r\n",
        "              if (list_rem[-1]):\r\n",
        "                  res =remove(fuzzy_1)\r\n",
        "              list_rem.clear()      \r\n",
        "            \r\n",
        "    elif tag==\"confirm_order\":\r\n",
        "         con,price_c= total_items(price_append,items_append)\r\n",
        "         n=len(con)\r\n",
        "         for i in range(n):\r\n",
        "             res=res+\" \\n \"+ con[i]\r\n",
        "         res=res+\"\\n\"+\"Total amount:\"+str(price_c)      \r\n",
        "    elif tag==\"add_menu\":\r\n",
        "         rem_val=0\r\n",
        "         add=print_menu()\r\n",
        "         n=len(add)\r\n",
        "         for i in range(n):\r\n",
        "             res=res+\" \\n \"+ add[i]  \r\n",
        "    elif tag==\"remove_menu\":\r\n",
        "         rem_val=0\r\n",
        "         rem_val=rem_val+1\r\n",
        "         rem,k= total_items(price_append,items_append)\r\n",
        "         n=len(rem)\r\n",
        "         print(rem)\r\n",
        "         print(res)\r\n",
        "         for i in range(n):\r\n",
        "             res=res+\" \\n \"+ rem[i]\r\n",
        "         remove2(rem_val)     \r\n",
        "\r\n",
        "    \r\n",
        "    return res"
      ],
      "execution_count": 156,
      "outputs": []
    },
    {
      "cell_type": "code",
      "metadata": {
        "id": "M070ROHPbYh4"
      },
      "source": [
        " def print_nonveg():\r\n",
        "    food=[]\r\n",
        "    for intent in intents_1['intents']:\r\n",
        "        if intent['tag']==\"Non-Veg Pizza\":\r\n",
        "          for i in intent['items']:\r\n",
        "            food.append(i)        \r\n",
        "    return food       "
      ],
      "execution_count": 157,
      "outputs": []
    },
    {
      "cell_type": "code",
      "metadata": {
        "id": "taVYNJX7Zmyc"
      },
      "source": [
        "#method to print the menu\r\n",
        "def print_menu():\r\n",
        "  l=[]\r\n",
        "  for intent in intents_1['intents']:\r\n",
        "      l.append(intent['tag'])\r\n",
        "  return l"
      ],
      "execution_count": 158,
      "outputs": []
    },
    {
      "cell_type": "code",
      "metadata": {
        "id": "kEkp4O01eicw",
        "colab": {
          "base_uri": "https://localhost:8080/"
        },
        "outputId": "d54f13e1-6524-4f18-8b83-2b9494e8396c"
      },
      "source": [
        "def print_veg():\r\n",
        "    food=[]\r\n",
        "    for intent in intents_1['intents']:\r\n",
        "        if intent['tag']==\"Veg Pizza\":\r\n",
        "            for i in intent['items']:\r\n",
        "                food.append(i)        \r\n",
        "    return food\r\n",
        "print_veg()     "
      ],
      "execution_count": 159,
      "outputs": [
        {
          "output_type": "execute_result",
          "data": {
            "text/plain": [
              "['peppy paneer',\n",
              " 'Mexican green wave',\n",
              " 'Veggie paradise',\n",
              " 'veg extravaganza',\n",
              " 'deluxe veggie',\n",
              " 'paneer Makhani',\n",
              " 'creamy tomato pasta ']"
            ]
          },
          "metadata": {
            "tags": []
          },
          "execution_count": 159
        }
      ]
    },
    {
      "cell_type": "code",
      "metadata": {
        "id": "gAdoVIkPfe9e",
        "colab": {
          "base_uri": "https://localhost:8080/"
        },
        "outputId": "6657a2ec-e2e0-443a-fc4d-7ced438c79ad"
      },
      "source": [
        "def print_bever():\r\n",
        "    food=[]\r\n",
        "    for intent in intents_1['intents']:\r\n",
        "        if intent['tag']==\"Beverages\":\r\n",
        "            for i in intent['items']:\r\n",
        "                food.append(i)        \r\n",
        "    return food\r\n",
        "print_bever()    "
      ],
      "execution_count": 160,
      "outputs": [
        {
          "output_type": "execute_result",
          "data": {
            "text/plain": [
              "['pepsi', 'slice', '7up', 'mirinda', 'nimbooz']"
            ]
          },
          "metadata": {
            "tags": []
          },
          "execution_count": 160
        }
      ]
    },
    {
      "cell_type": "code",
      "metadata": {
        "id": "E8z0IshXfs15",
        "colab": {
          "base_uri": "https://localhost:8080/"
        },
        "outputId": "6f842cfa-ef24-41a2-e210-b01f35faec4e"
      },
      "source": [
        "def print_slides():\r\n",
        "    food=[]\r\n",
        "    for intent in intents_1['intents']:\r\n",
        "        if intent['tag']==\"Slides\":\r\n",
        "            for i in intent['items']:\r\n",
        "                food.append(i)        \r\n",
        "    return food\r\n",
        "print_slides()    "
      ],
      "execution_count": 161,
      "outputs": [
        {
          "output_type": "execute_result",
          "data": {
            "text/plain": [
              "['garlic breadsticks', 'taco mexicana veg', 'Butterscotch mouse cake']"
            ]
          },
          "metadata": {
            "tags": []
          },
          "execution_count": 161
        }
      ]
    },
    {
      "cell_type": "code",
      "metadata": {
        "id": "knX2Roy7bPtg"
      },
      "source": [
        "list_items=[]\r\n",
        "for intent in intents['intents']:\r\n",
        "        if intent['tag']==\"food_item\":\r\n",
        "            for i in intent['patterns']:\r\n",
        "                list_items.append(i)\r\n",
        "                      \r\n",
        "list_items"
      ],
      "execution_count": null,
      "outputs": []
    },
    {
      "cell_type": "code",
      "metadata": {
        "id": "LTeRvK1cjxc9"
      },
      "source": [
        "\r\n",
        "def cart(res,tag):\r\n",
        "    cart_1=[]\r\n",
        "    price=[]\r\n",
        "    str2match=res\r\n",
        "    strOptions=list_items\r\n",
        "    Ratios=process.extract(str2match,strOptions)\r\n",
        "    highest=process.extractOne(str2match,strOptions)\r\n",
        "    item_name=highest[0]\r\n",
        "    cart_1.append(item_name)\r\n",
        "    print(cart_1)\r\n",
        "    print(\"the above is cart\")\r\n",
        "    for intent in intents_1['intents']:\r\n",
        "       if intent[\"tag\"]==\"Non-Veg Pizza\" and item_name in intent[\"items\"]:\r\n",
        "               for i in intent['price']:\r\n",
        "                   price.append(i)\r\n",
        "       elif intent[\"tag\"]==\"Veg Pizza\" and item_name in intent[\"items\"]:\r\n",
        "               for i in intent['price']:\r\n",
        "                   price.append(i)\r\n",
        "       elif intent[\"tag\"]==\"Beverages\" and item_name in intent[\"items\"]:\r\n",
        "               for i in intent['price']:\r\n",
        "                   price.append(i)\r\n",
        "       elif intent[\"tag\"]==\"Slides\" and item_name in intent[\"items\"]:\r\n",
        "               for i in intent['price']:\r\n",
        "                   price.append(i)          \r\n",
        "    print(price,cart_1)                                                       \r\n",
        "    return (price,cart_1)   \r\n",
        "\r\n"
      ],
      "execution_count": 163,
      "outputs": []
    },
    {
      "cell_type": "code",
      "metadata": {
        "id": "qZkx1zhdSMvs"
      },
      "source": [
        "def total_price(a):\r\n",
        "    sum=0\r\n",
        "    for i in a:\r\n",
        "        sum=sum+i\r\n",
        "    total=sum    \r\n",
        "    return total"
      ],
      "execution_count": 164,
      "outputs": []
    },
    {
      "cell_type": "code",
      "metadata": {
        "id": "IZOVMbgVbIxz"
      },
      "source": [
        "def total_items(a,b):\r\n",
        "    total_list=[]\r\n",
        "    total_list.extend(b)\r\n",
        "    total_value=total_price(a)\r\n",
        "    print(\"Total no. of items in your cart: \")\r\n",
        "    for i in total_list:\r\n",
        "        print(i)\r\n",
        "    print(\"Total price:\")\r\n",
        "    print(total_value) \r\n",
        "    return total_list,total_value   "
      ],
      "execution_count": 165,
      "outputs": []
    },
    {
      "cell_type": "code",
      "metadata": {
        "id": "JtGTbWBnBoNN"
      },
      "source": [
        "def remove(text):\r\n",
        "   str2match=text\r\n",
        "   strOptions=list_items\r\n",
        "   Ratios=process.extract(str2match,strOptions)\r\n",
        "   highest=process.extractOne(str2match,strOptions)\r\n",
        "   item_name_1=highest[0]\r\n",
        "   print(item_name_1)\r\n",
        "   print(\"the above is fuzzy in remove\")\r\n",
        "   for intent in intents_1['intents']:\r\n",
        "       if  item_name_1 in items_append and item_name_1 in intent[\"items\"]:\r\n",
        "               for i in intent['price']:\r\n",
        "                  price_append.remove(i)\r\n",
        "               items_append.remove(item_name_1) \r\n",
        "               k= \"\\n\"+\"item is removed from the cart\"\r\n",
        "               return k  \r\n",
        "   \r\n",
        "       \r\n",
        "    "
      ],
      "execution_count": 166,
      "outputs": []
    },
    {
      "cell_type": "code",
      "metadata": {
        "id": "2RuVUbFtpxzG"
      },
      "source": [
        "list_rem=[]"
      ],
      "execution_count": 167,
      "outputs": []
    },
    {
      "cell_type": "code",
      "metadata": {
        "id": "4inMgGG9nuK_"
      },
      "source": [
        "def remove2(val):\r\n",
        "    if (val==1):\r\n",
        "       list_rem.append(True)\r\n",
        "       return  list_rem\r\n",
        "    else :\r\n",
        "       list_rem.append(False)\r\n",
        "       return  list_rem   \r\n",
        "    "
      ],
      "execution_count": 168,
      "outputs": []
    },
    {
      "cell_type": "code",
      "metadata": {
        "colab": {
          "base_uri": "https://localhost:8080/"
        },
        "id": "mFPR7vBtqZT6",
        "outputId": "ff52ed83-f673-49e9-8a8f-4384f2dab866"
      },
      "source": [
        "k=chatbot_response(\"\")\r\n",
        "print(\"the belove is k\")\r\n",
        "\r\n",
        "print(k)"
      ],
      "execution_count": 180,
      "outputs": [
        {
          "output_type": "stream",
          "text": [
            "confirm\n",
            "above is fuzzy wuzzy\n",
            "confirm it is from fuzzy\n",
            "confirm\n",
            "above is fuzzy wuzzy\n",
            "[6.8651985e-05 1.0675066e-05 6.0350026e-06 7.8225685e-06 4.5526253e-05\n",
            " 1.7196353e-05 4.7855488e-06 9.9974591e-01 4.4702806e-06 1.6501044e-06\n",
            " 2.0317480e-05 2.1989854e-07 5.8328336e-05 8.2994429e-06]\n",
            "above is res in predict class\n",
            "[[7, 0.9997459]]\n",
            "print above  results\n",
            "[{'intent': 'confirm_order', 'probability': '0.9997459'}]\n",
            "print above return_list\n",
            "[{'intent': 'confirm_order', 'probability': '0.9997459'}]\n",
            "chatbot\n",
            "Once you confirm your order you can't edit or cancel your order\n",
            "above is result in get response\n",
            "Total no. of items in your cart: \n",
            "chicken pepperoni\n",
            "chicken pepperoni\n",
            "Total price:\n",
            "600\n",
            "the belove is k\n",
            "Once you confirm your order you can't edit or cancel your order \n",
            " chicken pepperoni \n",
            " chicken pepperoni\n",
            "Total amount:600\n"
          ],
          "name": "stdout"
        }
      ]
    },
    {
      "cell_type": "code",
      "metadata": {
        "id": "g5m7arbrMAuW"
      },
      "source": [
        "\r\n"
      ],
      "execution_count": 169,
      "outputs": []
    },
    {
      "cell_type": "code",
      "metadata": {
        "id": "zu5z7KHDWhwv",
        "colab": {
          "base_uri": "https://localhost:8080/",
          "height": 128
        },
        "outputId": "4f613348-591d-464a-f5ba-0553ee8f4452"
      },
      "source": [
        "if  item_name_1 in items_append and item_name in intent[\"items\"]:\r\n",
        "             items_append.remove(item_name_1)\r\n",
        "             price_append.remove()\r\n",
        "             k= \"\\n\"+\"item is removed from the cart\"\r\n",
        "             return k"
      ],
      "execution_count": 170,
      "outputs": [
        {
          "output_type": "error",
          "ename": "SyntaxError",
          "evalue": "ignored",
          "traceback": [
            "\u001b[0;36m  File \u001b[0;32m\"<ipython-input-170-7e78326e63e5>\"\u001b[0;36m, line \u001b[0;32m5\u001b[0m\n\u001b[0;31m    return k\u001b[0m\n\u001b[0m    ^\u001b[0m\n\u001b[0;31mSyntaxError\u001b[0m\u001b[0;31m:\u001b[0m 'return' outside function\n"
          ]
        }
      ]
    }
  ]
}