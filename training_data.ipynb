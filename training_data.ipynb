{
  "nbformat": 4,
  "nbformat_minor": 0,
  "metadata": {
    "colab": {
      "name": "training_data",
      "provenance": [],
      "collapsed_sections": [],
      "authorship_tag": "ABX9TyN3hQLMhOsZ+2P8YbLDYTrU",
      "include_colab_link": true
    },
    "kernelspec": {
      "name": "python3",
      "display_name": "Python 3"
    }
  },
  "cells": [
    {
      "cell_type": "markdown",
      "metadata": {
        "id": "view-in-github",
        "colab_type": "text"
      },
      "source": [
        "<a href=\"https://colab.research.google.com/github/Manish533005/nlp_chatbot/blob/main/training_data.ipynb\" target=\"_parent\"><img src=\"https://colab.research.google.com/assets/colab-badge.svg\" alt=\"Open In Colab\"/></a>"
      ]
    },
    {
      "cell_type": "code",
      "metadata": {
        "id": "agVMmdErUIVu",
        "colab": {
          "base_uri": "https://localhost:8080/"
        },
        "outputId": "c385bbff-805b-4fb3-855b-a151f2825fc3"
      },
      "source": [
        "%tensorflow_version 1.x\r\n",
        "import tensorflow as tf\r\n",
        "import numpy as np\r\n",
        "from tensorflow import keras\r\n",
        "import json\r\n",
        "import spacy\r\n",
        "from keras.models import Sequential\r\n",
        "from keras.layers import Dense, Activation,Dropout\r\n",
        "from keras .optimizers import SGD\r\n",
        "import random\r\n",
        "\r\n",
        "print(tf.__version__)"
      ],
      "execution_count": 69,
      "outputs": [
        {
          "output_type": "stream",
          "text": [
            "1.15.2\n"
          ],
          "name": "stdout"
        }
      ]
    },
    {
      "cell_type": "code",
      "metadata": {
        "id": "7eeVqmV1cy_6"
      },
      "source": [
        "# loading json  data into a file  and converting it into dictionary  \r\n",
        "data_file=open(\"intents.json\").read()\r\n",
        "intents=json.loads(data_file)"
      ],
      "execution_count": 31,
      "outputs": []
    },
    {
      "cell_type": "code",
      "metadata": {
        "colab": {
          "base_uri": "https://localhost:8080/"
        },
        "id": "j7aM3Ef3rzsY",
        "outputId": "2f6f9174-fa3b-4e0f-9104-4ddeac448c91"
      },
      "source": [
        "print(intents)"
      ],
      "execution_count": 32,
      "outputs": [
        {
          "output_type": "stream",
          "text": [
            "{'intents': [{'tag': 'greeting', 'patterns': ['Hi there', 'How are you', 'Is anyone there?', 'Hey', 'Hola', 'Hello', 'Good day'], 'responses': ['Hello, thanks for asking', 'Good to see you again', 'Hi there, how can I help?'], 'context': ['']}, {'tag': 'goodbye', 'patterns': ['Bye', 'See you later', 'Goodbye', 'Nice chatting to you, bye', 'Till next time'], 'responses': ['See you!', 'Have a nice day', 'Bye! Come back again soon.'], 'context': ['']}, {'tag': 'thanks', 'patterns': ['Thanks', 'Thank you', \"That's helpful\", 'Awesome, thanks', 'Thanks for helping me'], 'responses': ['Happy to help!', 'Any time!', 'My pleasure'], 'context': ['']}, {'tag': 'noanswer', 'patterns': [], 'responses': [\"Sorry, can't understand you\", 'Please give me more info', 'Not sure I understand'], 'context': ['']}, {'tag': 'options', 'patterns': ['How you could help me?', 'What you can do?', 'What help you provide?', 'How you can be helpful?', 'What support is offered'], 'responses': ['I can guide you through Adverse drug reaction list, Blood pressure tracking, Hospitals and Pharmacies', 'Offering support for Adverse drug reaction, Blood pressure, Hospitals and Pharmacies'], 'context': ['']}, {'tag': 'adverse_drug', 'patterns': ['How to check Adverse drug reaction?', 'Open adverse drugs module', 'Give me a list of drugs causing adverse behavior', 'List all drugs suitable for patient with adverse reaction', 'Which drugs dont have adverse reaction?'], 'responses': ['Navigating to Adverse drug reaction module'], 'context': ['']}, {'tag': 'blood_pressure', 'patterns': ['Open blood pressure module', 'Task related to blood pressure', 'Blood pressure data entry', 'I want to log blood pressure results', 'Blood pressure data management'], 'responses': ['Navigating to Blood Pressure module'], 'context': ['']}, {'tag': 'blood_pressure_search', 'patterns': ['I want to search for blood pressure result history', 'Blood pressure for patient', 'Load patient blood pressure result', 'Show blood pressure results for patient', 'Find blood pressure results by ID'], 'responses': ['Please provide Patient ID', 'Patient ID?'], 'context': ['search_blood_pressure_by_patient_id']}, {'tag': 'search_blood_pressure_by_patient_id', 'patterns': [], 'responses': ['Loading Blood pressure result for Patient'], 'context': ['']}, {'tag': 'pharmacy_search', 'patterns': ['Find me a pharmacy', 'Find pharmacy', 'List of pharmacies nearby', 'Locate pharmacy', 'Search pharmacy'], 'responses': ['Please provide pharmacy name'], 'context': ['search_pharmacy_by_name']}, {'tag': 'search_pharmacy_by_name', 'patterns': [], 'responses': ['Loading pharmacy details'], 'context': ['']}, {'tag': 'hospital_search', 'patterns': ['Lookup for hospital', 'Searching for hospital to transfer patient', 'I want to search hospital data', 'Hospital lookup for patient', 'Looking up hospital details'], 'responses': ['Please provide hospital name or location'], 'context': ['search_hospital_by_params']}, {'tag': 'search_hospital_by_params', 'patterns': [], 'responses': ['Please provide hospital type'], 'context': ['search_hospital_by_type']}, {'tag': 'search_hospital_by_type', 'patterns': [], 'responses': ['Loading hospital details'], 'context': ['']}]}\n"
          ],
          "name": "stdout"
        }
      ]
    },
    {
      "cell_type": "code",
      "metadata": {
        "colab": {
          "base_uri": "https://localhost:8080/"
        },
        "id": "q6YOQ2C7sNjL",
        "outputId": "0918a384-ff62-40f6-ddf6-6376d976f819"
      },
      "source": [
        "type(intents)"
      ],
      "execution_count": 33,
      "outputs": [
        {
          "output_type": "execute_result",
          "data": {
            "text/plain": [
              "dict"
            ]
          },
          "metadata": {
            "tags": []
          },
          "execution_count": 33
        }
      ]
    },
    {
      "cell_type": "code",
      "metadata": {
        "id": "IEF6kKfEtIT8"
      },
      "source": [
        "nlp=spacy.load(\"en_core_web_sm\")\r\n",
        "words =[]\r\n",
        "classes=[]\r\n",
        "documents=[]\r\n",
        "ignore_words=['?','!']\r\n"
      ],
      "execution_count": 34,
      "outputs": []
    },
    {
      "cell_type": "code",
      "metadata": {
        "id": "zimX0Lrxt7Z1"
      },
      "source": [
        "#using shantanus approach\r\n",
        "words=[]\r\n",
        "for intent in intents['intents']:\r\n",
        "    for pattern in intent['patterns']:\r\n",
        "        pattern=str(pattern)\r\n",
        "        w=[]\r\n",
        "        #tokenize each word\r\n",
        "        for word in pattern.split():\r\n",
        "          if word != '.':\r\n",
        "             word = word.replace('.','')\r\n",
        "             w.append(word)\r\n",
        "        words.extend(w)\r\n",
        "        #add documents in the corpus\r\n",
        "        documents.append((w, intent['tag']))\r\n",
        "\r\n",
        "        # add to our classes list\r\n",
        "        if intent['tag'] not in classes:\r\n",
        "            classes.append(intent['tag'])"
      ],
      "execution_count": null,
      "outputs": []
    },
    {
      "cell_type": "code",
      "metadata": {
        "id": "63gvLaenuHhM"
      },
      "source": [
        "print(w)\r\n",
        "print(words)\r\n",
        "print(len(words))\r\n",
        "print(documents)\r\n",
        "print(classes)"
      ],
      "execution_count": null,
      "outputs": []
    },
    {
      "cell_type": "code",
      "metadata": {
        "colab": {
          "base_uri": "https://localhost:8080/"
        },
        "id": "-yS9i6wnuJJm",
        "outputId": "e5651ccc-d738-4934-ab42-438cb4c10e54"
      },
      "source": [
        "text=\"hi my name is Manish\"\r\n",
        "tokens=nlp(text)\r\n",
        "l=[]\r\n",
        "for i in tokens:\r\n",
        "    i=str(i)\r\n",
        "    l.append(i)\r\n",
        "print(l)"
      ],
      "execution_count": null,
      "outputs": [
        {
          "output_type": "stream",
          "text": [
            "['hi', 'my', 'name', 'is', 'Manish']\n"
          ],
          "name": "stdout"
        }
      ]
    },
    {
      "cell_type": "code",
      "metadata": {
        "id": "Sc-EfC9ywCTR",
        "colab": {
          "base_uri": "https://localhost:8080/"
        },
        "outputId": "4b07afbc-385a-460a-c47f-0c989bac2ba8"
      },
      "source": [
        "type(tokens)"
      ],
      "execution_count": null,
      "outputs": [
        {
          "output_type": "execute_result",
          "data": {
            "text/plain": [
              "spacy.tokens.doc.Doc"
            ]
          },
          "metadata": {
            "tags": []
          },
          "execution_count": 62
        }
      ]
    },
    {
      "cell_type": "code",
      "metadata": {
        "id": "ICJ0t--85VOc"
      },
      "source": [
        "words=[]\r\n",
        "documents=[]\r\n",
        "classes=[]\r\n",
        "for intent in intents['intents']:\r\n",
        "    for pattern in intent['patterns']:\r\n",
        "        #tokenize each word\r\n",
        "        tokens= nlp(pattern)\r\n",
        "        l=[]\r\n",
        "        for i in tokens:\r\n",
        "             i=str(i)\r\n",
        "             l.append(i)\r\n",
        "        words.extend(l)\r\n",
        "        #add documents in the corpus\r\n",
        "        documents.append((l, intent['tag']))\r\n",
        "\r\n",
        "        # add to our classes list\r\n",
        "        if intent['tag'] not in classes:\r\n",
        "            classes.append(intent['tag'])"
      ],
      "execution_count": 36,
      "outputs": []
    },
    {
      "cell_type": "code",
      "metadata": {
        "colab": {
          "base_uri": "https://localhost:8080/"
        },
        "id": "kkBPFHnY6rCZ",
        "outputId": "4e79e867-6b90-4403-bacb-388ac6f5d666"
      },
      "source": [
        "print(l)\r\n",
        "print(words)\r\n",
        "print(len(words))\r\n",
        "print(documents)\r\n",
        "print(classes)\r\n",
        "len(classes)\r\n",
        "\r\n"
      ],
      "execution_count": 37,
      "outputs": [
        {
          "output_type": "stream",
          "text": [
            "['Looking', 'up', 'hospital', 'details']\n",
            "['Hi', 'there', 'How', 'are', 'you', 'Is', 'anyone', 'there', '?', 'Hey', 'Hola', 'Hello', 'Good', 'day', 'Bye', 'See', 'you', 'later', 'Goodbye', 'Nice', 'chatting', 'to', 'you', ',', 'bye', 'Till', 'next', 'time', 'Thanks', 'Thank', 'you', 'That', \"'s\", 'helpful', 'Awesome', ',', 'thanks', 'Thanks', 'for', 'helping', 'me', 'How', 'you', 'could', 'help', 'me', '?', 'What', 'you', 'can', 'do', '?', 'What', 'help', 'you', 'provide', '?', 'How', 'you', 'can', 'be', 'helpful', '?', 'What', 'support', 'is', 'offered', 'How', 'to', 'check', 'Adverse', 'drug', 'reaction', '?', 'Open', 'adverse', 'drugs', 'module', 'Give', 'me', 'a', 'list', 'of', 'drugs', 'causing', 'adverse', 'behavior', 'List', 'all', 'drugs', 'suitable', 'for', 'patient', 'with', 'adverse', 'reaction', 'Which', 'drugs', 'do', 'nt', 'have', 'adverse', 'reaction', '?', 'Open', 'blood', 'pressure', 'module', 'Task', 'related', 'to', 'blood', 'pressure', 'Blood', 'pressure', 'data', 'entry', 'I', 'want', 'to', 'log', 'blood', 'pressure', 'results', 'Blood', 'pressure', 'data', 'management', 'I', 'want', 'to', 'search', 'for', 'blood', 'pressure', 'result', 'history', 'Blood', 'pressure', 'for', 'patient', 'Load', 'patient', 'blood', 'pressure', 'result', 'Show', 'blood', 'pressure', 'results', 'for', 'patient', 'Find', 'blood', 'pressure', 'results', 'by', 'ID', 'Find', 'me', 'a', 'pharmacy', 'Find', 'pharmacy', 'List', 'of', 'pharmacies', 'nearby', 'Locate', 'pharmacy', 'Search', 'pharmacy', 'Lookup', 'for', 'hospital', 'Searching', 'for', 'hospital', 'to', 'transfer', 'patient', 'I', 'want', 'to', 'search', 'hospital', 'data', 'Hospital', 'lookup', 'for', 'patient', 'Looking', 'up', 'hospital', 'details']\n",
            "195\n",
            "[(['Hi', 'there'], 'greeting'), (['How', 'are', 'you'], 'greeting'), (['Is', 'anyone', 'there', '?'], 'greeting'), (['Hey'], 'greeting'), (['Hola'], 'greeting'), (['Hello'], 'greeting'), (['Good', 'day'], 'greeting'), (['Bye'], 'goodbye'), (['See', 'you', 'later'], 'goodbye'), (['Goodbye'], 'goodbye'), (['Nice', 'chatting', 'to', 'you', ',', 'bye'], 'goodbye'), (['Till', 'next', 'time'], 'goodbye'), (['Thanks'], 'thanks'), (['Thank', 'you'], 'thanks'), (['That', \"'s\", 'helpful'], 'thanks'), (['Awesome', ',', 'thanks'], 'thanks'), (['Thanks', 'for', 'helping', 'me'], 'thanks'), (['How', 'you', 'could', 'help', 'me', '?'], 'options'), (['What', 'you', 'can', 'do', '?'], 'options'), (['What', 'help', 'you', 'provide', '?'], 'options'), (['How', 'you', 'can', 'be', 'helpful', '?'], 'options'), (['What', 'support', 'is', 'offered'], 'options'), (['How', 'to', 'check', 'Adverse', 'drug', 'reaction', '?'], 'adverse_drug'), (['Open', 'adverse', 'drugs', 'module'], 'adverse_drug'), (['Give', 'me', 'a', 'list', 'of', 'drugs', 'causing', 'adverse', 'behavior'], 'adverse_drug'), (['List', 'all', 'drugs', 'suitable', 'for', 'patient', 'with', 'adverse', 'reaction'], 'adverse_drug'), (['Which', 'drugs', 'do', 'nt', 'have', 'adverse', 'reaction', '?'], 'adverse_drug'), (['Open', 'blood', 'pressure', 'module'], 'blood_pressure'), (['Task', 'related', 'to', 'blood', 'pressure'], 'blood_pressure'), (['Blood', 'pressure', 'data', 'entry'], 'blood_pressure'), (['I', 'want', 'to', 'log', 'blood', 'pressure', 'results'], 'blood_pressure'), (['Blood', 'pressure', 'data', 'management'], 'blood_pressure'), (['I', 'want', 'to', 'search', 'for', 'blood', 'pressure', 'result', 'history'], 'blood_pressure_search'), (['Blood', 'pressure', 'for', 'patient'], 'blood_pressure_search'), (['Load', 'patient', 'blood', 'pressure', 'result'], 'blood_pressure_search'), (['Show', 'blood', 'pressure', 'results', 'for', 'patient'], 'blood_pressure_search'), (['Find', 'blood', 'pressure', 'results', 'by', 'ID'], 'blood_pressure_search'), (['Find', 'me', 'a', 'pharmacy'], 'pharmacy_search'), (['Find', 'pharmacy'], 'pharmacy_search'), (['List', 'of', 'pharmacies', 'nearby'], 'pharmacy_search'), (['Locate', 'pharmacy'], 'pharmacy_search'), (['Search', 'pharmacy'], 'pharmacy_search'), (['Lookup', 'for', 'hospital'], 'hospital_search'), (['Searching', 'for', 'hospital', 'to', 'transfer', 'patient'], 'hospital_search'), (['I', 'want', 'to', 'search', 'hospital', 'data'], 'hospital_search'), (['Hospital', 'lookup', 'for', 'patient'], 'hospital_search'), (['Looking', 'up', 'hospital', 'details'], 'hospital_search')]\n",
            "['greeting', 'goodbye', 'thanks', 'options', 'adverse_drug', 'blood_pressure', 'blood_pressure_search', 'pharmacy_search', 'hospital_search']\n"
          ],
          "name": "stdout"
        },
        {
          "output_type": "execute_result",
          "data": {
            "text/plain": [
              "9"
            ]
          },
          "metadata": {
            "tags": []
          },
          "execution_count": 37
        }
      ]
    },
    {
      "cell_type": "code",
      "metadata": {
        "id": "4izdbI6k62I0",
        "colab": {
          "base_uri": "https://localhost:8080/"
        },
        "outputId": "fa21a617-9828-427b-e42b-dbb8dce50ab8"
      },
      "source": [
        "#create our training data\r\n",
        "training= []\r\n",
        "# create an empty array for our output\r\n",
        "output_empty=[0]*len(classes)\r\n",
        "#training set, bag of words for each sentence\r\n",
        "for doc in documents:\r\n",
        "   # intialize our bag of words\r\n",
        "   bag=[]\r\n",
        "   #list of tokenized words fo pattern\r\n",
        "   pattern_words=doc[0]\r\n",
        "   #lemmatize each word -create base word, in attempt to represent related word\r\n",
        "   pattern_words=[nlp(word.lower())[0].lemma_ for word in pattern_words]\r\n",
        "    \r\n",
        "for w in words:\r\n",
        "    bag.append(1) if w in pattern_words else bag.append(0)\r\n",
        "\r\n",
        "    # output is a '0' for each tag and '1' for current tag (for each pattern)\r\n",
        "  \r\n",
        "    output_row = list(output_empty)\r\n",
        "    output_row[classes.index(doc[1])] = 1\r\n",
        "\r\n",
        "    training.append([bag, output_row])\r\n",
        "# shuffle our features and turn into np.array\r\n",
        "random.shuffle(training)\r\n",
        "training = np.array(training)\r\n",
        "# create train and test lists. X - patterns, Y - intents\r\n",
        "trainx = list(training[:,0])\r\n",
        "trainy = list(training[:,1])\r\n",
        "print(\"Training data created\")\r\n",
        "\r\n",
        "\r\n",
        "\r\n"
      ],
      "execution_count": 78,
      "outputs": [
        {
          "output_type": "stream",
          "text": [
            "Training data created\n"
          ],
          "name": "stdout"
        },
        {
          "output_type": "stream",
          "text": [
            "/usr/local/lib/python3.6/dist-packages/ipykernel_launcher.py:25: VisibleDeprecationWarning: Creating an ndarray from ragged nested sequences (which is a list-or-tuple of lists-or-tuples-or ndarrays with different lengths or shapes) is deprecated. If you meant to do this, you must specify 'dtype=object' when creating the ndarray\n"
          ],
          "name": "stderr"
        }
      ]
    },
    {
      "cell_type": "code",
      "metadata": {
        "colab": {
          "base_uri": "https://localhost:8080/"
        },
        "id": "WP30eN0fLUS2",
        "outputId": "b629b401-3294-4dfa-aa2d-e7184c0cb50a"
      },
      "source": [
        "new_words=[]\r\n",
        "for i in words:\r\n",
        "    new_words.append(i.lower())\r\n",
        "print(words)\r\n",
        "print(new_words)\r\n",
        "\r\n",
        "unique_words = set(words)\r\n",
        "unique_words\r\n",
        "word2int = {}\r\n",
        "int2word = {}\r\n",
        "vocab_size = len(unique_words)\r\n",
        "print(vocab_size)\r\n",
        "for i,word in enumerate(unique_words):\r\n",
        "  word2int[word] = i\r\n",
        "  int2word[i] = word \r\n",
        "print(word2int)\r\n",
        "print(int2word)\r\n",
        "sentences=list()\r\n",
        "for i in documents:\r\n",
        "    sentences.append(i[0])\r\n",
        "print(sentences)    "
      ],
      "execution_count": 128,
      "outputs": [
        {
          "output_type": "stream",
          "text": [
            "['Hi', 'there', 'How', 'are', 'you', 'Is', 'anyone', 'there', '?', 'Hey', 'Hola', 'Hello', 'Good', 'day', 'Bye', 'See', 'you', 'later', 'Goodbye', 'Nice', 'chatting', 'to', 'you', ',', 'bye', 'Till', 'next', 'time', 'Thanks', 'Thank', 'you', 'That', \"'s\", 'helpful', 'Awesome', ',', 'thanks', 'Thanks', 'for', 'helping', 'me', 'How', 'you', 'could', 'help', 'me', '?', 'What', 'you', 'can', 'do', '?', 'What', 'help', 'you', 'provide', '?', 'How', 'you', 'can', 'be', 'helpful', '?', 'What', 'support', 'is', 'offered', 'How', 'to', 'check', 'Adverse', 'drug', 'reaction', '?', 'Open', 'adverse', 'drugs', 'module', 'Give', 'me', 'a', 'list', 'of', 'drugs', 'causing', 'adverse', 'behavior', 'List', 'all', 'drugs', 'suitable', 'for', 'patient', 'with', 'adverse', 'reaction', 'Which', 'drugs', 'do', 'nt', 'have', 'adverse', 'reaction', '?', 'Open', 'blood', 'pressure', 'module', 'Task', 'related', 'to', 'blood', 'pressure', 'Blood', 'pressure', 'data', 'entry', 'I', 'want', 'to', 'log', 'blood', 'pressure', 'results', 'Blood', 'pressure', 'data', 'management', 'I', 'want', 'to', 'search', 'for', 'blood', 'pressure', 'result', 'history', 'Blood', 'pressure', 'for', 'patient', 'Load', 'patient', 'blood', 'pressure', 'result', 'Show', 'blood', 'pressure', 'results', 'for', 'patient', 'Find', 'blood', 'pressure', 'results', 'by', 'ID', 'Find', 'me', 'a', 'pharmacy', 'Find', 'pharmacy', 'List', 'of', 'pharmacies', 'nearby', 'Locate', 'pharmacy', 'Search', 'pharmacy', 'Lookup', 'for', 'hospital', 'Searching', 'for', 'hospital', 'to', 'transfer', 'patient', 'I', 'want', 'to', 'search', 'hospital', 'data', 'Hospital', 'lookup', 'for', 'patient', 'Looking', 'up', 'hospital', 'details']\n",
            "['hi', 'there', 'how', 'are', 'you', 'is', 'anyone', 'there', '?', 'hey', 'hola', 'hello', 'good', 'day', 'bye', 'see', 'you', 'later', 'goodbye', 'nice', 'chatting', 'to', 'you', ',', 'bye', 'till', 'next', 'time', 'thanks', 'thank', 'you', 'that', \"'s\", 'helpful', 'awesome', ',', 'thanks', 'thanks', 'for', 'helping', 'me', 'how', 'you', 'could', 'help', 'me', '?', 'what', 'you', 'can', 'do', '?', 'what', 'help', 'you', 'provide', '?', 'how', 'you', 'can', 'be', 'helpful', '?', 'what', 'support', 'is', 'offered', 'how', 'to', 'check', 'adverse', 'drug', 'reaction', '?', 'open', 'adverse', 'drugs', 'module', 'give', 'me', 'a', 'list', 'of', 'drugs', 'causing', 'adverse', 'behavior', 'list', 'all', 'drugs', 'suitable', 'for', 'patient', 'with', 'adverse', 'reaction', 'which', 'drugs', 'do', 'nt', 'have', 'adverse', 'reaction', '?', 'open', 'blood', 'pressure', 'module', 'task', 'related', 'to', 'blood', 'pressure', 'blood', 'pressure', 'data', 'entry', 'i', 'want', 'to', 'log', 'blood', 'pressure', 'results', 'blood', 'pressure', 'data', 'management', 'i', 'want', 'to', 'search', 'for', 'blood', 'pressure', 'result', 'history', 'blood', 'pressure', 'for', 'patient', 'load', 'patient', 'blood', 'pressure', 'result', 'show', 'blood', 'pressure', 'results', 'for', 'patient', 'find', 'blood', 'pressure', 'results', 'by', 'id', 'find', 'me', 'a', 'pharmacy', 'find', 'pharmacy', 'list', 'of', 'pharmacies', 'nearby', 'locate', 'pharmacy', 'search', 'pharmacy', 'lookup', 'for', 'hospital', 'searching', 'for', 'hospital', 'to', 'transfer', 'patient', 'i', 'want', 'to', 'search', 'hospital', 'data', 'hospital', 'lookup', 'for', 'patient', 'looking', 'up', 'hospital', 'details']\n",
            "101\n",
            "{'time': 0, 'helpful': 1, 'for': 2, 'later': 3, 'offered': 4, 'management': 5, 'drug': 6, 'to': 7, 'results': 8, 'I': 9, 'Blood': 10, 'List': 11, 'nt': 12, 'are': 13, 'day': 14, 'Adverse': 15, 'up': 16, 'list': 17, 'me': 18, 'log': 19, 'hospital': 20, 'Which': 21, 'Show': 22, 'related': 23, 'Hello': 24, 'anyone': 25, 'support': 26, 'help': 27, 'data': 28, 'helping': 29, 'ID': 30, 'could': 31, 'module': 32, 'a': 33, 'Lookup': 34, 'Is': 35, 'Bye': 36, 'thanks': 37, 'of': 38, 'Nice': 39, 'transfer': 40, 'drugs': 41, 'Thanks': 42, 'behavior': 43, 'be': 44, 'want': 45, 'See': 46, 'Open': 47, 'suitable': 48, 'Thank': 49, 'entry': 50, 'search': 51, \"'s\": 52, 'chatting': 53, 'bye': 54, 'Load': 55, 'Goodbye': 56, 'do': 57, 'Search': 58, 'details': 59, 'there': 60, 'by': 61, 'provide': 62, 'next': 63, 'How': 64, 'with': 65, 'Good': 66, 'have': 67, 'pressure': 68, 'causing': 69, 'Till': 70, 'Give': 71, 'Hi': 72, 'Task': 73, 'nearby': 74, 'result': 75, 'check': 76, 'all': 77, '?': 78, ',': 79, 'pharmacies': 80, 'Looking': 81, 'pharmacy': 82, 'patient': 83, 'you': 84, 'reaction': 85, 'adverse': 86, 'blood': 87, 'lookup': 88, 'Find': 89, 'Hola': 90, 'is': 91, 'history': 92, 'What': 93, 'Hey': 94, 'Locate': 95, 'Awesome': 96, 'can': 97, 'Hospital': 98, 'That': 99, 'Searching': 100}\n",
            "{0: 'time', 1: 'helpful', 2: 'for', 3: 'later', 4: 'offered', 5: 'management', 6: 'drug', 7: 'to', 8: 'results', 9: 'I', 10: 'Blood', 11: 'List', 12: 'nt', 13: 'are', 14: 'day', 15: 'Adverse', 16: 'up', 17: 'list', 18: 'me', 19: 'log', 20: 'hospital', 21: 'Which', 22: 'Show', 23: 'related', 24: 'Hello', 25: 'anyone', 26: 'support', 27: 'help', 28: 'data', 29: 'helping', 30: 'ID', 31: 'could', 32: 'module', 33: 'a', 34: 'Lookup', 35: 'Is', 36: 'Bye', 37: 'thanks', 38: 'of', 39: 'Nice', 40: 'transfer', 41: 'drugs', 42: 'Thanks', 43: 'behavior', 44: 'be', 45: 'want', 46: 'See', 47: 'Open', 48: 'suitable', 49: 'Thank', 50: 'entry', 51: 'search', 52: \"'s\", 53: 'chatting', 54: 'bye', 55: 'Load', 56: 'Goodbye', 57: 'do', 58: 'Search', 59: 'details', 60: 'there', 61: 'by', 62: 'provide', 63: 'next', 64: 'How', 65: 'with', 66: 'Good', 67: 'have', 68: 'pressure', 69: 'causing', 70: 'Till', 71: 'Give', 72: 'Hi', 73: 'Task', 74: 'nearby', 75: 'result', 76: 'check', 77: 'all', 78: '?', 79: ',', 80: 'pharmacies', 81: 'Looking', 82: 'pharmacy', 83: 'patient', 84: 'you', 85: 'reaction', 86: 'adverse', 87: 'blood', 88: 'lookup', 89: 'Find', 90: 'Hola', 91: 'is', 92: 'history', 93: 'What', 94: 'Hey', 95: 'Locate', 96: 'Awesome', 97: 'can', 98: 'Hospital', 99: 'That', 100: 'Searching'}\n",
            "[['Hi', 'there'], ['How', 'are', 'you'], ['Is', 'anyone', 'there', '?'], ['Hey'], ['Hola'], ['Hello'], ['Good', 'day'], ['Bye'], ['See', 'you', 'later'], ['Goodbye'], ['Nice', 'chatting', 'to', 'you', ',', 'bye'], ['Till', 'next', 'time'], ['Thanks'], ['Thank', 'you'], ['That', \"'s\", 'helpful'], ['Awesome', ',', 'thanks'], ['Thanks', 'for', 'helping', 'me'], ['How', 'you', 'could', 'help', 'me', '?'], ['What', 'you', 'can', 'do', '?'], ['What', 'help', 'you', 'provide', '?'], ['How', 'you', 'can', 'be', 'helpful', '?'], ['What', 'support', 'is', 'offered'], ['How', 'to', 'check', 'Adverse', 'drug', 'reaction', '?'], ['Open', 'adverse', 'drugs', 'module'], ['Give', 'me', 'a', 'list', 'of', 'drugs', 'causing', 'adverse', 'behavior'], ['List', 'all', 'drugs', 'suitable', 'for', 'patient', 'with', 'adverse', 'reaction'], ['Which', 'drugs', 'do', 'nt', 'have', 'adverse', 'reaction', '?'], ['Open', 'blood', 'pressure', 'module'], ['Task', 'related', 'to', 'blood', 'pressure'], ['Blood', 'pressure', 'data', 'entry'], ['I', 'want', 'to', 'log', 'blood', 'pressure', 'results'], ['Blood', 'pressure', 'data', 'management'], ['I', 'want', 'to', 'search', 'for', 'blood', 'pressure', 'result', 'history'], ['Blood', 'pressure', 'for', 'patient'], ['Load', 'patient', 'blood', 'pressure', 'result'], ['Show', 'blood', 'pressure', 'results', 'for', 'patient'], ['Find', 'blood', 'pressure', 'results', 'by', 'ID'], ['Find', 'me', 'a', 'pharmacy'], ['Find', 'pharmacy'], ['List', 'of', 'pharmacies', 'nearby'], ['Locate', 'pharmacy'], ['Search', 'pharmacy'], ['Lookup', 'for', 'hospital'], ['Searching', 'for', 'hospital', 'to', 'transfer', 'patient'], ['I', 'want', 'to', 'search', 'hospital', 'data'], ['Hospital', 'lookup', 'for', 'patient'], ['Looking', 'up', 'hospital', 'details']]\n"
          ],
          "name": "stdout"
        }
      ]
    },
    {
      "cell_type": "code",
      "metadata": {
        "colab": {
          "base_uri": "https://localhost:8080/"
        },
        "id": "q5C9qMw0eMph",
        "outputId": "49c0fd93-f954-4f63-9b85-2d2ef01694f7"
      },
      "source": [
        "window_size = 2\r\n",
        "data = []\r\n",
        "for sentence in sentences :\r\n",
        "  for wordId,word in enumerate(sentence):\r\n",
        "    for nxword in sentence[max(wordId - window_size,0):min(wordId + window_size, len(sentence))+1]:\r\n",
        "        if nxword != word:\r\n",
        "           data.append([word,nxword])\r\n",
        "\r\n",
        "data\r\n",
        "len(data)"
      ],
      "execution_count": 129,
      "outputs": [
        {
          "output_type": "execute_result",
          "data": {
            "text/plain": [
              "510"
            ]
          },
          "metadata": {
            "tags": []
          },
          "execution_count": 129
        }
      ]
    },
    {
      "cell_type": "code",
      "metadata": {
        "id": "0nQ0gusrgt4W"
      },
      "source": [
        "def Encoder(datapointindex, vocab_size):\r\n",
        "  temp = np.zeros(vocab_size)\r\n",
        "  temp[datapointindex] = 1\r\n",
        "  return temp"
      ],
      "execution_count": 130,
      "outputs": []
    },
    {
      "cell_type": "code",
      "metadata": {
        "id": "1c8wxflVhRwy"
      },
      "source": [
        "train_x = []\r\n",
        "train_y = []\r\n",
        "\r\n",
        "for worddata in data:\r\n",
        "  try:\r\n",
        "    train_x.append(Encoder(word2int[worddata[0]], vocab_size))\r\n",
        "    train_y.append(Encoder(word2int[worddata[1]], vocab_size))\r\n",
        "  except:\r\n",
        "\r\n",
        "    continue"
      ],
      "execution_count": 131,
      "outputs": []
    },
    {
      "cell_type": "code",
      "metadata": {
        "colab": {
          "base_uri": "https://localhost:8080/"
        },
        "id": "mPjHrk6UhdbO",
        "outputId": "260f03af-3461-464e-ce9e-519a3f47f753"
      },
      "source": [
        "len(train_y)\r\n"
      ],
      "execution_count": 132,
      "outputs": [
        {
          "output_type": "execute_result",
          "data": {
            "text/plain": [
              "510"
            ]
          },
          "metadata": {
            "tags": []
          },
          "execution_count": 132
        }
      ]
    },
    {
      "cell_type": "code",
      "metadata": {
        "id": "t0nmLfD4hfmr"
      },
      "source": [
        "model = Sequential()\r\n",
        "model.add(Dense(128, input_shape=(len(trainx[0]),), activation='relu'))\r\n",
        "model.add(Dropout(0.5))\r\n",
        "model.add(Dense(64, activation='relu'))\r\n",
        "model.add(Dropout(0.5))\r\n",
        "model.add(Dense(len(trainy[0]), activation='softmax'))\r\n",
        "\r\n",
        "# Compile model. Stochastic gradient descent with Nesterov accelerated gradient gives good results for this model\r\n",
        "sgd = SGD(lr=0.01, decay=1e-6, momentum=0.9, nesterov=True)\r\n",
        "model.compile(loss='categorical_crossentropy', optimizer=sgd, metrics=['accuracy'])\r\n",
        "\r\n",
        "#fitting and saving the model \r\n",
        "hist = model.fit(np.array(trainx), np.array(trainy), epochs=200, batch_size=5, verbose=1)\r\n",
        "model.save('chatbot_model.h5', hist)\r\n",
        "\r\n",
        "\r\n",
        "print(\"model created\")"
      ],
      "execution_count": null,
      "outputs": []
    },
    {
      "cell_type": "code",
      "metadata": {
        "id": "Mb1zr54ohlVl"
      },
      "source": [
        "model = Sequential()\r\n",
        "model.add(Dense(128, input_shape=(len(train_x[0]),), activation='relu'))\r\n",
        "model.add(Dropout(0.5))\r\n",
        "model.add(Dense(64, activation='relu'))\r\n",
        "model.add(Dropout(0.5))\r\n",
        "model.add(Dense(len(train_y[0]), activation='softmax'))\r\n",
        "\r\n",
        "# Compile model. Stochastic gradient descent with Nesterov accelerated gradient gives good results for this model\r\n",
        "sgd = SGD(lr=0.01, decay=1e-6, momentum=0.9, nesterov=True)\r\n",
        "model.compile(loss='categorical_crossentropy', optimizer=sgd, metrics=['accuracy'])\r\n",
        "\r\n",
        "#fitting and saving the model \r\n",
        "hist = model.fit(np.array(train_x), np.array(train_y), epochs=200, batch_size=5, verbose=1)\r\n",
        "model.save('chatbot_model_2.h5', hist)\r\n",
        "\r\n",
        "\r\n",
        "print(\"model created\")"
      ],
      "execution_count": null,
      "outputs": []
    },
    {
      "cell_type": "code",
      "metadata": {
        "id": "rTH7HOieyMVC"
      },
      "source": [
        ""
      ],
      "execution_count": null,
      "outputs": []
    }
  ]
}