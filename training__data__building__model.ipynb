{
  "nbformat": 4,
  "nbformat_minor": 0,
  "metadata": {
    "colab": {
      "name": "training _data _building _model",
      "provenance": [],
      "authorship_tag": "ABX9TyOITqoerAALekbpk2iy7s5c",
      "include_colab_link": true
    },
    "kernelspec": {
      "name": "python3",
      "display_name": "Python 3"
    }
  },
  "cells": [
    {
      "cell_type": "markdown",
      "metadata": {
        "id": "view-in-github",
        "colab_type": "text"
      },
      "source": [
        "<a href=\"https://colab.research.google.com/github/Manish533005/nlp_chatbot/blob/main/training__data__building__model.ipynb\" target=\"_parent\"><img src=\"https://colab.research.google.com/assets/colab-badge.svg\" alt=\"Open In Colab\"/></a>"
      ]
    },
    {
      "cell_type": "code",
      "metadata": {
        "colab": {
          "base_uri": "https://localhost:8080/"
        },
        "id": "SLcFwm4qbz6z",
        "outputId": "12c7d932-5776-45ca-fa14-acd6bdc78f17"
      },
      "source": [
        "%tensorflow_version 1.x\r\n",
        "import tensorflow as tf\r\n",
        "from tensorflow import keras\r\n",
        "from keras.models import Sequential\r\n",
        "from keras.layers import Dense, Activation, Dropout\r\n",
        "from keras.optimizers import SGD\r\n",
        "import numpy as np\r\n",
        "import json\r\n",
        "import spacy\r\n",
        "import random\r\n",
        "import pickle\r\n",
        "print(tf.__version__)"
      ],
      "execution_count": 48,
      "outputs": [
        {
          "output_type": "stream",
          "text": [
            "1.15.2\n"
          ],
          "name": "stdout"
        }
      ]
    },
    {
      "cell_type": "code",
      "metadata": {
        "id": "6udOegu_c3cA"
      },
      "source": [
        "#loading dataset(json file) into a file \r\n",
        "data_file=open(\"chatbot_dataset.json\",\"r\")\r\n",
        "intents=json.load(data_file)"
      ],
      "execution_count": 49,
      "outputs": []
    },
    {
      "cell_type": "code",
      "metadata": {
        "id": "K1GtiacGdhUv",
        "colab": {
          "base_uri": "https://localhost:8080/"
        },
        "outputId": "2b67903b-35dc-4240-991c-270c62597f67"
      },
      "source": [
        "words=[] #contains the total words in the dataset\r\n",
        "classes=[]# contains the categories\r\n",
        "documents=[]#contains patterns and categories as tuples in the list\r\n",
        "ignore_words=[\"?\",\".\",\"!\",\" \",\",\"]\r\n",
        "en_lang_model=spacy.load(\"en_core_web_sm\")\r\n",
        "\r\n",
        "all_stopwords=en_lang_model.Defaults.stop_words\r\n",
        "print(all_stopwords)\r\n"
      ],
      "execution_count": 50,
      "outputs": [
        {
          "output_type": "stream",
          "text": [
            "{'own', 'next', 'hereupon', 'ten', 'a', 'almost', 'i', 'had', 'twelve', 'mostly', 'without', 'me', 'off', 'behind', 'in', 'before', 'hereafter', 'his', 'against', 'get', 'into', 'more', 'least', 'up', 'except', '’m', 'are', 'forty', 'although', 'were', 'doing', 'become', 'because', 'enough', 'nine', 'third', 'she', 'namely', 'either', 'whereby', 'very', 'call', 'who', 'fifty', 'amount', 'here', 'each', 'somewhere', '‘d', 'about', 'may', 'our', 'per', 'thereafter', 'throughout', 'where', 'whereupon', 'at', 'within', 'made', 'empty', 'nor', 'take', 'twenty', 'whither', 'put', 'then', 'would', 'any', 'over', 'there', 'he', \"'re\", 'due', 'its', '’re', 'above', 'moreover', 'perhaps', 'but', 'or', 'both', 'rather', 'hers', 'anything', 'cannot', 'always', 'hundred', 'via', 'as', 'was', 'whatever', 'done', 'thereupon', 'bottom', 'none', 'with', 'an', 'part', 'used', 'be', 'should', 'fifteen', 'top', 'sometime', 'well', 'ourselves', 'has', 'again', 'neither', \"'m\", 'him', 'latterly', 'once', 'six', 'further', 'hereby', 'other', 'everyone', 'along', 'noone', 'ours', 'being', 'really', 'the', 'therefore', 'anyhow', 'back', 'those', 'thus', 'nevertheless', 'nothing', 'we', 'what', 'whence', 'elsewhere', 'whereas', 'every', 'most', 'keep', 'using', 'another', 'anyway', 'not', 'regarding', 'hence', 'to', 'two', 'why', 'eleven', 'upon', 'whenever', 'it', \"'ve\", 'this', '‘s', 'move', 'their', 'during', 'thru', 'however', 'after', 'go', 'ever', 'side', 'only', 're', 'front', 'been', 'everything', 'between', 'how', 'indeed', 'please', 'much', 'through', 'few', 'is', \"'s\", 'all', 'never', 'of', '‘re', 'already', 'beyond', 'whether', 'no', 'eight', 'around', 'by', 'thence', 'will', 'seeming', 'full', 'first', 'if', 'whereafter', 'formerly', 'besides', 'name', 'show', 'too', 'whole', 'that', 'nobody', 'some', 'themselves', 'among', 'them', 'out', 'n‘t', 'did', 'yours', 'am', 'latter', 'four', 'sixty', 'under', 'which', '’ll', 'beforehand', 'many', 'while', 'does', 'toward', 'make', 'five', 'meanwhile', 'whoever', 'onto', 'quite', 'together', 'serious', 'until', 'your', 'on', 'less', 'myself', 'one', 'else', 'than', 'last', 'yourself', 'down', 'becomes', 'just', 'seem', 'across', 'afterwards', 'himself', 'since', 'former', 'so', 'they', 'whose', '’s', 'can', 'from', 'amongst', 'now', 'wherein', \"n't\", \"'d\", 'everywhere', 'mine', 'my', 'see', 'still', 'towards', 'anywhere', 'below', 'otherwise', 'same', 'ca', 'could', 'sometimes', 'have', '‘ve', 'you', 'for', 'something', 'such', 'and', 'nowhere', 'several', 'somehow', 'her', 'beside', 'must', 'whom', 'yourselves', 'three', '‘m', 'became', '‘ll', 'even', 'might', 'often', 'various', 'therein', '’d', 'herein', 'these', 'alone', 'do', 'us', 'becoming', 'seems', 'when', 'wherever', 'herself', 'yet', 'n’t', 'say', 'also', 'seemed', 'thereby', 'unless', \"'ll\", '’ve', 'though', 'give', 'others', 'anyone', 'itself', 'someone'}\n"
          ],
          "name": "stdout"
        }
      ]
    },
    {
      "cell_type": "code",
      "metadata": {
        "id": "C2NrL9_vdjU_"
      },
      "source": [
        "for intent in intents['intents']:\r\n",
        "    for pattern in intent['patterns']:\r\n",
        "        #tokenize each word\r\n",
        "        tokens= en_lang_model(pattern)\r\n",
        "        l=[]\r\n",
        "        for i in tokens:\r\n",
        "             i=str(i)\r\n",
        "             l.append(i)\r\n",
        "        words.extend(l)\r\n",
        "        #add documents in the corpus\r\n",
        "        \r\n",
        "        documents.append((l, intent['tag']))\r\n",
        "\r\n",
        "        # add to our classes list\r\n",
        "        if intent['tag'] not in classes:\r\n",
        "            classes.append(intent['tag'])"
      ],
      "execution_count": 51,
      "outputs": []
    },
    {
      "cell_type": "code",
      "metadata": {
        "id": "TrfPd4OIfh26",
        "colab": {
          "base_uri": "https://localhost:8080/"
        },
        "outputId": "082f2bf7-72c2-4c94-9401-3f5d4ff3e4bb"
      },
      "source": [
        "print(words)\r\n",
        "print(documents)\r\n",
        "print(classes)"
      ],
      "execution_count": 52,
      "outputs": [
        {
          "output_type": "stream",
          "text": [
            "['Hello', 'Hi', 'Hey', 'Hi', 'there', 'Bye', 'See', 'you', 'later', 'Goodbye', 'Nice', 'chatting', 'to', 'you', ',', 'bye', 'Till', 'next', 'time', 'order', 'food', 'food', 'order', 'order', 'I', 'want', 'to', 'order', 'food', 'What', 'variety', 'of', 'foods', 'are', 'available', 'Is', 'food', 'available', 'Can', 'I', 'order', 'pizza', 'Are', 'veg', 'pizzas', 'available', 'Are', 'non', 'veg', 'pizzas', 'available', 'I', 'am', 'hungry', 'I', 'want', 'some', 'food', 'is', 'food', 'available', 'Can', 'I', 'view', 'the', 'menu', 'please', 'Menu', 'Menu', 'please', 'What', 'is', 'the', 'menu', 'What', 'can', 'i', 'order', 'Is', 'combo', 'available', 'Combo', 'please', 'Combo', 'What', 'is', 'today', \"'s\", 'menu', 'What', 'food', 'is', 'there', 'today', 'Is', 'food', 'there', 'Can', 'you', 'show', 'menu', 'Can', 'I', 'see', 'the', 'menu', 'What', 'have', 'you', 'got', 'What', 'can', 'I', 'get', 'Show', 'menu', 'Show', 'what', 'I', 'can', 'get', 'Menu', 'menu', 'I', 'am', 'hungry', 'cancel', 'the', 'order', 'cancel', 'order', 'cancel', 'cancle', 'I', 'want', 'to', 'edit', 'my', 'order', 'edit', 'order', 'edit', 'I', 'want', 'to', 'change', 'something', 'I', 'want', 'to', 'change', 'my', 'order', 'Can', 'I', 'edit', 'my', 'order', 'I', 'want', 'to', 'edit', 'Request', 'to', 'edit', 'add', 'add', 'item', 'add', 'items', 'remove', 'remove', 'items', 'remove', 'item', 'confirm', 'order', 'I', 'want', 'to', 'confirm', 'order', 'confirm', ' ', 'want', 'to', 'confirm', 'order', 'chicken', 'dominator', 'small', 'large', 'medium', 'Non', '-', 'veg', 'Pizza', 'Non', '-', 'Veg', 'pizzas', 'Non', '-', 'Veg', 'pizzas', 'please', 'Non', '-', 'Veg', 'pizza', 'please', 'Non', '-', 'Veg', 'Non', '-', 'Veg', 'please', 'nonveg', 'non', 'veg', 'veg', 'Pizza', 'Veg', 'pizzas', 'Veg', 'pizzas', 'please', 'Veg', 'pizza', 'please', 'Veg', 'Veg', 'please', 'Beverages', 'Beverage', 'Beverages', 'please', 'Beverage', 'please', 'Some', 'beverage', 'please', 'Some', 'beverages', 'please', 'drinks', 'cool', 'drinks', 'hard', 'drinks', 'Slides', 'Slide', 'Slides', 'please', 'Slide', 'please', 'Some', 'slide', 'please', 'Some', 'slides', 'please']\n",
            "[(['Hello'], 'greetings'), (['Hi'], 'greetings'), (['Hey'], 'greetings'), (['Hi', 'there'], 'greetings'), (['Bye'], 'Bye'), (['See', 'you', 'later'], 'Bye'), (['Goodbye'], 'Bye'), (['Nice', 'chatting', 'to', 'you', ',', 'bye'], 'Bye'), (['Till', 'next', 'time'], 'Bye'), (['order', 'food'], 'order_food'), (['food', 'order'], 'order_food'), (['order'], 'order_food'), (['I', 'want', 'to', 'order', 'food'], 'order_food'), (['What', 'variety', 'of', 'foods', 'are', 'available'], 'order_food'), (['Is', 'food', 'available'], 'order_food'), (['Can', 'I', 'order', 'pizza'], 'order_food'), (['Are', 'veg', 'pizzas', 'available'], 'order_food'), (['Are', 'non', 'veg', 'pizzas', 'available'], 'order_food'), (['I', 'am', 'hungry'], 'order_food'), (['I', 'want', 'some', 'food'], 'order_food'), (['is', 'food', 'available'], 'order_food'), (['Can', 'I', 'view', 'the', 'menu', 'please'], 'order_food'), (['Menu'], 'order_food'), (['Menu', 'please'], 'order_food'), (['What', 'is', 'the', 'menu'], 'order_food'), (['What', 'can', 'i', 'order'], 'order_food'), (['Is', 'combo', 'available'], 'order_food'), (['Combo', 'please'], 'order_food'), (['Combo'], 'order_food'), (['What', 'is', 'today', \"'s\", 'menu'], 'order_food'), (['What', 'food', 'is', 'there', 'today'], 'order_food'), (['Is', 'food', 'there'], 'order_food'), (['Can', 'you', 'show', 'menu'], 'order_food'), (['Can', 'I', 'see', 'the', 'menu'], 'order_food'), (['What', 'have', 'you', 'got'], 'order_food'), (['What', 'can', 'I', 'get'], 'order_food'), (['Show', 'menu'], 'order_food'), (['Show', 'what', 'I', 'can', 'get'], 'order_food'), (['Menu'], 'order_food'), (['menu'], 'order_food'), (['I', 'am', 'hungry'], 'order_food'), (['cancel', 'the', 'order'], 'cancel_food'), (['cancel', 'order'], 'cancel_food'), (['cancel'], 'cancel_food'), (['cancle'], 'cancel_food'), (['I', 'want', 'to', 'edit', 'my', 'order'], 'edit_order'), (['edit', 'order'], 'edit_order'), (['edit'], 'edit_order'), (['I', 'want', 'to', 'change', 'something'], 'edit_order'), (['I', 'want', 'to', 'change', 'my', 'order'], 'edit_order'), (['Can', 'I', 'edit', 'my', 'order'], 'edit_order'), (['I', 'want', 'to', 'edit'], 'edit_order'), (['Request', 'to', 'edit'], 'edit_order'), (['add'], 'add_menu'), (['add', 'item'], 'add_menu'), (['add', 'items'], 'add_menu'), (['remove'], 'remove_menu'), (['remove', 'items'], 'remove_menu'), (['remove', 'item'], 'remove_menu'), (['confirm', 'order'], 'confirm_order'), (['I', 'want', 'to', 'confirm', 'order'], 'confirm_order'), (['confirm'], 'confirm_order'), ([' ', 'want', 'to', 'confirm', 'order'], 'confirm_order'), (['chicken', 'dominator'], 'food_item'), (['small'], 'pizza_size'), (['large'], 'pizza_size'), (['medium'], 'pizza_size'), (['Non', '-', 'veg', 'Pizza'], 'Non-Veg Pizza'), (['Non', '-', 'Veg', 'pizzas'], 'Non-Veg Pizza'), (['Non', '-', 'Veg', 'pizzas', 'please'], 'Non-Veg Pizza'), (['Non', '-', 'Veg', 'pizza', 'please'], 'Non-Veg Pizza'), (['Non', '-', 'Veg'], 'Non-Veg Pizza'), (['Non', '-', 'Veg', 'please'], 'Non-Veg Pizza'), (['nonveg'], 'Non-Veg Pizza'), (['non', 'veg'], 'Non-Veg Pizza'), (['veg', 'Pizza'], 'Veg Pizza'), (['Veg', 'pizzas'], 'Veg Pizza'), (['Veg', 'pizzas', 'please'], 'Veg Pizza'), (['Veg', 'pizza', 'please'], 'Veg Pizza'), (['Veg'], 'Veg Pizza'), (['Veg', 'please'], 'Veg Pizza'), (['Beverages'], 'Beverages'), (['Beverage'], 'Beverages'), (['Beverages', 'please'], 'Beverages'), (['Beverage', 'please'], 'Beverages'), (['Some', 'beverage', 'please'], 'Beverages'), (['Some', 'beverages', 'please'], 'Beverages'), (['drinks'], 'Beverages'), (['cool', 'drinks'], 'Beverages'), (['hard', 'drinks'], 'Beverages'), (['Slides'], 'Slides'), (['Slide'], 'Slides'), (['Slides', 'please'], 'Slides'), (['Slide', 'please'], 'Slides'), (['Some', 'slide', 'please'], 'Slides'), (['Some', 'slides', 'please'], 'Slides')]\n",
            "['greetings', 'Bye', 'order_food', 'cancel_food', 'edit_order', 'add_menu', 'remove_menu', 'confirm_order', 'food_item', 'pizza_size', 'Non-Veg Pizza', 'Veg Pizza', 'Beverages', 'Slides']\n"
          ],
          "name": "stdout"
        }
      ]
    },
    {
      "cell_type": "code",
      "metadata": {
        "id": "EfgWvBvdfxI0"
      },
      "source": [
        "#prepeocessing of the dataset\r\n",
        "#lemmatize each word(lower)\r\n",
        "#remove the duplicate words\r\n",
        "# neglecting the words (ingnore_words)\r\n",
        "words=[en_lang_model(w.lower())[0].lemma_  for w in words if w not in ignore_words]\r\n",
        "words=[ w for w in words if w not in all_stopwords]\r\n",
        "#sorting the words in alphabetical order\r\n",
        "words=sorted(list(set(words)))\r\n",
        "#sorting the categories in alphabetical order\r\n",
        "classes = sorted(list(set(classes)))"
      ],
      "execution_count": 53,
      "outputs": []
    },
    {
      "cell_type": "code",
      "metadata": {
        "id": "WZN42Fcmhyzw",
        "colab": {
          "base_uri": "https://localhost:8080/"
        },
        "outputId": "56fd7e0d-ed4e-4bc8-90ee-4a2938cf7c70"
      },
      "source": [
        "print(words)"
      ],
      "execution_count": 54,
      "outputs": [
        {
          "output_type": "stream",
          "text": [
            "['-', '-PRON-', 'add', 'available', 'beverage', 'bye', 'cancel', 'cancle', 'change', 'chat', 'chicken', 'combo', 'confirm', 'cool', 'dominator', 'drink', 'edit', 'food', 'goodbye', 'hard', 'hello', 'hey', 'hi', 'hungry', 'item', 'large', 'later', 'medium', 'menu', 'nice', 'non', 'nonveg', 'order', 'pizza', 'remove', 'request', 'slide', 'small', 'till', 'time', 'today', 'variety', 'veg', 'view', 'want']\n"
          ],
          "name": "stdout"
        }
      ]
    },
    {
      "cell_type": "code",
      "metadata": {
        "colab": {
          "base_uri": "https://localhost:8080/"
        },
        "id": "Js2nSwM_ibld",
        "outputId": "a526e2b6-0de4-4262-f888-b9d81000ae36"
      },
      "source": [
        "print(classes)"
      ],
      "execution_count": 55,
      "outputs": [
        {
          "output_type": "stream",
          "text": [
            "['Beverages', 'Bye', 'Non-Veg Pizza', 'Slides', 'Veg Pizza', 'add_menu', 'cancel_food', 'confirm_order', 'edit_order', 'food_item', 'greetings', 'order_food', 'pizza_size', 'remove_menu']\n"
          ],
          "name": "stdout"
        }
      ]
    },
    {
      "cell_type": "code",
      "metadata": {
        "id": "-DKzzpVajEGU"
      },
      "source": [
        "pickle.dump(words,open('words.pkl','wb'))\r\n",
        "pickle.dump(classes,open('classes.pkl','wb'))"
      ],
      "execution_count": 56,
      "outputs": []
    },
    {
      "cell_type": "code",
      "metadata": {
        "colab": {
          "base_uri": "https://localhost:8080/"
        },
        "id": "0ziERjOLjIPF",
        "outputId": "80c41740-29b5-4abe-dcc7-a3f70051019b"
      },
      "source": [
        "#creating the training data\r\n",
        "#encoding technique\r\n",
        "# create our training data\r\n",
        "training = []\r\n",
        "# create an empty array for our output\r\n",
        "output_empty = [0] * len(classes)\r\n",
        "for doc in documents:\r\n",
        "    # initialize our bag of words\r\n",
        "    bag = []\r\n",
        "    # list of tokenized words for the pattern\r\n",
        "    pattern_words = doc[0]\r\n",
        "    # lemmatize each word - create base word, in attempt to represent related words\r\n",
        "    pattern_words = [en_lang_model(word.lower())[0].lemma_ for word in pattern_words]\r\n",
        "    # create our bag of words array with 1, if word match found in current pattern\r\n",
        "    for w in words:\r\n",
        "        bag.append(1) if w in pattern_words else bag.append(0)\r\n",
        "       \r\n",
        "    # output is a '0' for each tag and '1' for current tag (for each pattern)\r\n",
        "    \r\n",
        "    output_row = list(output_empty)\r\n",
        "    output_row[classes.index(doc[1])] = 1\r\n",
        "    \r\n",
        "    training.append([bag, output_row])\r\n",
        "    \r\n",
        "# shuffle our features and turn into np.array\r\n",
        "random.shuffle(training)\r\n",
        "training = np.array(training)\r\n",
        "# create train and test lists. X - patterns, Y - intents\r\n",
        "train_x = list(training[:,0])\r\n",
        "train_y = list(training[:,1])\r\n",
        "print(\"Training data created\")"
      ],
      "execution_count": 57,
      "outputs": [
        {
          "output_type": "stream",
          "text": [
            "Training data created\n"
          ],
          "name": "stdout"
        },
        {
          "output_type": "stream",
          "text": [
            "/usr/local/lib/python3.6/dist-packages/ipykernel_launcher.py:27: VisibleDeprecationWarning: Creating an ndarray from ragged nested sequences (which is a list-or-tuple of lists-or-tuples-or ndarrays with different lengths or shapes) is deprecated. If you meant to do this, you must specify 'dtype=object' when creating the ndarray\n"
          ],
          "name": "stderr"
        }
      ]
    },
    {
      "cell_type": "code",
      "metadata": {
        "id": "EiA_tfRSr8b1"
      },
      "source": [
        "model =Sequential()\r\n",
        "model.add(Dense(128, input_shape=(len(train_x[0]),), activation='relu'))\r\n",
        "model.add(Dropout(0.5))\r\n",
        "model.add(Dense(64, activation='relu'))\r\n",
        "model.add(Dropout(0.5))\r\n",
        "model.add(Dense(len(train_y[0]), activation='softmax'))\r\n",
        "\r\n",
        "# Compile model. Stochastic gradient descent with Nesterov accelerated gradient gives good results for this model\r\n",
        "sgd = SGD(lr=0.01, decay=1e-6, momentum=0.9, nesterov=True)\r\n",
        "model.compile(loss='categorical_crossentropy', optimizer=sgd, metrics=['accuracy'])\r\n",
        "\r\n",
        "#fitting and saving the model \r\n",
        "hist = model.fit(np.array(train_x), np.array(train_y), epochs=200, batch_size=5, verbose=1)\r\n",
        "model.save('chatbot_6.h5', hist)\r\n",
        "\r\n",
        "print(\"model created\")"
      ],
      "execution_count": null,
      "outputs": []
    },
    {
      "cell_type": "code",
      "metadata": {
        "id": "MrSiB3UxtlJl",
        "colab": {
          "base_uri": "https://localhost:8080/"
        },
        "outputId": "74f8eb9b-8125-4ec4-9618-6b6fc9444977"
      },
      "source": [
        "model.summary()"
      ],
      "execution_count": 59,
      "outputs": [
        {
          "output_type": "stream",
          "text": [
            "Model: \"sequential_10\"\n",
            "_________________________________________________________________\n",
            "Layer (type)                 Output Shape              Param #   \n",
            "=================================================================\n",
            "dense_35 (Dense)             (None, 128)               5888      \n",
            "_________________________________________________________________\n",
            "dropout_24 (Dropout)         (None, 128)               0         \n",
            "_________________________________________________________________\n",
            "dense_36 (Dense)             (None, 64)                8256      \n",
            "_________________________________________________________________\n",
            "dropout_25 (Dropout)         (None, 64)                0         \n",
            "_________________________________________________________________\n",
            "dense_37 (Dense)             (None, 32)                2080      \n",
            "_________________________________________________________________\n",
            "dropout_26 (Dropout)         (None, 32)                0         \n",
            "_________________________________________________________________\n",
            "dense_38 (Dense)             (None, 14)                462       \n",
            "=================================================================\n",
            "Total params: 16,686\n",
            "Trainable params: 16,686\n",
            "Non-trainable params: 0\n",
            "_________________________________________________________________\n"
          ],
          "name": "stdout"
        }
      ]
    },
    {
      "cell_type": "code",
      "metadata": {
        "id": "k1s7M0egIQHl"
      },
      "source": [
        ""
      ],
      "execution_count": 59,
      "outputs": []
    },
    {
      "cell_type": "code",
      "metadata": {
        "id": "ry2BT6BKIYUk"
      },
      "source": [
        ""
      ],
      "execution_count": 59,
      "outputs": []
    }
  ]
}