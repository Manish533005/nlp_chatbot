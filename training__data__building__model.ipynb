{
  "nbformat": 4,
  "nbformat_minor": 0,
  "metadata": {
    "colab": {
      "name": "training _data _building _model",
      "provenance": [],
      "authorship_tag": "ABX9TyPuvYiovs77cppGD1vTLX2O",
      "include_colab_link": true
    },
    "kernelspec": {
      "name": "python3",
      "display_name": "Python 3"
    }
  },
  "cells": [
    {
      "cell_type": "markdown",
      "metadata": {
        "id": "view-in-github",
        "colab_type": "text"
      },
      "source": [
        "<a href=\"https://colab.research.google.com/github/Manish533005/nlp_chatbot/blob/main/training__data__building__model.ipynb\" target=\"_parent\"><img src=\"https://colab.research.google.com/assets/colab-badge.svg\" alt=\"Open In Colab\"/></a>"
      ]
    },
    {
      "cell_type": "code",
      "metadata": {
        "colab": {
          "base_uri": "https://localhost:8080/"
        },
        "id": "SLcFwm4qbz6z",
        "outputId": "05e28003-46dd-49f1-b641-c252c0d20621"
      },
      "source": [
        "%tensorflow_version 1.x\r\n",
        "import tensorflow as tf\r\n",
        "from tensorflow import keras\r\n",
        "from keras.models import Sequential\r\n",
        "from keras.layers import Dense, Activation, Dropout\r\n",
        "from keras.optimizers import SGD\r\n",
        "import numpy as np\r\n",
        "import json\r\n",
        "import spacy\r\n",
        "import random\r\n",
        "import pickle\r\n",
        "print(tf.__version__)"
      ],
      "execution_count": 1,
      "outputs": [
        {
          "output_type": "stream",
          "text": [
            "TensorFlow 1.x selected.\n"
          ],
          "name": "stdout"
        },
        {
          "output_type": "stream",
          "text": [
            "Using TensorFlow backend.\n"
          ],
          "name": "stderr"
        },
        {
          "output_type": "stream",
          "text": [
            "1.15.2\n"
          ],
          "name": "stdout"
        }
      ]
    },
    {
      "cell_type": "code",
      "metadata": {
        "colab": {
          "base_uri": "https://localhost:8080/"
        },
        "id": "4iNSrBGBt8uo",
        "outputId": "aebf78f9-6baa-4859-c4a8-eb0d5f9fb830"
      },
      "source": [
        "import spacy\r\n",
        "sp = spacy.load('en_core_web_sm')\r\n",
        "\r\n",
        "all_stopwords = sp.Defaults.stop_words\r\n",
        "\r\n",
        "text = \"I am Manish,Nick likes to play football, however he is not too fond of tennis.\"\r\n",
        "text_tokens = sp(text)\r\n",
        "tokens_without_sw= [word for word in text_tokens if not word in all_stopwords]\r\n",
        "\r\n",
        "print(tokens_without_sw)\r\n"
      ],
      "execution_count": null,
      "outputs": [
        {
          "output_type": "stream",
          "text": [
            "[I, am, Manish, ,, Nick, likes, to, play, football, ,, however, he, is, not, too, fond, of, tennis, .]\n"
          ],
          "name": "stdout"
        }
      ]
    },
    {
      "cell_type": "code",
      "metadata": {
        "id": "6udOegu_c3cA"
      },
      "source": [
        "#loading dataset(json file) into a file \r\n",
        "data_file=open(\"chatbot_dataset.json\",\"r\")\r\n",
        "intents=json.load(data_file)"
      ],
      "execution_count": 2,
      "outputs": []
    },
    {
      "cell_type": "code",
      "metadata": {
        "id": "K1GtiacGdhUv",
        "colab": {
          "base_uri": "https://localhost:8080/"
        },
        "outputId": "1ff3dce4-9ab4-4e12-920b-9c4fe82f2b88"
      },
      "source": [
        "words=[] #contains the total words in the dataset\r\n",
        "classes=[]# contains the categories\r\n",
        "documents=[]#contains patterns and categories as tuples in the list\r\n",
        "ignore_words=[\"?\",\".\",\"!\",\" \",\",\"]\r\n",
        "en_lang_model=spacy.load(\"en_core_web_sm\")\r\n",
        "\r\n",
        "all_stopwords=en_lang_model.Defaults.stop_words\r\n",
        "print(all_stopwords)\r\n"
      ],
      "execution_count": 3,
      "outputs": [
        {
          "output_type": "stream",
          "text": [
            "{'nevertheless', 'on', 'anyway', 'by', 'most', 'onto', 'fifteen', 'could', 'perhaps', 'itself', 'take', 'whom', 'n’t', 'afterwards', 'ever', 'should', 'nowhere', 'beforehand', 'beside', 'above', 'done', 'or', 'all', 'behind', 'eight', 'does', 'were', 'with', \"'ll\", 'into', \"'d\", 'otherwise', 'give', 'please', 'about', 'sixty', 'this', 'be', 'elsewhere', 'there', 'twenty', 'without', 'than', 'therein', 'being', 'from', 'twelve', 'whether', 'thru', 'how', 'name', 'well', 'until', 'somewhere', 'your', 'enough', '’ll', 'five', 'a', 'cannot', 'namely', \"'m\", 'own', \"'re\", 'ourselves', 'each', 'many', 'sometimes', 'herein', 'below', 'next', 'thereby', '’m', 'mine', 'wherein', 'becomes', 'over', 'one', 'him', 'in', 'every', 'their', 'three', 'while', '’s', 'not', 'along', 'towards', 'together', 'she', 'thence', 'since', 'thereafter', 'hundred', 'seemed', '‘s', 'also', 'part', 'eleven', 'becoming', 'must', 'unless', 'except', 'may', 'then', 'both', 'though', 'it', 'back', 'themselves', 'before', 'seem', 'often', 'more', 'such', 'an', 'else', 'top', 'last', 'six', 'up', 'nothing', 'few', 'can', 'make', 'anything', 'at', 'did', 'hence', 'empty', 'and', 'none', 'during', 'somehow', 'who', 'yourselves', 'third', 'is', 'former', 'myself', 'really', 'throughout', 'upon', 'whereby', 'became', 'between', 'just', 'them', 'very', 'fifty', 'everyone', 'become', 'hers', '’ve', 'that', 'too', 'call', 'as', 'yet', 'yours', '‘re', 'which', 'move', 'he', 'some', 'whither', 'has', 'whenever', 'thus', 'hereby', 'now', 'always', 'via', 'you', 'even', 'its', 'whereas', 'alone', 'seems', 'much', 'thereupon', 'various', 'why', 'rather', '’d', 'what', 'was', 'amount', 'hereafter', 'of', 'ours', 'me', 'would', 'nobody', 'any', 'front', 'our', 'regarding', 'to', 'us', 'something', 'whereupon', 'bottom', 'against', 'down', 'again', 'had', '‘ll', 'noone', 'here', 'latter', 'whatever', '’re', 'keep', 'where', 'quite', 'further', 'her', 'almost', 'my', 'made', 'put', 'using', 'for', 'within', 'although', 'see', 'around', 'however', 'less', '‘d', 'besides', 'himself', 'show', 'whereafter', 'beyond', 'i', 'out', 'serious', 'these', 'under', 'have', 'through', 'amongst', 'his', 'anyone', 'they', 're', 'ca', 'everywhere', 'therefore', 'am', 'after', 'are', 'once', 'someone', 'yourself', 'n‘t', '‘m', 'because', 'neither', 'others', 'been', 'first', 'sometime', 'everything', 'other', 'we', 'those', 'get', 'four', 'go', '‘ve', 'indeed', 'whole', 'the', 'nor', 'due', 'hereupon', 'still', 'across', 'among', 'full', 'say', 'anyhow', 'so', 'toward', 'but', 'only', 'least', 'another', 'moreover', 'whose', 'whence', 'already', 'when', \"'s\", 'meanwhile', 'several', 'forty', 'might', 'never', 'per', \"n't\", 'if', 'off', \"'ve\", 'herself', 'latterly', 'whoever', 'no', 'same', 'mostly', 'formerly', 'do', 'doing', 'either', 'seeming', 'used', 'wherever', 'ten', 'nine', 'two', 'will', 'anywhere', 'side'}\n"
          ],
          "name": "stdout"
        }
      ]
    },
    {
      "cell_type": "code",
      "metadata": {
        "id": "C2NrL9_vdjU_"
      },
      "source": [
        "for intent in intents['intents']:\r\n",
        "    for pattern in intent['patterns']:\r\n",
        "        #tokenize each word\r\n",
        "        tokens= en_lang_model(pattern)\r\n",
        "        l=[]\r\n",
        "        for i in tokens:\r\n",
        "             i=str(i)\r\n",
        "             l.append(i)\r\n",
        "        words.extend(l)\r\n",
        "        #add documents in the corpus\r\n",
        "        \r\n",
        "        documents.append((l, intent['tag']))\r\n",
        "\r\n",
        "        # add to our classes list\r\n",
        "        if intent['tag'] not in classes:\r\n",
        "            classes.append(intent['tag'])"
      ],
      "execution_count": 4,
      "outputs": []
    },
    {
      "cell_type": "code",
      "metadata": {
        "colab": {
          "base_uri": "https://localhost:8080/"
        },
        "id": "7q5U17jBUw-t",
        "outputId": "c15ef829-8cd3-4ab1-daae-7ebecbc79f25"
      },
      "source": [
        "for intent in intents['intents']:\r\n",
        "    k=intent['tag']\r\n",
        "    print(k)\r\n",
        "    "
      ],
      "execution_count": null,
      "outputs": [
        {
          "output_type": "stream",
          "text": [
            "greetings\n",
            "Bye\n",
            "order_food\n",
            "cancel_food\n",
            "edit_order\n",
            "add_menu\n",
            "remove_menu\n",
            "confirm_order\n",
            "food_item\n",
            "pizza_size\n",
            "Non-Veg Pizza\n",
            "Veg Pizza\n",
            "Beverages\n",
            "Slides\n"
          ],
          "name": "stdout"
        }
      ]
    },
    {
      "cell_type": "code",
      "metadata": {
        "colab": {
          "base_uri": "https://localhost:8080/"
        },
        "id": "TrfPd4OIfh26",
        "outputId": "1bcf7886-0953-4439-c2ac-88fd335e8b2d"
      },
      "source": [
        "print(words)\r\n",
        "print(documents)\r\n",
        "print(classes)"
      ],
      "execution_count": 5,
      "outputs": [
        {
          "output_type": "stream",
          "text": [
            "['Hello', 'Hi', 'Hey', 'Hi', 'there', 'Bye', 'See', 'you', 'later', 'Goodbye', 'Nice', 'chatting', 'to', 'you', ',', 'bye', 'Till', 'next', 'time', 'order', 'food', 'food', 'order', 'order', 'I', 'want', 'to', 'order', 'food', 'What', 'variety', 'of', 'foods', 'are', 'available', 'Is', 'food', 'available', 'Can', 'I', 'order', 'pizza', 'Are', 'veg', 'pizzas', 'available', 'Are', 'non', 'veg', 'pizzas', 'available', 'I', 'am', 'hungry', 'I', 'want', 'some', 'food', 'is', 'food', 'available', 'Can', 'I', 'view', 'the', 'menu', 'please', 'Menu', 'Menu', 'please', 'What', 'is', 'the', 'menu', 'What', 'can', 'i', 'order', 'Is', 'combo', 'available', 'Combo', 'please', 'Combo', 'What', 'is', 'today', \"'s\", 'menu', 'What', 'food', 'is', 'there', 'today', 'Is', 'food', 'there', 'Can', 'you', 'show', 'menu', 'Can', 'I', 'see', 'the', 'menu', 'What', 'have', 'you', 'got', 'What', 'can', 'I', 'get', 'Show', 'menu', 'Show', 'what', 'I', 'can', 'get', 'Menu', 'menu', 'I', 'am', 'hungry', 'cancel', 'the', 'order', 'cancel', 'order', 'cancel', 'cancle', 'I', 'want', 'to', 'edit', 'my', 'order', 'edit', 'order', 'edit', 'I', 'want', 'to', 'change', 'something', 'I', 'want', 'to', 'change', 'my', 'order', 'Can', 'I', 'edit', 'my', 'order', 'I', 'want', 'to', 'edit', 'Request', 'to', 'edit', 'add', 'add', 'item', 'add', 'items', 'remove', 'remove', 'items', 'remove', 'item', 'confirm', 'order', 'I', 'want', 'to', 'confirm', 'order', 'confirm', ' ', 'want', 'to', 'confirm', 'order', 'chicken', 'dominator', 'small', 'large', 'medium', 'Non', '-', 'veg', 'Pizza', 'Non', '-', 'Veg', 'pizzas', 'Non', '-', 'Veg', 'pizzas', 'please', 'Non', '-', 'Veg', 'pizza', 'please', 'Non', '-', 'Veg', 'Non', '-', 'Veg', 'please', 'nonveg', 'non', 'veg', 'veg', 'Pizza', 'Veg', 'pizzas', 'Veg', 'pizzas', 'please', 'Veg', 'pizza', 'please', 'Veg', 'Veg', 'please', 'Beverages', 'Beverage', 'Beverages', 'please', 'Beverage', 'please', 'Some', 'beverage', 'please', 'Some', 'beverages', 'please', 'Slides', 'Slide', 'Slides', 'please', 'Slide', 'please', 'Some', 'slide', 'please', 'Some', 'slides', 'please']\n",
            "[(['Hello'], 'greetings'), (['Hi'], 'greetings'), (['Hey'], 'greetings'), (['Hi', 'there'], 'greetings'), (['Bye'], 'Bye'), (['See', 'you', 'later'], 'Bye'), (['Goodbye'], 'Bye'), (['Nice', 'chatting', 'to', 'you', ',', 'bye'], 'Bye'), (['Till', 'next', 'time'], 'Bye'), (['order', 'food'], 'order_food'), (['food', 'order'], 'order_food'), (['order'], 'order_food'), (['I', 'want', 'to', 'order', 'food'], 'order_food'), (['What', 'variety', 'of', 'foods', 'are', 'available'], 'order_food'), (['Is', 'food', 'available'], 'order_food'), (['Can', 'I', 'order', 'pizza'], 'order_food'), (['Are', 'veg', 'pizzas', 'available'], 'order_food'), (['Are', 'non', 'veg', 'pizzas', 'available'], 'order_food'), (['I', 'am', 'hungry'], 'order_food'), (['I', 'want', 'some', 'food'], 'order_food'), (['is', 'food', 'available'], 'order_food'), (['Can', 'I', 'view', 'the', 'menu', 'please'], 'order_food'), (['Menu'], 'order_food'), (['Menu', 'please'], 'order_food'), (['What', 'is', 'the', 'menu'], 'order_food'), (['What', 'can', 'i', 'order'], 'order_food'), (['Is', 'combo', 'available'], 'order_food'), (['Combo', 'please'], 'order_food'), (['Combo'], 'order_food'), (['What', 'is', 'today', \"'s\", 'menu'], 'order_food'), (['What', 'food', 'is', 'there', 'today'], 'order_food'), (['Is', 'food', 'there'], 'order_food'), (['Can', 'you', 'show', 'menu'], 'order_food'), (['Can', 'I', 'see', 'the', 'menu'], 'order_food'), (['What', 'have', 'you', 'got'], 'order_food'), (['What', 'can', 'I', 'get'], 'order_food'), (['Show', 'menu'], 'order_food'), (['Show', 'what', 'I', 'can', 'get'], 'order_food'), (['Menu'], 'order_food'), (['menu'], 'order_food'), (['I', 'am', 'hungry'], 'order_food'), (['cancel', 'the', 'order'], 'cancel_food'), (['cancel', 'order'], 'cancel_food'), (['cancel'], 'cancel_food'), (['cancle'], 'cancel_food'), (['I', 'want', 'to', 'edit', 'my', 'order'], 'edit_order'), (['edit', 'order'], 'edit_order'), (['edit'], 'edit_order'), (['I', 'want', 'to', 'change', 'something'], 'edit_order'), (['I', 'want', 'to', 'change', 'my', 'order'], 'edit_order'), (['Can', 'I', 'edit', 'my', 'order'], 'edit_order'), (['I', 'want', 'to', 'edit'], 'edit_order'), (['Request', 'to', 'edit'], 'edit_order'), (['add'], 'add_menu'), (['add', 'item'], 'add_menu'), (['add', 'items'], 'add_menu'), (['remove'], 'remove_menu'), (['remove', 'items'], 'remove_menu'), (['remove', 'item'], 'remove_menu'), (['confirm', 'order'], 'confirm_order'), (['I', 'want', 'to', 'confirm', 'order'], 'confirm_order'), (['confirm'], 'confirm_order'), ([' ', 'want', 'to', 'confirm', 'order'], 'confirm_order'), (['chicken', 'dominator'], 'food_item'), (['small'], 'pizza_size'), (['large'], 'pizza_size'), (['medium'], 'pizza_size'), (['Non', '-', 'veg', 'Pizza'], 'Non-Veg Pizza'), (['Non', '-', 'Veg', 'pizzas'], 'Non-Veg Pizza'), (['Non', '-', 'Veg', 'pizzas', 'please'], 'Non-Veg Pizza'), (['Non', '-', 'Veg', 'pizza', 'please'], 'Non-Veg Pizza'), (['Non', '-', 'Veg'], 'Non-Veg Pizza'), (['Non', '-', 'Veg', 'please'], 'Non-Veg Pizza'), (['nonveg'], 'Non-Veg Pizza'), (['non', 'veg'], 'Non-Veg Pizza'), (['veg', 'Pizza'], 'Veg Pizza'), (['Veg', 'pizzas'], 'Veg Pizza'), (['Veg', 'pizzas', 'please'], 'Veg Pizza'), (['Veg', 'pizza', 'please'], 'Veg Pizza'), (['Veg'], 'Veg Pizza'), (['Veg', 'please'], 'Veg Pizza'), (['Beverages'], 'Beverages'), (['Beverage'], 'Beverages'), (['Beverages', 'please'], 'Beverages'), (['Beverage', 'please'], 'Beverages'), (['Some', 'beverage', 'please'], 'Beverages'), (['Some', 'beverages', 'please'], 'Beverages'), (['Slides'], 'Slides'), (['Slide'], 'Slides'), (['Slides', 'please'], 'Slides'), (['Slide', 'please'], 'Slides'), (['Some', 'slide', 'please'], 'Slides'), (['Some', 'slides', 'please'], 'Slides')]\n",
            "['greetings', 'Bye', 'order_food', 'cancel_food', 'edit_order', 'add_menu', 'remove_menu', 'confirm_order', 'food_item', 'pizza_size', 'Non-Veg Pizza', 'Veg Pizza', 'Beverages', 'Slides']\n"
          ],
          "name": "stdout"
        }
      ]
    },
    {
      "cell_type": "code",
      "metadata": {
        "id": "EfgWvBvdfxI0"
      },
      "source": [
        "#prepeocessing of the dataset\r\n",
        "#lemmatize each word(lower)\r\n",
        "#remove the duplicate words\r\n",
        "# neglecting the words (ingnore_words)\r\n",
        "words=[en_lang_model(w.lower())[0].lemma_  for w in words if w not in ignore_words]\r\n",
        "words=[ w for w in words if w not in all_stopwords]\r\n",
        "#sorting the words in alphabetical order\r\n",
        "words=sorted(list(set(words)))\r\n",
        "#sorting the categories in alphabetical order\r\n",
        "classes = sorted(list(set(classes)))"
      ],
      "execution_count": 6,
      "outputs": []
    },
    {
      "cell_type": "code",
      "metadata": {
        "id": "WZN42Fcmhyzw",
        "colab": {
          "base_uri": "https://localhost:8080/"
        },
        "outputId": "eaab0e2b-1340-43ec-ddae-2ee0af01d27a"
      },
      "source": [
        "print(words)\r\n"
      ],
      "execution_count": 7,
      "outputs": [
        {
          "output_type": "stream",
          "text": [
            "['-', '-PRON-', 'add', 'available', 'beverage', 'bye', 'cancel', 'cancle', 'change', 'chat', 'chicken', 'combo', 'confirm', 'dominator', 'edit', 'food', 'goodbye', 'hello', 'hey', 'hi', 'hungry', 'item', 'large', 'later', 'medium', 'menu', 'nice', 'non', 'nonveg', 'order', 'pizza', 'remove', 'request', 'slide', 'small', 'till', 'time', 'today', 'variety', 'veg', 'view', 'want']\n"
          ],
          "name": "stdout"
        }
      ]
    },
    {
      "cell_type": "code",
      "metadata": {
        "colab": {
          "base_uri": "https://localhost:8080/"
        },
        "id": "Js2nSwM_ibld",
        "outputId": "79b71fec-6f8a-4df1-d0fb-06606045a9f9"
      },
      "source": [
        "print(classes)"
      ],
      "execution_count": null,
      "outputs": [
        {
          "output_type": "stream",
          "text": [
            "['Beverages', 'Bye', 'Non-Veg Pizza', 'Slides', 'Veg Pizza', 'add_menu', 'cancel_food', 'confirm_order', 'edit_order', 'food_item', 'greetings', 'order_food', 'pizza_size', 'remove_menu']\n"
          ],
          "name": "stdout"
        }
      ]
    },
    {
      "cell_type": "code",
      "metadata": {
        "id": "-DKzzpVajEGU"
      },
      "source": [
        "pickle.dump(words,open('words.pkl','wb'))\r\n",
        "pickle.dump(classes,open('classes.pkl','wb'))"
      ],
      "execution_count": 8,
      "outputs": []
    },
    {
      "cell_type": "code",
      "metadata": {
        "colab": {
          "base_uri": "https://localhost:8080/"
        },
        "id": "0ziERjOLjIPF",
        "outputId": "dbd1c80d-4650-420f-b087-bfff77c278d1"
      },
      "source": [
        "#creating the training data\r\n",
        "#encoding technique\r\n",
        "# create our training data\r\n",
        "training = []\r\n",
        "# create an empty array for our output\r\n",
        "output_empty = [0] * len(classes)\r\n",
        "for doc in documents:\r\n",
        "    # initialize our bag of words\r\n",
        "    bag = []\r\n",
        "    # list of tokenized words for the pattern\r\n",
        "    pattern_words = doc[0]\r\n",
        "    # lemmatize each word - create base word, in attempt to represent related words\r\n",
        "    pattern_words = [en_lang_model(word.lower())[0].lemma_ for word in pattern_words]\r\n",
        "    # create our bag of words array with 1, if word match found in current pattern\r\n",
        "    for w in words:\r\n",
        "        bag.append(1) if w in pattern_words else bag.append(0)\r\n",
        "    \r\n",
        "    # output is a '0' for each tag and '1' for current tag (for each pattern)\r\n",
        "    output_row = list(output_empty)\r\n",
        "    output_row[classes.index(doc[1])] = 1\r\n",
        "    \r\n",
        "    training.append([bag, output_row])\r\n",
        "# shuffle our features and turn into np.array\r\n",
        "random.shuffle(training)\r\n",
        "training = np.array(training)\r\n",
        "# create train and test lists. X - patterns, Y - intents\r\n",
        "train_x = list(training[:,0])\r\n",
        "train_y = list(training[:,1])\r\n",
        "print(\"Training data created\")"
      ],
      "execution_count": 9,
      "outputs": [
        {
          "output_type": "stream",
          "text": [
            "Training data created\n"
          ],
          "name": "stdout"
        },
        {
          "output_type": "stream",
          "text": [
            "/usr/local/lib/python3.6/dist-packages/ipykernel_launcher.py:25: VisibleDeprecationWarning: Creating an ndarray from ragged nested sequences (which is a list-or-tuple of lists-or-tuples-or ndarrays with different lengths or shapes) is deprecated. If you meant to do this, you must specify 'dtype=object' when creating the ndarray\n"
          ],
          "name": "stderr"
        }
      ]
    },
    {
      "cell_type": "code",
      "metadata": {
        "colab": {
          "base_uri": "https://localhost:8080/"
        },
        "id": "fsHeiNu2rw_-",
        "outputId": "5dcaa9f1-e290-48b8-ea26-9fa88ef2e6bc"
      },
      "source": [
        "print(train_y)"
      ],
      "execution_count": null,
      "outputs": [
        {
          "output_type": "stream",
          "text": [
            "[[0, 0, 0, 0, 0, 0, 0, 0, 1, 0, 0, 0, 0, 0], [0, 0, 0, 0, 0, 0, 0, 0, 0, 0, 0, 0, 1, 0], [0, 0, 0, 0, 0, 0, 0, 0, 0, 0, 0, 1, 0, 0], [0, 0, 0, 0, 0, 0, 1, 0, 0, 0, 0, 0, 0, 0], [0, 0, 0, 0, 0, 0, 0, 0, 0, 0, 0, 0, 1, 0], [0, 0, 0, 0, 0, 0, 0, 0, 0, 0, 0, 1, 0, 0], [0, 0, 0, 0, 0, 0, 0, 0, 0, 0, 0, 1, 0, 0], [0, 0, 0, 0, 0, 0, 0, 0, 0, 0, 0, 1, 0, 0], [0, 0, 0, 0, 0, 0, 0, 0, 1, 0, 0, 0, 0, 0], [0, 0, 0, 0, 0, 0, 0, 0, 1, 0, 0, 0, 0, 0], [0, 0, 0, 0, 1, 0, 0, 0, 0, 0, 0, 0, 0, 0], [0, 0, 0, 0, 0, 0, 0, 0, 0, 0, 0, 1, 0, 0], [0, 0, 0, 0, 0, 0, 0, 0, 0, 0, 0, 1, 0, 0], [0, 0, 0, 0, 1, 0, 0, 0, 0, 0, 0, 0, 0, 0], [0, 1, 0, 0, 0, 0, 0, 0, 0, 0, 0, 0, 0, 0], [0, 0, 0, 0, 0, 0, 0, 1, 0, 0, 0, 0, 0, 0], [0, 0, 0, 0, 0, 0, 0, 0, 1, 0, 0, 0, 0, 0], [0, 0, 0, 1, 0, 0, 0, 0, 0, 0, 0, 0, 0, 0], [0, 0, 0, 0, 0, 0, 0, 0, 0, 0, 0, 1, 0, 0], [0, 0, 0, 0, 0, 0, 0, 0, 0, 0, 0, 1, 0, 0], [0, 0, 0, 0, 0, 0, 0, 0, 0, 0, 0, 1, 0, 0], [0, 0, 0, 0, 0, 0, 0, 0, 0, 0, 0, 1, 0, 0], [0, 0, 0, 0, 0, 0, 0, 0, 0, 0, 0, 1, 0, 0], [0, 1, 0, 0, 0, 0, 0, 0, 0, 0, 0, 0, 0, 0], [0, 0, 0, 0, 0, 0, 0, 0, 0, 0, 0, 1, 0, 0], [0, 0, 0, 0, 0, 1, 0, 0, 0, 0, 0, 0, 0, 0], [0, 0, 0, 0, 0, 0, 0, 1, 0, 0, 0, 0, 0, 0], [1, 0, 0, 0, 0, 0, 0, 0, 0, 0, 0, 0, 0, 0], [0, 0, 0, 0, 0, 0, 0, 0, 0, 0, 0, 1, 0, 0], [1, 0, 0, 0, 0, 0, 0, 0, 0, 0, 0, 0, 0, 0], [0, 0, 0, 0, 0, 0, 0, 0, 0, 0, 0, 1, 0, 0], [0, 0, 0, 0, 0, 0, 0, 0, 0, 0, 0, 1, 0, 0], [0, 0, 0, 0, 0, 0, 0, 0, 0, 0, 0, 1, 0, 0], [0, 0, 0, 0, 0, 0, 0, 0, 0, 0, 0, 1, 0, 0], [0, 0, 0, 0, 0, 0, 0, 0, 0, 0, 0, 1, 0, 0], [0, 0, 0, 0, 0, 0, 0, 0, 0, 0, 0, 1, 0, 0], [0, 0, 0, 0, 0, 0, 0, 0, 0, 0, 0, 0, 0, 1], [0, 0, 1, 0, 0, 0, 0, 0, 0, 0, 0, 0, 0, 0], [0, 0, 0, 0, 0, 0, 0, 0, 0, 0, 0, 0, 1, 0], [0, 0, 0, 0, 1, 0, 0, 0, 0, 0, 0, 0, 0, 0], [0, 0, 0, 0, 0, 0, 0, 0, 0, 0, 0, 1, 0, 0], [0, 1, 0, 0, 0, 0, 0, 0, 0, 0, 0, 0, 0, 0], [0, 0, 0, 0, 0, 1, 0, 0, 0, 0, 0, 0, 0, 0], [0, 0, 0, 0, 0, 0, 0, 0, 0, 0, 0, 1, 0, 0], [0, 0, 0, 0, 0, 0, 0, 0, 0, 0, 0, 1, 0, 0], [0, 0, 1, 0, 0, 0, 0, 0, 0, 0, 0, 0, 0, 0], [0, 0, 0, 0, 0, 0, 0, 0, 0, 0, 0, 1, 0, 0], [0, 0, 0, 0, 0, 0, 0, 0, 0, 0, 0, 1, 0, 0], [0, 0, 0, 0, 0, 0, 0, 0, 0, 0, 0, 1, 0, 0], [0, 0, 0, 0, 0, 0, 0, 0, 1, 0, 0, 0, 0, 0], [0, 0, 0, 0, 0, 0, 0, 0, 1, 0, 0, 0, 0, 0], [0, 0, 0, 0, 0, 0, 0, 0, 0, 0, 1, 0, 0, 0], [0, 0, 0, 1, 0, 0, 0, 0, 0, 0, 0, 0, 0, 0], [0, 0, 0, 0, 0, 0, 0, 0, 0, 0, 0, 1, 0, 0], [0, 0, 0, 0, 0, 0, 0, 0, 0, 0, 0, 1, 0, 0], [1, 0, 0, 0, 0, 0, 0, 0, 0, 0, 0, 0, 0, 0], [0, 0, 0, 0, 1, 0, 0, 0, 0, 0, 0, 0, 0, 0], [0, 0, 0, 0, 0, 0, 0, 0, 0, 0, 0, 1, 0, 0], [0, 0, 0, 0, 0, 0, 0, 0, 0, 0, 0, 1, 0, 0], [0, 0, 0, 0, 0, 0, 0, 0, 0, 0, 1, 0, 0, 0], [0, 0, 0, 1, 0, 0, 0, 0, 0, 0, 0, 0, 0, 0], [0, 0, 0, 0, 0, 0, 0, 0, 0, 0, 0, 1, 0, 0], [0, 0, 0, 0, 0, 0, 0, 0, 0, 0, 0, 1, 0, 0], [0, 0, 0, 0, 0, 0, 0, 0, 1, 0, 0, 0, 0, 0], [0, 0, 0, 0, 0, 0, 0, 0, 0, 0, 0, 1, 0, 0], [0, 0, 0, 0, 0, 0, 0, 0, 0, 0, 0, 1, 0, 0], [0, 0, 0, 0, 0, 0, 1, 0, 0, 0, 0, 0, 0, 0], [0, 0, 0, 0, 0, 0, 0, 1, 0, 0, 0, 0, 0, 0], [1, 0, 0, 0, 0, 0, 0, 0, 0, 0, 0, 0, 0, 0], [0, 0, 0, 0, 0, 0, 1, 0, 0, 0, 0, 0, 0, 0], [0, 0, 0, 0, 0, 0, 0, 0, 0, 0, 0, 1, 0, 0], [0, 0, 1, 0, 0, 0, 0, 0, 0, 0, 0, 0, 0, 0], [0, 0, 0, 1, 0, 0, 0, 0, 0, 0, 0, 0, 0, 0], [0, 0, 0, 0, 0, 0, 0, 0, 0, 0, 0, 1, 0, 0], [1, 0, 0, 0, 0, 0, 0, 0, 0, 0, 0, 0, 0, 0], [0, 0, 0, 0, 0, 0, 0, 0, 0, 0, 0, 1, 0, 0], [0, 0, 1, 0, 0, 0, 0, 0, 0, 0, 0, 0, 0, 0], [0, 0, 0, 0, 0, 0, 0, 0, 0, 0, 0, 1, 0, 0], [0, 0, 0, 1, 0, 0, 0, 0, 0, 0, 0, 0, 0, 0], [0, 0, 0, 0, 0, 0, 0, 0, 0, 0, 0, 1, 0, 0], [0, 0, 0, 0, 0, 0, 0, 0, 0, 0, 0, 1, 0, 0], [0, 0, 0, 0, 0, 0, 0, 0, 0, 0, 0, 1, 0, 0], [0, 0, 0, 0, 0, 0, 0, 0, 0, 1, 0, 0, 0, 0], [0, 0, 0, 0, 1, 0, 0, 0, 0, 0, 0, 0, 0, 0], [0, 0, 0, 0, 0, 0, 1, 0, 0, 0, 0, 0, 0, 0], [0, 0, 1, 0, 0, 0, 0, 0, 0, 0, 0, 0, 0, 0], [0, 0, 0, 0, 1, 0, 0, 0, 0, 0, 0, 0, 0, 0], [0, 0, 0, 0, 0, 0, 0, 1, 0, 0, 0, 0, 0, 0], [0, 0, 0, 0, 0, 0, 0, 0, 1, 0, 0, 0, 0, 0], [0, 0, 0, 0, 0, 0, 0, 0, 0, 0, 0, 1, 0, 0], [0, 1, 0, 0, 0, 0, 0, 0, 0, 0, 0, 0, 0, 0], [0, 0, 0, 0, 0, 0, 0, 0, 0, 0, 1, 0, 0, 0], [0, 0, 0, 0, 0, 0, 0, 0, 0, 0, 0, 1, 0, 0], [0, 0, 0, 0, 0, 0, 0, 0, 0, 0, 0, 0, 0, 1], [0, 0, 0, 0, 0, 0, 0, 0, 0, 0, 0, 1, 0, 0], [0, 1, 0, 0, 0, 0, 0, 0, 0, 0, 0, 0, 0, 0], [0, 0, 0, 0, 0, 1, 0, 0, 0, 0, 0, 0, 0, 0], [0, 0, 0, 0, 0, 0, 0, 0, 0, 0, 1, 0, 0, 0], [0, 0, 0, 0, 0, 0, 0, 0, 0, 0, 0, 1, 0, 0], [1, 0, 0, 0, 0, 0, 0, 0, 0, 0, 0, 0, 0, 0], [0, 0, 0, 1, 0, 0, 0, 0, 0, 0, 0, 0, 0, 0], [0, 0, 1, 0, 0, 0, 0, 0, 0, 0, 0, 0, 0, 0], [0, 0, 0, 0, 0, 0, 0, 0, 0, 0, 0, 0, 0, 1]]\n"
          ],
          "name": "stdout"
        }
      ]
    },
    {
      "cell_type": "code",
      "metadata": {
        "id": "EiA_tfRSr8b1",
        "colab": {
          "base_uri": "https://localhost:8080/"
        },
        "outputId": "674ab6e1-c977-47e3-a0b2-6f435873f8a4"
      },
      "source": [
        "model =Sequential()\r\n",
        "model.add(Dense(256, input_shape=(len(train_x[0]),), activation='relu'))\r\n",
        "model.add(Dropout(0.5))\r\n",
        "model.add(Dense(128, activation='relu'))\r\n",
        "model.add(Dropout(0.5))\r\n",
        "model.add(Dense(64, activation='relu'))\r\n",
        "model.add(Dense(len(train_y[0]), activation='softmax'))\r\n",
        "\r\n",
        "# Compile model. Stochastic gradient descent with Nesterov accelerated gradient gives good results for this model\r\n",
        "sgd = SGD(lr=0.01, decay=1e-6, momentum=0.9, nesterov=True)\r\n",
        "model.compile(loss='categorical_crossentropy', optimizer=sgd, metrics=['accuracy'])\r\n",
        "\r\n",
        "#fitting and saving the model \r\n",
        "hist = model.fit(np.array(train_x), np.array(train_y), epochs=200, batch_size=5, verbose=1)\r\n",
        "model.save('chatbot_3.h5', hist)\r\n",
        "\r\n",
        "print(\"model created\")"
      ],
      "execution_count": 11,
      "outputs": [
        {
          "output_type": "stream",
          "text": [
            "Epoch 1/200\n",
            "93/93 [==============================] - 0s 1ms/step - loss: 2.5643 - accuracy: 0.1828\n",
            "Epoch 2/200\n",
            "93/93 [==============================] - 0s 362us/step - loss: 2.3016 - accuracy: 0.3441\n",
            "Epoch 3/200\n",
            "93/93 [==============================] - 0s 389us/step - loss: 2.2114 - accuracy: 0.3441\n",
            "Epoch 4/200\n",
            "93/93 [==============================] - 0s 349us/step - loss: 2.0397 - accuracy: 0.3656\n",
            "Epoch 5/200\n",
            "93/93 [==============================] - 0s 359us/step - loss: 1.8685 - accuracy: 0.4409\n",
            "Epoch 6/200\n",
            "93/93 [==============================] - 0s 341us/step - loss: 1.7252 - accuracy: 0.4301\n",
            "Epoch 7/200\n",
            "93/93 [==============================] - 0s 342us/step - loss: 1.5433 - accuracy: 0.4839\n",
            "Epoch 8/200\n",
            "93/93 [==============================] - 0s 341us/step - loss: 1.4278 - accuracy: 0.5484\n",
            "Epoch 9/200\n",
            "93/93 [==============================] - 0s 318us/step - loss: 1.2818 - accuracy: 0.5591\n",
            "Epoch 10/200\n",
            "93/93 [==============================] - 0s 335us/step - loss: 1.1713 - accuracy: 0.6667\n",
            "Epoch 11/200\n",
            "93/93 [==============================] - 0s 358us/step - loss: 0.9588 - accuracy: 0.7419\n",
            "Epoch 12/200\n",
            "93/93 [==============================] - 0s 341us/step - loss: 0.8474 - accuracy: 0.7419\n",
            "Epoch 13/200\n",
            "93/93 [==============================] - 0s 333us/step - loss: 0.7372 - accuracy: 0.7634\n",
            "Epoch 14/200\n",
            "93/93 [==============================] - 0s 348us/step - loss: 0.8575 - accuracy: 0.7204\n",
            "Epoch 15/200\n",
            "93/93 [==============================] - 0s 330us/step - loss: 0.7742 - accuracy: 0.7312\n",
            "Epoch 16/200\n",
            "93/93 [==============================] - 0s 350us/step - loss: 0.6424 - accuracy: 0.8495\n",
            "Epoch 17/200\n",
            "93/93 [==============================] - 0s 370us/step - loss: 0.5603 - accuracy: 0.8387\n",
            "Epoch 18/200\n",
            "93/93 [==============================] - 0s 355us/step - loss: 0.4596 - accuracy: 0.9140\n",
            "Epoch 19/200\n",
            "93/93 [==============================] - 0s 358us/step - loss: 0.3814 - accuracy: 0.9247\n",
            "Epoch 20/200\n",
            "93/93 [==============================] - 0s 427us/step - loss: 0.4866 - accuracy: 0.9140\n",
            "Epoch 21/200\n",
            "93/93 [==============================] - 0s 347us/step - loss: 0.3747 - accuracy: 0.8817\n",
            "Epoch 22/200\n",
            "93/93 [==============================] - 0s 337us/step - loss: 0.3636 - accuracy: 0.8710\n",
            "Epoch 23/200\n",
            "93/93 [==============================] - 0s 333us/step - loss: 0.2548 - accuracy: 0.9140\n",
            "Epoch 24/200\n",
            "93/93 [==============================] - 0s 336us/step - loss: 0.3190 - accuracy: 0.9032\n",
            "Epoch 25/200\n",
            "93/93 [==============================] - 0s 323us/step - loss: 0.1639 - accuracy: 0.9785\n",
            "Epoch 26/200\n",
            "93/93 [==============================] - 0s 329us/step - loss: 0.2105 - accuracy: 0.9462\n",
            "Epoch 27/200\n",
            "93/93 [==============================] - 0s 344us/step - loss: 0.2335 - accuracy: 0.9140\n",
            "Epoch 28/200\n",
            "93/93 [==============================] - 0s 346us/step - loss: 0.1627 - accuracy: 0.9677\n",
            "Epoch 29/200\n",
            "93/93 [==============================] - 0s 320us/step - loss: 0.1477 - accuracy: 0.9677\n",
            "Epoch 30/200\n",
            "93/93 [==============================] - 0s 336us/step - loss: 0.1241 - accuracy: 0.9892\n",
            "Epoch 31/200\n",
            "93/93 [==============================] - 0s 376us/step - loss: 0.0950 - accuracy: 0.9785\n",
            "Epoch 32/200\n",
            "93/93 [==============================] - 0s 406us/step - loss: 0.1279 - accuracy: 0.9677\n",
            "Epoch 33/200\n",
            "93/93 [==============================] - 0s 450us/step - loss: 0.1309 - accuracy: 0.9677\n",
            "Epoch 34/200\n",
            "93/93 [==============================] - 0s 404us/step - loss: 0.0967 - accuracy: 0.9785\n",
            "Epoch 35/200\n",
            "93/93 [==============================] - 0s 361us/step - loss: 0.1669 - accuracy: 0.9355\n",
            "Epoch 36/200\n",
            "93/93 [==============================] - 0s 343us/step - loss: 0.1350 - accuracy: 0.9462\n",
            "Epoch 37/200\n",
            "93/93 [==============================] - 0s 346us/step - loss: 0.1191 - accuracy: 0.9892\n",
            "Epoch 38/200\n",
            "93/93 [==============================] - 0s 338us/step - loss: 0.0836 - accuracy: 0.9892\n",
            "Epoch 39/200\n",
            "93/93 [==============================] - 0s 335us/step - loss: 0.1347 - accuracy: 0.9570\n",
            "Epoch 40/200\n",
            "93/93 [==============================] - 0s 324us/step - loss: 0.1248 - accuracy: 0.9462\n",
            "Epoch 41/200\n",
            "93/93 [==============================] - 0s 362us/step - loss: 0.1006 - accuracy: 0.9677\n",
            "Epoch 42/200\n",
            "93/93 [==============================] - 0s 339us/step - loss: 0.0488 - accuracy: 0.9892\n",
            "Epoch 43/200\n",
            "93/93 [==============================] - 0s 327us/step - loss: 0.0909 - accuracy: 0.9892\n",
            "Epoch 44/200\n",
            "93/93 [==============================] - 0s 421us/step - loss: 0.0539 - accuracy: 0.9892\n",
            "Epoch 45/200\n",
            "93/93 [==============================] - 0s 367us/step - loss: 0.0566 - accuracy: 0.9892\n",
            "Epoch 46/200\n",
            "93/93 [==============================] - 0s 389us/step - loss: 0.0734 - accuracy: 0.9892\n",
            "Epoch 47/200\n",
            "93/93 [==============================] - 0s 378us/step - loss: 0.0570 - accuracy: 0.9892\n",
            "Epoch 48/200\n",
            "93/93 [==============================] - 0s 365us/step - loss: 0.0532 - accuracy: 0.9892\n",
            "Epoch 49/200\n",
            "93/93 [==============================] - 0s 317us/step - loss: 0.0683 - accuracy: 0.9677\n",
            "Epoch 50/200\n",
            "93/93 [==============================] - 0s 335us/step - loss: 0.0557 - accuracy: 0.9892\n",
            "Epoch 51/200\n",
            "93/93 [==============================] - 0s 352us/step - loss: 0.0537 - accuracy: 0.9892\n",
            "Epoch 52/200\n",
            "93/93 [==============================] - 0s 332us/step - loss: 0.0561 - accuracy: 0.9785\n",
            "Epoch 53/200\n",
            "93/93 [==============================] - 0s 395us/step - loss: 0.0316 - accuracy: 1.0000\n",
            "Epoch 54/200\n",
            "93/93 [==============================] - 0s 370us/step - loss: 0.0455 - accuracy: 0.9892\n",
            "Epoch 55/200\n",
            "93/93 [==============================] - 0s 362us/step - loss: 0.0224 - accuracy: 1.0000\n",
            "Epoch 56/200\n",
            "93/93 [==============================] - 0s 344us/step - loss: 0.0225 - accuracy: 1.0000\n",
            "Epoch 57/200\n",
            "93/93 [==============================] - 0s 480us/step - loss: 0.0135 - accuracy: 1.0000\n",
            "Epoch 58/200\n",
            "93/93 [==============================] - 0s 333us/step - loss: 0.0117 - accuracy: 1.0000\n",
            "Epoch 59/200\n",
            "93/93 [==============================] - 0s 363us/step - loss: 0.0157 - accuracy: 1.0000\n",
            "Epoch 60/200\n",
            "93/93 [==============================] - 0s 387us/step - loss: 0.0192 - accuracy: 1.0000\n",
            "Epoch 61/200\n",
            "93/93 [==============================] - 0s 408us/step - loss: 0.0285 - accuracy: 1.0000\n",
            "Epoch 62/200\n",
            "93/93 [==============================] - 0s 348us/step - loss: 0.0359 - accuracy: 0.9892\n",
            "Epoch 63/200\n",
            "93/93 [==============================] - 0s 408us/step - loss: 0.0444 - accuracy: 0.9785\n",
            "Epoch 64/200\n",
            "93/93 [==============================] - 0s 356us/step - loss: 0.0376 - accuracy: 0.9892\n",
            "Epoch 65/200\n",
            "93/93 [==============================] - 0s 392us/step - loss: 0.0479 - accuracy: 0.9892\n",
            "Epoch 66/200\n",
            "93/93 [==============================] - 0s 343us/step - loss: 0.0392 - accuracy: 1.0000\n",
            "Epoch 67/200\n",
            "93/93 [==============================] - 0s 365us/step - loss: 0.0172 - accuracy: 1.0000\n",
            "Epoch 68/200\n",
            "93/93 [==============================] - 0s 368us/step - loss: 0.0238 - accuracy: 0.9892\n",
            "Epoch 69/200\n",
            "93/93 [==============================] - 0s 340us/step - loss: 0.0294 - accuracy: 1.0000\n",
            "Epoch 70/200\n",
            "93/93 [==============================] - 0s 341us/step - loss: 0.0160 - accuracy: 1.0000\n",
            "Epoch 71/200\n",
            "93/93 [==============================] - 0s 406us/step - loss: 0.0434 - accuracy: 0.9892\n",
            "Epoch 72/200\n",
            "93/93 [==============================] - 0s 326us/step - loss: 0.0342 - accuracy: 0.9892\n",
            "Epoch 73/200\n",
            "93/93 [==============================] - 0s 354us/step - loss: 0.0496 - accuracy: 0.9892\n",
            "Epoch 74/200\n",
            "93/93 [==============================] - 0s 341us/step - loss: 0.0235 - accuracy: 1.0000\n",
            "Epoch 75/200\n",
            "93/93 [==============================] - 0s 346us/step - loss: 0.0180 - accuracy: 0.9892\n",
            "Epoch 76/200\n",
            "93/93 [==============================] - 0s 318us/step - loss: 0.0094 - accuracy: 1.0000\n",
            "Epoch 77/200\n",
            "93/93 [==============================] - 0s 347us/step - loss: 0.0184 - accuracy: 1.0000\n",
            "Epoch 78/200\n",
            "93/93 [==============================] - 0s 332us/step - loss: 0.0285 - accuracy: 1.0000\n",
            "Epoch 79/200\n",
            "93/93 [==============================] - 0s 361us/step - loss: 0.0222 - accuracy: 0.9892\n",
            "Epoch 80/200\n",
            "93/93 [==============================] - 0s 356us/step - loss: 0.0195 - accuracy: 1.0000\n",
            "Epoch 81/200\n",
            "93/93 [==============================] - 0s 353us/step - loss: 0.0095 - accuracy: 1.0000\n",
            "Epoch 82/200\n",
            "93/93 [==============================] - 0s 383us/step - loss: 0.0099 - accuracy: 1.0000\n",
            "Epoch 83/200\n",
            "93/93 [==============================] - 0s 379us/step - loss: 0.0064 - accuracy: 1.0000\n",
            "Epoch 84/200\n",
            "93/93 [==============================] - 0s 394us/step - loss: 0.0184 - accuracy: 1.0000\n",
            "Epoch 85/200\n",
            "93/93 [==============================] - 0s 408us/step - loss: 0.0197 - accuracy: 1.0000\n",
            "Epoch 86/200\n",
            "93/93 [==============================] - 0s 321us/step - loss: 0.0468 - accuracy: 1.0000\n",
            "Epoch 87/200\n",
            "93/93 [==============================] - 0s 343us/step - loss: 0.0143 - accuracy: 1.0000\n",
            "Epoch 88/200\n",
            "93/93 [==============================] - 0s 338us/step - loss: 0.0114 - accuracy: 1.0000\n",
            "Epoch 89/200\n",
            "93/93 [==============================] - 0s 320us/step - loss: 0.0200 - accuracy: 1.0000\n",
            "Epoch 90/200\n",
            "93/93 [==============================] - 0s 320us/step - loss: 0.0055 - accuracy: 1.0000\n",
            "Epoch 91/200\n",
            "93/93 [==============================] - 0s 356us/step - loss: 0.0134 - accuracy: 1.0000\n",
            "Epoch 92/200\n",
            "93/93 [==============================] - 0s 359us/step - loss: 0.0114 - accuracy: 1.0000\n",
            "Epoch 93/200\n",
            "93/93 [==============================] - 0s 317us/step - loss: 0.0239 - accuracy: 0.9892\n",
            "Epoch 94/200\n",
            "93/93 [==============================] - 0s 402us/step - loss: 0.0051 - accuracy: 1.0000\n",
            "Epoch 95/200\n",
            "93/93 [==============================] - 0s 369us/step - loss: 0.0398 - accuracy: 0.9892\n",
            "Epoch 96/200\n",
            "93/93 [==============================] - 0s 388us/step - loss: 0.0051 - accuracy: 1.0000\n",
            "Epoch 97/200\n",
            "93/93 [==============================] - 0s 390us/step - loss: 0.0211 - accuracy: 0.9892\n",
            "Epoch 98/200\n",
            "93/93 [==============================] - 0s 342us/step - loss: 0.0089 - accuracy: 1.0000\n",
            "Epoch 99/200\n",
            "93/93 [==============================] - 0s 361us/step - loss: 0.0086 - accuracy: 1.0000\n",
            "Epoch 100/200\n",
            "93/93 [==============================] - 0s 320us/step - loss: 0.0032 - accuracy: 1.0000\n",
            "Epoch 101/200\n",
            "93/93 [==============================] - 0s 361us/step - loss: 0.0070 - accuracy: 1.0000\n",
            "Epoch 102/200\n",
            "93/93 [==============================] - 0s 340us/step - loss: 0.0051 - accuracy: 1.0000\n",
            "Epoch 103/200\n",
            "93/93 [==============================] - 0s 333us/step - loss: 0.0036 - accuracy: 1.0000\n",
            "Epoch 104/200\n",
            "93/93 [==============================] - 0s 371us/step - loss: 0.0066 - accuracy: 1.0000\n",
            "Epoch 105/200\n",
            "93/93 [==============================] - 0s 341us/step - loss: 0.0024 - accuracy: 1.0000\n",
            "Epoch 106/200\n",
            "93/93 [==============================] - 0s 464us/step - loss: 0.0099 - accuracy: 1.0000\n",
            "Epoch 107/200\n",
            "93/93 [==============================] - 0s 322us/step - loss: 0.0063 - accuracy: 1.0000\n",
            "Epoch 108/200\n",
            "93/93 [==============================] - 0s 352us/step - loss: 0.0109 - accuracy: 1.0000\n",
            "Epoch 109/200\n",
            "93/93 [==============================] - 0s 353us/step - loss: 0.0134 - accuracy: 0.9892\n",
            "Epoch 110/200\n",
            "93/93 [==============================] - 0s 384us/step - loss: 0.0092 - accuracy: 1.0000\n",
            "Epoch 111/200\n",
            "93/93 [==============================] - 0s 430us/step - loss: 0.0238 - accuracy: 1.0000\n",
            "Epoch 112/200\n",
            "93/93 [==============================] - 0s 360us/step - loss: 0.0053 - accuracy: 1.0000\n",
            "Epoch 113/200\n",
            "93/93 [==============================] - 0s 356us/step - loss: 0.0176 - accuracy: 0.9892\n",
            "Epoch 114/200\n",
            "93/93 [==============================] - 0s 348us/step - loss: 0.0043 - accuracy: 1.0000\n",
            "Epoch 115/200\n",
            "93/93 [==============================] - 0s 394us/step - loss: 0.0026 - accuracy: 1.0000\n",
            "Epoch 116/200\n",
            "93/93 [==============================] - 0s 354us/step - loss: 0.0104 - accuracy: 1.0000\n",
            "Epoch 117/200\n",
            "93/93 [==============================] - 0s 334us/step - loss: 0.0113 - accuracy: 1.0000\n",
            "Epoch 118/200\n",
            "93/93 [==============================] - 0s 362us/step - loss: 0.0025 - accuracy: 1.0000\n",
            "Epoch 119/200\n",
            "93/93 [==============================] - 0s 356us/step - loss: 0.0159 - accuracy: 1.0000\n",
            "Epoch 120/200\n",
            "93/93 [==============================] - 0s 385us/step - loss: 0.0085 - accuracy: 1.0000\n",
            "Epoch 121/200\n",
            "93/93 [==============================] - 0s 383us/step - loss: 0.0222 - accuracy: 0.9892\n",
            "Epoch 122/200\n",
            "93/93 [==============================] - 0s 390us/step - loss: 0.0206 - accuracy: 0.9892\n",
            "Epoch 123/200\n",
            "93/93 [==============================] - 0s 420us/step - loss: 0.0033 - accuracy: 1.0000\n",
            "Epoch 124/200\n",
            "93/93 [==============================] - 0s 458us/step - loss: 0.0100 - accuracy: 1.0000\n",
            "Epoch 125/200\n",
            "93/93 [==============================] - 0s 417us/step - loss: 0.0273 - accuracy: 0.9892\n",
            "Epoch 126/200\n",
            "93/93 [==============================] - 0s 391us/step - loss: 0.0029 - accuracy: 1.0000\n",
            "Epoch 127/200\n",
            "93/93 [==============================] - 0s 421us/step - loss: 0.0160 - accuracy: 1.0000\n",
            "Epoch 128/200\n",
            "93/93 [==============================] - 0s 391us/step - loss: 0.0023 - accuracy: 1.0000\n",
            "Epoch 129/200\n",
            "93/93 [==============================] - 0s 414us/step - loss: 0.0112 - accuracy: 1.0000\n",
            "Epoch 130/200\n",
            "93/93 [==============================] - 0s 377us/step - loss: 0.0069 - accuracy: 1.0000\n",
            "Epoch 131/200\n",
            "93/93 [==============================] - 0s 352us/step - loss: 0.0087 - accuracy: 1.0000\n",
            "Epoch 132/200\n",
            "93/93 [==============================] - 0s 391us/step - loss: 0.0021 - accuracy: 1.0000\n",
            "Epoch 133/200\n",
            "93/93 [==============================] - 0s 453us/step - loss: 0.0018 - accuracy: 1.0000\n",
            "Epoch 134/200\n",
            "93/93 [==============================] - 0s 407us/step - loss: 0.0048 - accuracy: 1.0000\n",
            "Epoch 135/200\n",
            "93/93 [==============================] - 0s 354us/step - loss: 0.0031 - accuracy: 1.0000\n",
            "Epoch 136/200\n",
            "93/93 [==============================] - 0s 439us/step - loss: 0.0090 - accuracy: 1.0000\n",
            "Epoch 137/200\n",
            "93/93 [==============================] - 0s 331us/step - loss: 0.0015 - accuracy: 1.0000\n",
            "Epoch 138/200\n",
            "93/93 [==============================] - 0s 354us/step - loss: 0.0013 - accuracy: 1.0000\n",
            "Epoch 139/200\n",
            "93/93 [==============================] - 0s 438us/step - loss: 0.0022 - accuracy: 1.0000\n",
            "Epoch 140/200\n",
            "93/93 [==============================] - 0s 372us/step - loss: 0.0029 - accuracy: 1.0000\n",
            "Epoch 141/200\n",
            "93/93 [==============================] - 0s 484us/step - loss: 0.0087 - accuracy: 1.0000\n",
            "Epoch 142/200\n",
            "93/93 [==============================] - 0s 351us/step - loss: 0.0015 - accuracy: 1.0000\n",
            "Epoch 143/200\n",
            "93/93 [==============================] - 0s 340us/step - loss: 0.0121 - accuracy: 0.9892\n",
            "Epoch 144/200\n",
            "93/93 [==============================] - 0s 392us/step - loss: 0.0648 - accuracy: 0.9785\n",
            "Epoch 145/200\n",
            "93/93 [==============================] - 0s 420us/step - loss: 0.0094 - accuracy: 1.0000\n",
            "Epoch 146/200\n",
            "93/93 [==============================] - 0s 357us/step - loss: 0.0322 - accuracy: 0.9892\n",
            "Epoch 147/200\n",
            "93/93 [==============================] - 0s 336us/step - loss: 0.0051 - accuracy: 1.0000\n",
            "Epoch 148/200\n",
            "93/93 [==============================] - 0s 330us/step - loss: 0.0095 - accuracy: 1.0000\n",
            "Epoch 149/200\n",
            "93/93 [==============================] - 0s 359us/step - loss: 0.0051 - accuracy: 1.0000\n",
            "Epoch 150/200\n",
            "93/93 [==============================] - 0s 325us/step - loss: 0.0088 - accuracy: 1.0000\n",
            "Epoch 151/200\n",
            "93/93 [==============================] - 0s 330us/step - loss: 0.0106 - accuracy: 0.9892\n",
            "Epoch 152/200\n",
            "93/93 [==============================] - 0s 334us/step - loss: 0.0067 - accuracy: 1.0000\n",
            "Epoch 153/200\n",
            "93/93 [==============================] - 0s 372us/step - loss: 0.0108 - accuracy: 1.0000\n",
            "Epoch 154/200\n",
            "93/93 [==============================] - 0s 364us/step - loss: 0.0218 - accuracy: 0.9892\n",
            "Epoch 155/200\n",
            "93/93 [==============================] - 0s 379us/step - loss: 0.0084 - accuracy: 1.0000\n",
            "Epoch 156/200\n",
            "93/93 [==============================] - 0s 355us/step - loss: 0.0105 - accuracy: 1.0000\n",
            "Epoch 157/200\n",
            "93/93 [==============================] - 0s 316us/step - loss: 0.0087 - accuracy: 1.0000\n",
            "Epoch 158/200\n",
            "93/93 [==============================] - 0s 333us/step - loss: 0.0111 - accuracy: 1.0000\n",
            "Epoch 159/200\n",
            "93/93 [==============================] - 0s 335us/step - loss: 0.0182 - accuracy: 1.0000\n",
            "Epoch 160/200\n",
            "93/93 [==============================] - 0s 376us/step - loss: 0.0072 - accuracy: 1.0000\n",
            "Epoch 161/200\n",
            "93/93 [==============================] - 0s 354us/step - loss: 0.0025 - accuracy: 1.0000\n",
            "Epoch 162/200\n",
            "93/93 [==============================] - 0s 356us/step - loss: 0.0414 - accuracy: 0.9892\n",
            "Epoch 163/200\n",
            "93/93 [==============================] - 0s 446us/step - loss: 0.0244 - accuracy: 1.0000\n",
            "Epoch 164/200\n",
            "93/93 [==============================] - 0s 333us/step - loss: 0.0505 - accuracy: 0.9677\n",
            "Epoch 165/200\n",
            "93/93 [==============================] - 0s 337us/step - loss: 0.0015 - accuracy: 1.0000\n",
            "Epoch 166/200\n",
            "93/93 [==============================] - 0s 380us/step - loss: 0.0145 - accuracy: 1.0000\n",
            "Epoch 167/200\n",
            "93/93 [==============================] - 0s 456us/step - loss: 0.0055 - accuracy: 1.0000\n",
            "Epoch 168/200\n",
            "93/93 [==============================] - 0s 461us/step - loss: 0.0012 - accuracy: 1.0000\n",
            "Epoch 169/200\n",
            "93/93 [==============================] - 0s 342us/step - loss: 0.0052 - accuracy: 1.0000\n",
            "Epoch 170/200\n",
            "93/93 [==============================] - 0s 356us/step - loss: 0.0175 - accuracy: 0.9892\n",
            "Epoch 171/200\n",
            "93/93 [==============================] - 0s 341us/step - loss: 0.0029 - accuracy: 1.0000\n",
            "Epoch 172/200\n",
            "93/93 [==============================] - 0s 391us/step - loss: 0.0246 - accuracy: 1.0000\n",
            "Epoch 173/200\n",
            "93/93 [==============================] - 0s 408us/step - loss: 0.0150 - accuracy: 1.0000\n",
            "Epoch 174/200\n",
            "93/93 [==============================] - 0s 378us/step - loss: 0.0050 - accuracy: 1.0000\n",
            "Epoch 175/200\n",
            "93/93 [==============================] - 0s 332us/step - loss: 0.0086 - accuracy: 1.0000\n",
            "Epoch 176/200\n",
            "93/93 [==============================] - 0s 352us/step - loss: 0.0029 - accuracy: 1.0000\n",
            "Epoch 177/200\n",
            "93/93 [==============================] - 0s 402us/step - loss: 0.0035 - accuracy: 1.0000\n",
            "Epoch 178/200\n",
            "93/93 [==============================] - 0s 419us/step - loss: 0.0084 - accuracy: 1.0000\n",
            "Epoch 179/200\n",
            "93/93 [==============================] - 0s 400us/step - loss: 0.0075 - accuracy: 1.0000\n",
            "Epoch 180/200\n",
            "93/93 [==============================] - 0s 375us/step - loss: 0.0020 - accuracy: 1.0000\n",
            "Epoch 181/200\n",
            "93/93 [==============================] - 0s 362us/step - loss: 0.0023 - accuracy: 1.0000\n",
            "Epoch 182/200\n",
            "93/93 [==============================] - 0s 374us/step - loss: 0.0139 - accuracy: 1.0000\n",
            "Epoch 183/200\n",
            "93/93 [==============================] - 0s 364us/step - loss: 0.0043 - accuracy: 1.0000\n",
            "Epoch 184/200\n",
            "93/93 [==============================] - 0s 367us/step - loss: 0.0024 - accuracy: 1.0000\n",
            "Epoch 185/200\n",
            "93/93 [==============================] - 0s 425us/step - loss: 0.0228 - accuracy: 0.9892\n",
            "Epoch 186/200\n",
            "93/93 [==============================] - 0s 526us/step - loss: 0.0049 - accuracy: 1.0000\n",
            "Epoch 187/200\n",
            "93/93 [==============================] - 0s 431us/step - loss: 0.0079 - accuracy: 1.0000\n",
            "Epoch 188/200\n",
            "93/93 [==============================] - 0s 440us/step - loss: 0.0035 - accuracy: 1.0000\n",
            "Epoch 189/200\n",
            "93/93 [==============================] - 0s 383us/step - loss: 0.0016 - accuracy: 1.0000\n",
            "Epoch 190/200\n",
            "93/93 [==============================] - 0s 390us/step - loss: 7.2836e-04 - accuracy: 1.0000\n",
            "Epoch 191/200\n",
            "93/93 [==============================] - 0s 435us/step - loss: 0.0063 - accuracy: 1.0000\n",
            "Epoch 192/200\n",
            "93/93 [==============================] - 0s 388us/step - loss: 0.0188 - accuracy: 0.9892\n",
            "Epoch 193/200\n",
            "93/93 [==============================] - 0s 375us/step - loss: 0.0074 - accuracy: 1.0000\n",
            "Epoch 194/200\n",
            "93/93 [==============================] - 0s 411us/step - loss: 0.0081 - accuracy: 1.0000\n",
            "Epoch 195/200\n",
            "93/93 [==============================] - 0s 333us/step - loss: 0.0253 - accuracy: 0.9892\n",
            "Epoch 196/200\n",
            "93/93 [==============================] - 0s 408us/step - loss: 0.0045 - accuracy: 1.0000\n",
            "Epoch 197/200\n",
            "93/93 [==============================] - 0s 374us/step - loss: 0.0056 - accuracy: 1.0000\n",
            "Epoch 198/200\n",
            "93/93 [==============================] - 0s 340us/step - loss: 0.0281 - accuracy: 0.9892\n",
            "Epoch 199/200\n",
            "93/93 [==============================] - 0s 354us/step - loss: 0.0014 - accuracy: 1.0000\n",
            "Epoch 200/200\n",
            "93/93 [==============================] - 0s 356us/step - loss: 0.0011 - accuracy: 1.0000\n",
            "model created\n"
          ],
          "name": "stdout"
        }
      ]
    },
    {
      "cell_type": "code",
      "metadata": {
        "id": "MrSiB3UxtlJl"
      },
      "source": [
        ""
      ],
      "execution_count": null,
      "outputs": []
    }
  ]
}