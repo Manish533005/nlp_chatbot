{
  "nbformat": 4,
  "nbformat_minor": 0,
  "metadata": {
    "colab": {
      "name": "training _data _building _model",
      "provenance": [],
      "authorship_tag": "ABX9TyOAmP++iR3GGWQUiRO35GWW",
      "include_colab_link": true
    },
    "kernelspec": {
      "name": "python3",
      "display_name": "Python 3"
    }
  },
  "cells": [
    {
      "cell_type": "markdown",
      "metadata": {
        "id": "view-in-github",
        "colab_type": "text"
      },
      "source": [
        "<a href=\"https://colab.research.google.com/github/Manish533005/nlp_chatbot/blob/main/training__data__building__model.ipynb\" target=\"_parent\"><img src=\"https://colab.research.google.com/assets/colab-badge.svg\" alt=\"Open In Colab\"/></a>"
      ]
    },
    {
      "cell_type": "code",
      "metadata": {
        "colab": {
          "base_uri": "https://localhost:8080/"
        },
        "id": "SLcFwm4qbz6z",
        "outputId": "f33ae63f-3c08-457c-f192-3ce9ce9a814e"
      },
      "source": [
        "%tensorflow_version 1.x\r\n",
        "import tensorflow as tf\r\n",
        "from tensorflow import keras\r\n",
        "from keras.models import Sequential\r\n",
        "from keras.layers import Dense, Activation, Dropout\r\n",
        "from keras.optimizers import SGD\r\n",
        "import numpy as np\r\n",
        "import json\r\n",
        "import spacy\r\n",
        "import random\r\n",
        "import pickle\r\n",
        "print(tf.__version__)"
      ],
      "execution_count": null,
      "outputs": [
        {
          "output_type": "stream",
          "text": [
            "1.15.2\n"
          ],
          "name": "stdout"
        }
      ]
    },
    {
      "cell_type": "code",
      "metadata": {
        "colab": {
          "base_uri": "https://localhost:8080/"
        },
        "id": "4iNSrBGBt8uo",
        "outputId": "aebf78f9-6baa-4859-c4a8-eb0d5f9fb830"
      },
      "source": [
        "import spacy\r\n",
        "sp = spacy.load('en_core_web_sm')\r\n",
        "\r\n",
        "all_stopwords = sp.Defaults.stop_words\r\n",
        "\r\n",
        "text = \"I am Manish,Nick likes to play football, however he is not too fond of tennis.\"\r\n",
        "text_tokens = sp(text)\r\n",
        "tokens_without_sw= [word for word in text_tokens if not word in all_stopwords]\r\n",
        "\r\n",
        "print(tokens_without_sw)\r\n"
      ],
      "execution_count": null,
      "outputs": [
        {
          "output_type": "stream",
          "text": [
            "[I, am, Manish, ,, Nick, likes, to, play, football, ,, however, he, is, not, too, fond, of, tennis, .]\n"
          ],
          "name": "stdout"
        }
      ]
    },
    {
      "cell_type": "code",
      "metadata": {
        "id": "6udOegu_c3cA"
      },
      "source": [
        "#loading dataset(json file) into a file \r\n",
        "data_file=open(\"chatbot_dataset.json\",\"r\")\r\n",
        "intents=json.load(data_file)"
      ],
      "execution_count": null,
      "outputs": []
    },
    {
      "cell_type": "code",
      "metadata": {
        "id": "K1GtiacGdhUv",
        "colab": {
          "base_uri": "https://localhost:8080/"
        },
        "outputId": "dd53e2d0-a560-4b5f-dbd0-2372d77c2885"
      },
      "source": [
        "words=[] #contains the total words in the dataset\r\n",
        "classes=[]# contains the categories\r\n",
        "documents=[]#contains patterns and categories as tuples in the list\r\n",
        "ignore_words=[\"?\",\".\",\"!\",\" \",\",\"]\r\n",
        "en_lang_model=spacy.load(\"en_core_web_sm\")\r\n",
        "\r\n",
        "all_stopwords=en_lang_model.Defaults.stop_words\r\n",
        "print(all_stopwords)\r\n"
      ],
      "execution_count": null,
      "outputs": [
        {
          "output_type": "stream",
          "text": [
            "{'i', 'not', 'our', 'side', 'am', 'hundred', 'please', 'seemed', 'take', 'have', 'thereupon', 'neither', 'about', 'both', 'each', 'few', 'she', '‘d', 'serious', 'unless', 'much', 'us', 'former', 'well', 'what', 'whether', 'for', 'twenty', 'ever', 'and', 'off', 'are', 'itself', 'a', 'themselves', 'also', \"n't\", 'none', 'due', 'noone', 'empty', 'least', 'nine', 'several', 'therefore', 'show', 'eleven', 'never', 'everywhere', 'something', 'do', 'the', 'alone', 'can', 'yourselves', 'these', 'except', 'down', 'would', 'then', 'formerly', 'into', 'whereafter', 'without', 'further', 'go', 'mostly', 'often', 'whoever', 'because', 'became', 'through', '’s', 'hereafter', 'been', 'beyond', 'since', 'hers', 'hereby', 'amongst', 'every', 'perhaps', 'toward', 'which', 'be', 'bottom', 'during', 'anywhere', 'had', 'him', 'how', 'seem', 'sixty', 'thus', 'via', 'either', 'that', 'fifteen', 'myself', 'wherein', 'whom', 'thence', 'by', 'above', 'nobody', 'such', 'ten', 'though', 'along', 'becoming', 'towards', 'will', 'elsewhere', 'just', 'another', 'must', 'really', 'six', 'throughout', 'four', 'keep', 'they', 'seems', 'somewhere', 'two', 'quite', 'an', 'most', 'becomes', 'whose', 'five', 'nothing', 'using', 'when', 'cannot', 'latter', 'of', 'other', 're', 'very', 'has', 'there', 'within', 'else', 'might', 'used', 'n’t', 'various', 'herein', 'regarding', 'all', 'last', 'his', '’ll', 'after', 'always', 'whereas', '‘s', 'were', \"'re\", 'almost', 'nowhere', 'doing', 'enough', 'too', 'twelve', 'while', 'call', 'forty', 'already', 'here', 'whence', 'meanwhile', 'same', '‘m', 'once', 'out', 'say', 'again', 'over', 'mine', 'himself', 'thereby', 'nevertheless', 'still', 'until', 'her', 'around', 'now', 'indeed', 'otherwise', 'in', 'anyone', 'below', 'may', 'under', 'more', 'whenever', 'own', \"'d\", 'my', 'them', 'on', 'hereupon', 'third', 'anyway', 'name', 'up', '‘ve', 'behind', 'why', 'besides', 'its', 'somehow', 'should', 'sometime', 'amount', 'someone', 'done', 'move', 'could', 'next', 'upon', 'nor', 'we', 'herself', 'beforehand', 'per', 'or', 'but', 'their', 'who', 'with', '’ve', 'many', 'made', 'afterwards', 'onto', 'everyone', 'this', '‘ll', 'whatever', 'between', 'no', 'as', 'everything', 'before', 'only', 'so', 'top', 'does', 'ours', 'seeming', 'your', 'latterly', 'front', 'fifty', 'become', 'ourselves', 'whole', 'to', 'beside', '’m', 'was', \"'ve\", 'n‘t', 'you', 'it', 'first', \"'ll\", '’re', 'part', 'at', 'across', 'yourself', 'although', 'even', 'others', 'namely', 'put', 'thru', '’d', 'three', 'any', 'see', 'me', 'back', 'among', 'whither', 'hence', 'whereby', '‘re', 'anything', 'anyhow', 'together', \"'m\", 'than', 'whereupon', 'full', 'ca', 'however', 'if', 'yours', 'thereafter', 'against', 'some', 'yet', 'moreover', 'one', 'being', 'is', 'rather', 'therein', 'did', 'eight', 'from', 'get', 'less', 'make', 'he', 'sometimes', 'those', \"'s\", 'where', 'wherever', 'give'}\n"
          ],
          "name": "stdout"
        }
      ]
    },
    {
      "cell_type": "code",
      "metadata": {
        "id": "C2NrL9_vdjU_"
      },
      "source": [
        "for intent in intents['intents']:\r\n",
        "    for pattern in intent['patterns']:\r\n",
        "        #tokenize each word\r\n",
        "        tokens= en_lang_model(pattern)\r\n",
        "        l=[]\r\n",
        "        for i in tokens:\r\n",
        "             i=str(i)\r\n",
        "             l.append(i)\r\n",
        "        words.extend(l)\r\n",
        "        #add documents in the corpus\r\n",
        "        \r\n",
        "        documents.append((l, intent['tag']))\r\n",
        "\r\n",
        "        # add to our classes list\r\n",
        "        if intent['tag'] not in classes:\r\n",
        "            classes.append(intent['tag'])"
      ],
      "execution_count": null,
      "outputs": []
    },
    {
      "cell_type": "code",
      "metadata": {
        "colab": {
          "base_uri": "https://localhost:8080/"
        },
        "id": "7q5U17jBUw-t",
        "outputId": "c15ef829-8cd3-4ab1-daae-7ebecbc79f25"
      },
      "source": [
        "for intent in intents['intents']:\r\n",
        "    k=intent['tag']\r\n",
        "    print(k)\r\n",
        "    "
      ],
      "execution_count": null,
      "outputs": [
        {
          "output_type": "stream",
          "text": [
            "greetings\n",
            "Bye\n",
            "order_food\n",
            "cancel_food\n",
            "edit_order\n",
            "add_menu\n",
            "remove_menu\n",
            "confirm_order\n",
            "food_item\n",
            "pizza_size\n",
            "Non-Veg Pizza\n",
            "Veg Pizza\n",
            "Beverages\n",
            "Slides\n"
          ],
          "name": "stdout"
        }
      ]
    },
    {
      "cell_type": "code",
      "metadata": {
        "colab": {
          "base_uri": "https://localhost:8080/"
        },
        "id": "TrfPd4OIfh26",
        "outputId": "1877b09b-cf17-4813-a166-234e10c9ec4a"
      },
      "source": [
        "print(words)\r\n",
        "print(documents)\r\n",
        "print(classes)"
      ],
      "execution_count": null,
      "outputs": [
        {
          "output_type": "stream",
          "text": [
            "['Hello', 'Hi', 'Hey', 'Hi', 'there', 'Bye', 'See', 'you', 'later', 'Goodbye', 'Nice', 'chatting', 'to', 'you', ',', 'bye', 'Till', 'next', 'time', 'order', 'food', 'food', 'order', 'order', 'I', 'want', 'to', 'order', 'food', 'Can', 'I', 'have', 'some', 'pizza', 'Are', 'pizza', \"'s\", 'available', 'What', 'variety', 'of', 'pizzas', 'are', 'available', 'Is', 'pizza', 'available', 'Some', 'pizza', 'please', 'Can', 'I', 'order', 'pizza', 'Are', 'veg', 'pizzas', 'available', 'Are', 'non', 'veg', 'pizzas', 'available', 'I', 'am', 'hungry', 'I', 'want', 'some', 'food', 'is', 'food', 'available', 'Can', 'I', 'view', 'the', 'menu', 'please', 'Menu', 'Menu', 'please', 'What', 'is', 'the', 'menu', 'What', 'can', 'i', 'order', 'pizza', 'Is', 'combo', 'available', 'Combo', 'please', 'Combo', 'What', 'is', 'today', \"'s\", 'menu', 'What', 'food', 'is', 'there', 'today', 'Is', 'food', 'there', 'Best', 'pizza', 'in', 'town', 'Best', 'pizza', 'in', 'city', 'Best', 'non', '-', 'veg', 'pizza', 'in', 'town', 'Best', 'veg', 'pizza', 'in', 'town', 'Best', 'veg', 'pizza', 'in', 'city', 'Best', 'non', 'veg', 'pizza', 'in', 'city', 'Veg', 'Pizza', 'Non', '-', 'veg', 'pizza', 'Can', 'you', 'show', 'menu', 'Can', 'I', 'see', 'the', 'menu', 'What', 'have', 'you', 'got', 'What', 'can', 'I', 'get', 'Show', 'menu', 'Show', 'what', 'I', 'can', 'get', 'Menu', 'menu', 'I', 'am', 'hungry', 'cancel', 'the', 'order', 'cancel', 'order', 'cancel', 'cancle', 'I', 'want', 'to', 'edit', 'my', 'order', 'edit', 'order', 'edit', 'I', 'want', 'to', 'change', 'something', 'I', 'want', 'to', 'change', 'my', 'order', 'Can', 'I', 'edit', 'my', 'order', 'I', 'want', 'to', 'edit', 'Request', 'to', 'edit', 'add', 'add', 'item', 'add', 'items', 'remove', 'remove', 'items', 'remove', 'item', 'confirm', 'order', 'I', 'want', 'to', 'confirm', 'order', 'confirm', ' ', 'want', 'to', 'confirm', 'order', 'chicken', 'dominator', 'small', 'large', 'medium', 'Non', '-', 'veg', 'Pizza', 'Non', '-', 'Veg', 'pizzas', 'Non', '-', 'Veg', 'pizzas', 'please', 'Non', '-', 'Veg', 'pizza', 'please', 'Non', '-', 'Veg', 'Non', '-', 'Veg', 'please', 'veg', 'Pizza', 'Veg', 'pizzas', 'Veg', 'pizzas', 'please', 'Veg', 'pizza', 'please', 'Veg', 'Veg', 'please', 'Beverages', 'Beverage', 'Beverages', 'please', 'Beverage', 'please', 'Some', 'beverage', 'please', 'Some', 'beverages', 'please', 'Slides', 'Slide', 'Slides', 'please', 'Slide', 'please', 'Some', 'slide', 'please', 'Some', 'slides', 'please']\n",
            "[(['Hello'], 'greetings'), (['Hi'], 'greetings'), (['Hey'], 'greetings'), (['Hi', 'there'], 'greetings'), (['Bye'], 'Bye'), (['See', 'you', 'later'], 'Bye'), (['Goodbye'], 'Bye'), (['Nice', 'chatting', 'to', 'you', ',', 'bye'], 'Bye'), (['Till', 'next', 'time'], 'Bye'), (['order', 'food'], 'order_food'), (['food', 'order'], 'order_food'), (['order'], 'order_food'), (['I', 'want', 'to', 'order', 'food'], 'order_food'), (['Can', 'I', 'have', 'some', 'pizza'], 'order_food'), (['Are', 'pizza', \"'s\", 'available'], 'order_food'), (['What', 'variety', 'of', 'pizzas', 'are', 'available'], 'order_food'), (['Is', 'pizza', 'available'], 'order_food'), (['Some', 'pizza', 'please'], 'order_food'), (['Can', 'I', 'order', 'pizza'], 'order_food'), (['Are', 'veg', 'pizzas', 'available'], 'order_food'), (['Are', 'non', 'veg', 'pizzas', 'available'], 'order_food'), (['I', 'am', 'hungry'], 'order_food'), (['I', 'want', 'some', 'food'], 'order_food'), (['is', 'food', 'available'], 'order_food'), (['Can', 'I', 'view', 'the', 'menu', 'please'], 'order_food'), (['Menu'], 'order_food'), (['Menu', 'please'], 'order_food'), (['What', 'is', 'the', 'menu'], 'order_food'), (['What', 'can', 'i', 'order'], 'order_food'), (['pizza'], 'order_food'), (['Is', 'combo', 'available'], 'order_food'), (['Combo', 'please'], 'order_food'), (['Combo'], 'order_food'), (['What', 'is', 'today', \"'s\", 'menu'], 'order_food'), (['What', 'food', 'is', 'there', 'today'], 'order_food'), (['Is', 'food', 'there'], 'order_food'), (['Best', 'pizza', 'in', 'town'], 'order_food'), (['Best', 'pizza', 'in', 'city'], 'order_food'), (['Best', 'non', '-', 'veg', 'pizza', 'in', 'town'], 'order_food'), (['Best', 'veg', 'pizza', 'in', 'town'], 'order_food'), (['Best', 'veg', 'pizza', 'in', 'city'], 'order_food'), (['Best', 'non', 'veg', 'pizza', 'in', 'city'], 'order_food'), (['Veg', 'Pizza'], 'order_food'), (['Non', '-', 'veg', 'pizza'], 'order_food'), (['Can', 'you', 'show', 'menu'], 'order_food'), (['Can', 'I', 'see', 'the', 'menu'], 'order_food'), (['What', 'have', 'you', 'got'], 'order_food'), (['What', 'can', 'I', 'get'], 'order_food'), (['Show', 'menu'], 'order_food'), (['Show', 'what', 'I', 'can', 'get'], 'order_food'), (['Menu'], 'order_food'), (['menu'], 'order_food'), (['I', 'am', 'hungry'], 'order_food'), (['cancel', 'the', 'order'], 'cancel_food'), (['cancel', 'order'], 'cancel_food'), (['cancel'], 'cancel_food'), (['cancle'], 'cancel_food'), (['I', 'want', 'to', 'edit', 'my', 'order'], 'edit_order'), (['edit', 'order'], 'edit_order'), (['edit'], 'edit_order'), (['I', 'want', 'to', 'change', 'something'], 'edit_order'), (['I', 'want', 'to', 'change', 'my', 'order'], 'edit_order'), (['Can', 'I', 'edit', 'my', 'order'], 'edit_order'), (['I', 'want', 'to', 'edit'], 'edit_order'), (['Request', 'to', 'edit'], 'edit_order'), (['add'], 'add_menu'), (['add', 'item'], 'add_menu'), (['add', 'items'], 'add_menu'), (['remove'], 'remove_menu'), (['remove', 'items'], 'remove_menu'), (['remove', 'item'], 'remove_menu'), (['confirm', 'order'], 'confirm_order'), (['I', 'want', 'to', 'confirm', 'order'], 'confirm_order'), (['confirm'], 'confirm_order'), ([' ', 'want', 'to', 'confirm', 'order'], 'confirm_order'), (['chicken', 'dominator'], 'food_item'), (['small'], 'pizza_size'), (['large'], 'pizza_size'), (['medium'], 'pizza_size'), (['Non', '-', 'veg', 'Pizza'], 'Non-Veg Pizza'), (['Non', '-', 'Veg', 'pizzas'], 'Non-Veg Pizza'), (['Non', '-', 'Veg', 'pizzas', 'please'], 'Non-Veg Pizza'), (['Non', '-', 'Veg', 'pizza', 'please'], 'Non-Veg Pizza'), (['Non', '-', 'Veg'], 'Non-Veg Pizza'), (['Non', '-', 'Veg', 'please'], 'Non-Veg Pizza'), (['veg', 'Pizza'], 'Veg Pizza'), (['Veg', 'pizzas'], 'Veg Pizza'), (['Veg', 'pizzas', 'please'], 'Veg Pizza'), (['Veg', 'pizza', 'please'], 'Veg Pizza'), (['Veg'], 'Veg Pizza'), (['Veg', 'please'], 'Veg Pizza'), (['Beverages'], 'Beverages'), (['Beverage'], 'Beverages'), (['Beverages', 'please'], 'Beverages'), (['Beverage', 'please'], 'Beverages'), (['Some', 'beverage', 'please'], 'Beverages'), (['Some', 'beverages', 'please'], 'Beverages'), (['Slides'], 'Slides'), (['Slide'], 'Slides'), (['Slides', 'please'], 'Slides'), (['Slide', 'please'], 'Slides'), (['Some', 'slide', 'please'], 'Slides'), (['Some', 'slides', 'please'], 'Slides')]\n",
            "['greetings', 'Bye', 'order_food', 'cancel_food', 'edit_order', 'add_menu', 'remove_menu', 'confirm_order', 'food_item', 'pizza_size', 'Non-Veg Pizza', 'Veg Pizza', 'Beverages', 'Slides']\n"
          ],
          "name": "stdout"
        }
      ]
    },
    {
      "cell_type": "code",
      "metadata": {
        "id": "EfgWvBvdfxI0"
      },
      "source": [
        "#prepeocessing of the dataset\r\n",
        "#lemmatize each word(lower)\r\n",
        "#remove the duplicate words\r\n",
        "# neglecting the words (ingnore_words)\r\n",
        "words=[en_lang_model(w.lower())[0].lemma_  for w in words if w not in ignore_words]\r\n",
        "words=[ w for w in words if w not in all_stopwords]\r\n",
        "#sorting the words in alphabetical order\r\n",
        "words=sorted(list(set(words)))\r\n",
        "#sorting the categories in alphabetical order\r\n",
        "classes = sorted(list(set(classes)))"
      ],
      "execution_count": null,
      "outputs": []
    },
    {
      "cell_type": "code",
      "metadata": {
        "id": "WZN42Fcmhyzw",
        "colab": {
          "base_uri": "https://localhost:8080/"
        },
        "outputId": "fb211e50-acaa-4b27-c4bd-a28eb12d133a"
      },
      "source": [
        "print(words)\r\n"
      ],
      "execution_count": null,
      "outputs": [
        {
          "output_type": "stream",
          "text": [
            "['-', '-PRON-', 'add', 'available', 'beverage', 'bye', 'cancel', 'cancle', 'change', 'chat', 'chicken', 'city', 'combo', 'confirm', 'dominator', 'edit', 'food', 'good', 'goodbye', 'hello', 'hey', 'hi', 'hungry', 'item', 'large', 'later', 'medium', 'menu', 'nice', 'non', 'order', 'pizza', 'remove', 'request', 'slide', 'small', 'till', 'time', 'today', 'town', 'variety', 'veg', 'view', 'want']\n"
          ],
          "name": "stdout"
        }
      ]
    },
    {
      "cell_type": "code",
      "metadata": {
        "colab": {
          "base_uri": "https://localhost:8080/"
        },
        "id": "Js2nSwM_ibld",
        "outputId": "79b71fec-6f8a-4df1-d0fb-06606045a9f9"
      },
      "source": [
        "print(classes)"
      ],
      "execution_count": null,
      "outputs": [
        {
          "output_type": "stream",
          "text": [
            "['Beverages', 'Bye', 'Non-Veg Pizza', 'Slides', 'Veg Pizza', 'add_menu', 'cancel_food', 'confirm_order', 'edit_order', 'food_item', 'greetings', 'order_food', 'pizza_size', 'remove_menu']\n"
          ],
          "name": "stdout"
        }
      ]
    },
    {
      "cell_type": "code",
      "metadata": {
        "id": "-DKzzpVajEGU"
      },
      "source": [
        "pickle.dump(words,open('words.pkl','wb'))\r\n",
        "pickle.dump(classes,open('classes.pkl','wb'))"
      ],
      "execution_count": null,
      "outputs": []
    },
    {
      "cell_type": "code",
      "metadata": {
        "colab": {
          "base_uri": "https://localhost:8080/"
        },
        "id": "0ziERjOLjIPF",
        "outputId": "eb94eaa5-b8df-4fa1-a26d-a976a3b20ed9"
      },
      "source": [
        "#creating the training data\r\n",
        "#encoding technique\r\n",
        "# create our training data\r\n",
        "training = []\r\n",
        "# create an empty array for our output\r\n",
        "output_empty = [0] * len(classes)\r\n",
        "for doc in documents:\r\n",
        "    # initialize our bag of words\r\n",
        "    bag = []\r\n",
        "    # list of tokenized words for the pattern\r\n",
        "    pattern_words = doc[0]\r\n",
        "    # lemmatize each word - create base word, in attempt to represent related words\r\n",
        "    pattern_words = [en_lang_model(word.lower())[0].lemma_ for word in pattern_words]\r\n",
        "    # create our bag of words array with 1, if word match found in current pattern\r\n",
        "    for w in words:\r\n",
        "        bag.append(1) if w in pattern_words else bag.append(0)\r\n",
        "    \r\n",
        "    # output is a '0' for each tag and '1' for current tag (for each pattern)\r\n",
        "    output_row = list(output_empty)\r\n",
        "    output_row[classes.index(doc[1])] = 1\r\n",
        "    \r\n",
        "    training.append([bag, output_row])\r\n",
        "# shuffle our features and turn into np.array\r\n",
        "random.shuffle(training)\r\n",
        "training = np.array(training)\r\n",
        "# create train and test lists. X - patterns, Y - intents\r\n",
        "train_x = list(training[:,0])\r\n",
        "train_y = list(training[:,1])\r\n",
        "print(\"Training data created\")"
      ],
      "execution_count": null,
      "outputs": [
        {
          "output_type": "stream",
          "text": [
            "Training data created\n"
          ],
          "name": "stdout"
        },
        {
          "output_type": "stream",
          "text": [
            "/usr/local/lib/python3.6/dist-packages/ipykernel_launcher.py:25: VisibleDeprecationWarning: Creating an ndarray from ragged nested sequences (which is a list-or-tuple of lists-or-tuples-or ndarrays with different lengths or shapes) is deprecated. If you meant to do this, you must specify 'dtype=object' when creating the ndarray\n"
          ],
          "name": "stderr"
        }
      ]
    },
    {
      "cell_type": "code",
      "metadata": {
        "colab": {
          "base_uri": "https://localhost:8080/"
        },
        "id": "fsHeiNu2rw_-",
        "outputId": "5dcaa9f1-e290-48b8-ea26-9fa88ef2e6bc"
      },
      "source": [
        "print(train_y)"
      ],
      "execution_count": null,
      "outputs": [
        {
          "output_type": "stream",
          "text": [
            "[[0, 0, 0, 0, 0, 0, 0, 0, 1, 0, 0, 0, 0, 0], [0, 0, 0, 0, 0, 0, 0, 0, 0, 0, 0, 0, 1, 0], [0, 0, 0, 0, 0, 0, 0, 0, 0, 0, 0, 1, 0, 0], [0, 0, 0, 0, 0, 0, 1, 0, 0, 0, 0, 0, 0, 0], [0, 0, 0, 0, 0, 0, 0, 0, 0, 0, 0, 0, 1, 0], [0, 0, 0, 0, 0, 0, 0, 0, 0, 0, 0, 1, 0, 0], [0, 0, 0, 0, 0, 0, 0, 0, 0, 0, 0, 1, 0, 0], [0, 0, 0, 0, 0, 0, 0, 0, 0, 0, 0, 1, 0, 0], [0, 0, 0, 0, 0, 0, 0, 0, 1, 0, 0, 0, 0, 0], [0, 0, 0, 0, 0, 0, 0, 0, 1, 0, 0, 0, 0, 0], [0, 0, 0, 0, 1, 0, 0, 0, 0, 0, 0, 0, 0, 0], [0, 0, 0, 0, 0, 0, 0, 0, 0, 0, 0, 1, 0, 0], [0, 0, 0, 0, 0, 0, 0, 0, 0, 0, 0, 1, 0, 0], [0, 0, 0, 0, 1, 0, 0, 0, 0, 0, 0, 0, 0, 0], [0, 1, 0, 0, 0, 0, 0, 0, 0, 0, 0, 0, 0, 0], [0, 0, 0, 0, 0, 0, 0, 1, 0, 0, 0, 0, 0, 0], [0, 0, 0, 0, 0, 0, 0, 0, 1, 0, 0, 0, 0, 0], [0, 0, 0, 1, 0, 0, 0, 0, 0, 0, 0, 0, 0, 0], [0, 0, 0, 0, 0, 0, 0, 0, 0, 0, 0, 1, 0, 0], [0, 0, 0, 0, 0, 0, 0, 0, 0, 0, 0, 1, 0, 0], [0, 0, 0, 0, 0, 0, 0, 0, 0, 0, 0, 1, 0, 0], [0, 0, 0, 0, 0, 0, 0, 0, 0, 0, 0, 1, 0, 0], [0, 0, 0, 0, 0, 0, 0, 0, 0, 0, 0, 1, 0, 0], [0, 1, 0, 0, 0, 0, 0, 0, 0, 0, 0, 0, 0, 0], [0, 0, 0, 0, 0, 0, 0, 0, 0, 0, 0, 1, 0, 0], [0, 0, 0, 0, 0, 1, 0, 0, 0, 0, 0, 0, 0, 0], [0, 0, 0, 0, 0, 0, 0, 1, 0, 0, 0, 0, 0, 0], [1, 0, 0, 0, 0, 0, 0, 0, 0, 0, 0, 0, 0, 0], [0, 0, 0, 0, 0, 0, 0, 0, 0, 0, 0, 1, 0, 0], [1, 0, 0, 0, 0, 0, 0, 0, 0, 0, 0, 0, 0, 0], [0, 0, 0, 0, 0, 0, 0, 0, 0, 0, 0, 1, 0, 0], [0, 0, 0, 0, 0, 0, 0, 0, 0, 0, 0, 1, 0, 0], [0, 0, 0, 0, 0, 0, 0, 0, 0, 0, 0, 1, 0, 0], [0, 0, 0, 0, 0, 0, 0, 0, 0, 0, 0, 1, 0, 0], [0, 0, 0, 0, 0, 0, 0, 0, 0, 0, 0, 1, 0, 0], [0, 0, 0, 0, 0, 0, 0, 0, 0, 0, 0, 1, 0, 0], [0, 0, 0, 0, 0, 0, 0, 0, 0, 0, 0, 0, 0, 1], [0, 0, 1, 0, 0, 0, 0, 0, 0, 0, 0, 0, 0, 0], [0, 0, 0, 0, 0, 0, 0, 0, 0, 0, 0, 0, 1, 0], [0, 0, 0, 0, 1, 0, 0, 0, 0, 0, 0, 0, 0, 0], [0, 0, 0, 0, 0, 0, 0, 0, 0, 0, 0, 1, 0, 0], [0, 1, 0, 0, 0, 0, 0, 0, 0, 0, 0, 0, 0, 0], [0, 0, 0, 0, 0, 1, 0, 0, 0, 0, 0, 0, 0, 0], [0, 0, 0, 0, 0, 0, 0, 0, 0, 0, 0, 1, 0, 0], [0, 0, 0, 0, 0, 0, 0, 0, 0, 0, 0, 1, 0, 0], [0, 0, 1, 0, 0, 0, 0, 0, 0, 0, 0, 0, 0, 0], [0, 0, 0, 0, 0, 0, 0, 0, 0, 0, 0, 1, 0, 0], [0, 0, 0, 0, 0, 0, 0, 0, 0, 0, 0, 1, 0, 0], [0, 0, 0, 0, 0, 0, 0, 0, 0, 0, 0, 1, 0, 0], [0, 0, 0, 0, 0, 0, 0, 0, 1, 0, 0, 0, 0, 0], [0, 0, 0, 0, 0, 0, 0, 0, 1, 0, 0, 0, 0, 0], [0, 0, 0, 0, 0, 0, 0, 0, 0, 0, 1, 0, 0, 0], [0, 0, 0, 1, 0, 0, 0, 0, 0, 0, 0, 0, 0, 0], [0, 0, 0, 0, 0, 0, 0, 0, 0, 0, 0, 1, 0, 0], [0, 0, 0, 0, 0, 0, 0, 0, 0, 0, 0, 1, 0, 0], [1, 0, 0, 0, 0, 0, 0, 0, 0, 0, 0, 0, 0, 0], [0, 0, 0, 0, 1, 0, 0, 0, 0, 0, 0, 0, 0, 0], [0, 0, 0, 0, 0, 0, 0, 0, 0, 0, 0, 1, 0, 0], [0, 0, 0, 0, 0, 0, 0, 0, 0, 0, 0, 1, 0, 0], [0, 0, 0, 0, 0, 0, 0, 0, 0, 0, 1, 0, 0, 0], [0, 0, 0, 1, 0, 0, 0, 0, 0, 0, 0, 0, 0, 0], [0, 0, 0, 0, 0, 0, 0, 0, 0, 0, 0, 1, 0, 0], [0, 0, 0, 0, 0, 0, 0, 0, 0, 0, 0, 1, 0, 0], [0, 0, 0, 0, 0, 0, 0, 0, 1, 0, 0, 0, 0, 0], [0, 0, 0, 0, 0, 0, 0, 0, 0, 0, 0, 1, 0, 0], [0, 0, 0, 0, 0, 0, 0, 0, 0, 0, 0, 1, 0, 0], [0, 0, 0, 0, 0, 0, 1, 0, 0, 0, 0, 0, 0, 0], [0, 0, 0, 0, 0, 0, 0, 1, 0, 0, 0, 0, 0, 0], [1, 0, 0, 0, 0, 0, 0, 0, 0, 0, 0, 0, 0, 0], [0, 0, 0, 0, 0, 0, 1, 0, 0, 0, 0, 0, 0, 0], [0, 0, 0, 0, 0, 0, 0, 0, 0, 0, 0, 1, 0, 0], [0, 0, 1, 0, 0, 0, 0, 0, 0, 0, 0, 0, 0, 0], [0, 0, 0, 1, 0, 0, 0, 0, 0, 0, 0, 0, 0, 0], [0, 0, 0, 0, 0, 0, 0, 0, 0, 0, 0, 1, 0, 0], [1, 0, 0, 0, 0, 0, 0, 0, 0, 0, 0, 0, 0, 0], [0, 0, 0, 0, 0, 0, 0, 0, 0, 0, 0, 1, 0, 0], [0, 0, 1, 0, 0, 0, 0, 0, 0, 0, 0, 0, 0, 0], [0, 0, 0, 0, 0, 0, 0, 0, 0, 0, 0, 1, 0, 0], [0, 0, 0, 1, 0, 0, 0, 0, 0, 0, 0, 0, 0, 0], [0, 0, 0, 0, 0, 0, 0, 0, 0, 0, 0, 1, 0, 0], [0, 0, 0, 0, 0, 0, 0, 0, 0, 0, 0, 1, 0, 0], [0, 0, 0, 0, 0, 0, 0, 0, 0, 0, 0, 1, 0, 0], [0, 0, 0, 0, 0, 0, 0, 0, 0, 1, 0, 0, 0, 0], [0, 0, 0, 0, 1, 0, 0, 0, 0, 0, 0, 0, 0, 0], [0, 0, 0, 0, 0, 0, 1, 0, 0, 0, 0, 0, 0, 0], [0, 0, 1, 0, 0, 0, 0, 0, 0, 0, 0, 0, 0, 0], [0, 0, 0, 0, 1, 0, 0, 0, 0, 0, 0, 0, 0, 0], [0, 0, 0, 0, 0, 0, 0, 1, 0, 0, 0, 0, 0, 0], [0, 0, 0, 0, 0, 0, 0, 0, 1, 0, 0, 0, 0, 0], [0, 0, 0, 0, 0, 0, 0, 0, 0, 0, 0, 1, 0, 0], [0, 1, 0, 0, 0, 0, 0, 0, 0, 0, 0, 0, 0, 0], [0, 0, 0, 0, 0, 0, 0, 0, 0, 0, 1, 0, 0, 0], [0, 0, 0, 0, 0, 0, 0, 0, 0, 0, 0, 1, 0, 0], [0, 0, 0, 0, 0, 0, 0, 0, 0, 0, 0, 0, 0, 1], [0, 0, 0, 0, 0, 0, 0, 0, 0, 0, 0, 1, 0, 0], [0, 1, 0, 0, 0, 0, 0, 0, 0, 0, 0, 0, 0, 0], [0, 0, 0, 0, 0, 1, 0, 0, 0, 0, 0, 0, 0, 0], [0, 0, 0, 0, 0, 0, 0, 0, 0, 0, 1, 0, 0, 0], [0, 0, 0, 0, 0, 0, 0, 0, 0, 0, 0, 1, 0, 0], [1, 0, 0, 0, 0, 0, 0, 0, 0, 0, 0, 0, 0, 0], [0, 0, 0, 1, 0, 0, 0, 0, 0, 0, 0, 0, 0, 0], [0, 0, 1, 0, 0, 0, 0, 0, 0, 0, 0, 0, 0, 0], [0, 0, 0, 0, 0, 0, 0, 0, 0, 0, 0, 0, 0, 1]]\n"
          ],
          "name": "stdout"
        }
      ]
    },
    {
      "cell_type": "code",
      "metadata": {
        "id": "EiA_tfRSr8b1"
      },
      "source": [
        "model =Sequential()\r\n",
        "model.add(Dense(128, input_shape=(len(train_x[0]),), activation='relu'))\r\n",
        "model.add(Dropout(0.5))\r\n",
        "model.add(Dense(64, activation='relu'))\r\n",
        "model.add(Dropout(0.5))\r\n",
        "model.add(Dense(len(train_y[0]), activation='softmax'))\r\n",
        "\r\n",
        "# Compile model. Stochastic gradient descent with Nesterov accelerated gradient gives good results for this model\r\n",
        "sgd = SGD(lr=0.01, decay=1e-6, momentum=0.9, nesterov=True)\r\n",
        "model.compile(loss='categorical_crossentropy', optimizer=sgd, metrics=['accuracy'])\r\n",
        "\r\n",
        "#fitting and saving the model \r\n",
        "hist = model.fit(np.array(train_x), np.array(train_y), epochs=200, batch_size=5, verbose=1)\r\n",
        "model.save('chatbot_3.h5', hist)\r\n",
        "\r\n",
        "print(\"model created\")"
      ],
      "execution_count": null,
      "outputs": []
    },
    {
      "cell_type": "code",
      "metadata": {
        "id": "MrSiB3UxtlJl"
      },
      "source": [
        ""
      ],
      "execution_count": null,
      "outputs": []
    }
  ]
}